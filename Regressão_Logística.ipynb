{
  "nbformat": 4,
  "nbformat_minor": 0,
  "metadata": {
    "colab": {
      "name": "Regressão Logística.ipynb",
      "provenance": [],
      "private_outputs": true,
      "authorship_tag": "ABX9TyO5SRpRWoyc52RGUHHbPw1U",
      "include_colab_link": true
    },
    "kernelspec": {
      "name": "python3",
      "display_name": "Python 3"
    }
  },
  "cells": [
    {
      "cell_type": "markdown",
      "metadata": {
        "id": "view-in-github",
        "colab_type": "text"
      },
      "source": [
        "<a href=\"https://colab.research.google.com/github/jonhsel/Data-Science/blob/master/Regress%C3%A3o_Log%C3%ADstica.ipynb\" target=\"_parent\"><img src=\"https://colab.research.google.com/assets/colab-badge.svg\" alt=\"Open In Colab\"/></a>"
      ]
    },
    {
      "cell_type": "markdown",
      "metadata": {
        "id": "XHweafc1p8DS",
        "colab_type": "text"
      },
      "source": [
        "#Regressão Logística"
      ]
    },
    {
      "cell_type": "code",
      "metadata": {
        "id": "DO8FxUfAolN6",
        "colab_type": "code",
        "colab": {}
      },
      "source": [
        "#import das bibliotecas\n",
        "import pandas as pd\n",
        "import matplotlib.pyplot as plt\n",
        "import seaborn as sns\n",
        "from sklearn.model_selection import train_test_split\n",
        "from sklearn.linear_model import LogisticRegression\n",
        "from sklearn.metrics import confusion_matrix\n",
        "from sklearn.metrics import classification_report"
      ],
      "execution_count": null,
      "outputs": []
    },
    {
      "cell_type": "code",
      "metadata": {
        "id": "eNr-pcL3xTko",
        "colab_type": "code",
        "colab": {}
      },
      "source": [
        "#importando o dataset e criando o dataframe\n",
        "PATH = \"http://dl.dropboxusercontent.com/s/6d91j46mkcdj4qv/heart-disease-clean.csv?dl=1\"\n",
        "\n",
        "df = pd.read_csv(PATH)\n",
        "df.head()"
      ],
      "execution_count": null,
      "outputs": []
    },
    {
      "cell_type": "code",
      "metadata": {
        "id": "c7C6TsL8ybHt",
        "colab_type": "code",
        "colab": {}
      },
      "source": [
        "df.shape"
      ],
      "execution_count": null,
      "outputs": []
    },
    {
      "cell_type": "code",
      "metadata": {
        "id": "XdBl-74eyiMp",
        "colab_type": "code",
        "colab": {}
      },
      "source": [
        "df.info()"
      ],
      "execution_count": null,
      "outputs": []
    },
    {
      "cell_type": "code",
      "metadata": {
        "id": "JoRj2ZOayqDR",
        "colab_type": "code",
        "colab": {}
      },
      "source": [
        "#verficar a presença de outliers\n",
        "df.describe()"
      ],
      "execution_count": null,
      "outputs": []
    },
    {
      "cell_type": "markdown",
      "metadata": {
        "id": "61d-gO2Vxx37",
        "colab_type": "text"
      },
      "source": [
        "A coluna `num` é variável target, onde `0` indica ausência da característica e `1` indica a presença."
      ]
    },
    {
      "cell_type": "markdown",
      "metadata": {
        "id": "JOuJAjeZyNm0",
        "colab_type": "text"
      },
      "source": [
        "Agora vamos separar a variável `target` da restante das `features`."
      ]
    },
    {
      "cell_type": "code",
      "metadata": {
        "id": "RaUaJ7htxlji",
        "colab_type": "code",
        "colab": {}
      },
      "source": [
        "# 2 - X recebe as features\n",
        "X = df.drop('num', axis=1)\n",
        "y = df['num']"
      ],
      "execution_count": null,
      "outputs": []
    },
    {
      "cell_type": "code",
      "metadata": {
        "id": "N3DjDocezNsd",
        "colab_type": "code",
        "colab": {}
      },
      "source": [
        "print(\"Formato original {}\".format(df.shape))\n",
        "print(\"Forma de X {}\".format(X.shape))\n",
        "print(\"Forma de y {}\".format(y.shape))"
      ],
      "execution_count": null,
      "outputs": []
    },
    {
      "cell_type": "code",
      "metadata": {
        "id": "aoIerASKzigN",
        "colab_type": "code",
        "colab": {}
      },
      "source": [
        "X.head()"
      ],
      "execution_count": null,
      "outputs": []
    },
    {
      "cell_type": "code",
      "metadata": {
        "id": "qLVz08a40qmX",
        "colab_type": "code",
        "colab": {}
      },
      "source": [
        "y.head()"
      ],
      "execution_count": null,
      "outputs": []
    },
    {
      "cell_type": "markdown",
      "metadata": {
        "id": "mBnZe6ac0vmU",
        "colab_type": "text"
      },
      "source": [
        "Dividir as amostras entre treino e teste"
      ]
    },
    {
      "cell_type": "code",
      "metadata": {
        "id": "SCe2oZPR0sNS",
        "colab_type": "code",
        "colab": {}
      },
      "source": [
        "# 2.1 - treino e test\n",
        "X_train, X_test, y_train, y_test = train_test_split(X, y)"
      ],
      "execution_count": null,
      "outputs": []
    },
    {
      "cell_type": "code",
      "metadata": {
        "id": "T8aHYxqc1G5X",
        "colab_type": "code",
        "colab": {}
      },
      "source": [
        "# 1 - criar o modelo de treino\n",
        "model = LogisticRegression()"
      ],
      "execution_count": null,
      "outputs": []
    },
    {
      "cell_type": "code",
      "metadata": {
        "id": "LKtEX71t1RRu",
        "colab_type": "code",
        "colab": {}
      },
      "source": [
        "# treinar o modelo com os dados de treino\n",
        "model.fit(X_train, y_train)"
      ],
      "execution_count": null,
      "outputs": []
    },
    {
      "cell_type": "markdown",
      "metadata": {
        "id": "xh6FFX_R67V_",
        "colab_type": "text"
      },
      "source": [
        "Esse problema ocorreu devido a falta de padronização dos dados quando se trabalha com Regressão Logística. Devemos colocá-los numa mesma escala."
      ]
    },
    {
      "cell_type": "code",
      "metadata": {
        "id": "_v8oS34G1bV3",
        "colab_type": "code",
        "colab": {}
      },
      "source": [
        "#biblioteca para padronização de dados \n",
        "from sklearn.preprocessing import StandardScaler"
      ],
      "execution_count": null,
      "outputs": []
    },
    {
      "cell_type": "code",
      "metadata": {
        "id": "JvUEMf4e725U",
        "colab_type": "code",
        "colab": {}
      },
      "source": [
        "# 2.2 - relaizar a padronização com os dados do X_train\n",
        "scaler = StandardScaler().fit(X_train)\n",
        "X_train = scaler.transform(X_train)\n"
      ],
      "execution_count": null,
      "outputs": []
    },
    {
      "cell_type": "code",
      "metadata": {
        "id": "ZL-PKpFi8-mi",
        "colab_type": "code",
        "colab": {}
      },
      "source": [
        "X_train"
      ],
      "execution_count": null,
      "outputs": []
    },
    {
      "cell_type": "code",
      "metadata": {
        "id": "b41p_7CN85uc",
        "colab_type": "code",
        "colab": {}
      },
      "source": [
        "# 3 - treinar o modelo novamente\n",
        "model.fit(X_train, y_train)"
      ],
      "execution_count": null,
      "outputs": []
    },
    {
      "cell_type": "code",
      "metadata": {
        "id": "DDwIKvHs9Xa_",
        "colab_type": "code",
        "colab": {}
      },
      "source": [
        "#4 - criar modelo de previsão\n",
        "#devemos padronizar tbm os dados do X_test\n",
        "X_test = scaler.transform(X_test)\n",
        "y_pred = model.predict(X_test)"
      ],
      "execution_count": null,
      "outputs": []
    },
    {
      "cell_type": "markdown",
      "metadata": {
        "id": "v2ge4g1sAB79",
        "colab_type": "text"
      },
      "source": [
        "Depois de treinado o modelo, podemos realizar as métricas de teste"
      ]
    },
    {
      "cell_type": "code",
      "metadata": {
        "id": "3VOpWcLS9i5F",
        "colab_type": "code",
        "colab": {}
      },
      "source": [
        "print(classification_report(y_test, y_pred))"
      ],
      "execution_count": null,
      "outputs": []
    },
    {
      "cell_type": "code",
      "metadata": {
        "id": "Cap9S5m_DEcA",
        "colab_type": "code",
        "colab": {}
      },
      "source": [
        "#calculo da probabilidade\n",
        "y_prob = model.predict_proba(X_test)"
      ],
      "execution_count": null,
      "outputs": []
    },
    {
      "cell_type": "code",
      "metadata": {
        "id": "k41S20_TDRcl",
        "colab_type": "code",
        "colab": {}
      },
      "source": [
        "#mostrar as probabilidades\n",
        "print(\"y_test\",y_pred[0:5])\n",
        "print(\"y_prob:\",y_prob[0:5])"
      ],
      "execution_count": null,
      "outputs": []
    },
    {
      "cell_type": "code",
      "metadata": {
        "id": "v32mxPbJAQmR",
        "colab_type": "code",
        "colab": {}
      },
      "source": [
        "fig, ax = plt.subplots(figsize=(10,10))\n",
        "\n",
        "sns.heatmap(confusion_matrix(y_test, y_pred), annot=True, ax=ax)\n",
        "ax.set_title(\"Matrix de confusão\")\n",
        "ax.set_ylabel(\"Verdadeiro\")\n",
        "ax.set_xlabel(\"Previsto\")\n",
        "plt.show()"
      ],
      "execution_count": null,
      "outputs": []
    },
    {
      "cell_type": "code",
      "metadata": {
        "id": "OaOx2OKGBx9r",
        "colab_type": "code",
        "colab": {}
      },
      "source": [
        ""
      ],
      "execution_count": null,
      "outputs": []
    }
  ]
}
{
  "nbformat": 4,
  "nbformat_minor": 0,
  "metadata": {
    "colab": {
      "name": "EDA MJSP.ipynb",
      "provenance": [],
      "toc_visible": true,
      "authorship_tag": "ABX9TyNDS69eQ5sn3Tl0xVYx8VlE",
      "include_colab_link": true
    },
    "kernelspec": {
      "name": "python3",
      "display_name": "Python 3"
    }
  },
  "cells": [
    {
      "cell_type": "markdown",
      "metadata": {
        "id": "view-in-github",
        "colab_type": "text"
      },
      "source": [
        "<a href=\"https://colab.research.google.com/github/jonhsel/Data-Science/blob/master/EDA_MJSP.ipynb\" target=\"_parent\"><img src=\"https://colab.research.google.com/assets/colab-badge.svg\" alt=\"Open In Colab\"/></a>"
      ]
    },
    {
      "cell_type": "markdown",
      "metadata": {
        "id": "rIDLxZI6fTO3",
        "colab_type": "text"
      },
      "source": [
        "#EDA - ANÁLISE DOS DADOS DE CRIMINALIDADE\n",
        "\n",
        "Neste trabalho realizo um EDA (Exploratory Data Analisys) com os dados fornecidos pelo Ministério da Justiça e Segurança Pública."
      ]
    },
    {
      "cell_type": "markdown",
      "metadata": {
        "id": "MyqJPJhOmmf-",
        "colab_type": "text"
      },
      "source": [
        "## Importação dos dados"
      ]
    },
    {
      "cell_type": "code",
      "metadata": {
        "id": "4uxGYWEPf62o",
        "colab_type": "code",
        "outputId": "fbaa569a-7fe1-4e66-c6f0-16f1848896c8",
        "colab": {
          "base_uri": "https://localhost:8080/",
          "height": 198
        }
      },
      "source": [
        "#fonte de dados\n",
        "DATA_PATH = \"https://raw.githubusercontent.com/jonhsel/Data-Science/master/dataset/indicadoressegurancapublicaufjan20.csv\"\n",
        "\n",
        "#importação de pacotes necessários\n",
        "import pandas as pd\n",
        "import numpy as np\n",
        "\n",
        "\n",
        "#importação do dataset\n",
        "df_mjsp = pd.read_csv(DATA_PATH,  encoding='utf-8') \n",
        "\n",
        "#visão do dataset\n",
        "df_mjsp.head()"
      ],
      "execution_count": 0,
      "outputs": [
        {
          "output_type": "execute_result",
          "data": {
            "text/html": [
              "<div>\n",
              "<style scoped>\n",
              "    .dataframe tbody tr th:only-of-type {\n",
              "        vertical-align: middle;\n",
              "    }\n",
              "\n",
              "    .dataframe tbody tr th {\n",
              "        vertical-align: top;\n",
              "    }\n",
              "\n",
              "    .dataframe thead th {\n",
              "        text-align: right;\n",
              "    }\n",
              "</style>\n",
              "<table border=\"1\" class=\"dataframe\">\n",
              "  <thead>\n",
              "    <tr style=\"text-align: right;\">\n",
              "      <th></th>\n",
              "      <th>UF</th>\n",
              "      <th>Tipo Crime</th>\n",
              "      <th>Ano</th>\n",
              "      <th>Mês</th>\n",
              "      <th>Vítimas</th>\n",
              "    </tr>\n",
              "  </thead>\n",
              "  <tbody>\n",
              "    <tr>\n",
              "      <th>0</th>\n",
              "      <td>Acre</td>\n",
              "      <td>Homicídio doloso</td>\n",
              "      <td>2015</td>\n",
              "      <td>janeiro</td>\n",
              "      <td>13</td>\n",
              "    </tr>\n",
              "    <tr>\n",
              "      <th>1</th>\n",
              "      <td>Acre</td>\n",
              "      <td>Homicídio doloso</td>\n",
              "      <td>2015</td>\n",
              "      <td>fevereiro</td>\n",
              "      <td>10</td>\n",
              "    </tr>\n",
              "    <tr>\n",
              "      <th>2</th>\n",
              "      <td>Acre</td>\n",
              "      <td>Homicídio doloso</td>\n",
              "      <td>2015</td>\n",
              "      <td>março</td>\n",
              "      <td>16</td>\n",
              "    </tr>\n",
              "    <tr>\n",
              "      <th>3</th>\n",
              "      <td>Acre</td>\n",
              "      <td>Homicídio doloso</td>\n",
              "      <td>2015</td>\n",
              "      <td>abril</td>\n",
              "      <td>22</td>\n",
              "    </tr>\n",
              "    <tr>\n",
              "      <th>4</th>\n",
              "      <td>Acre</td>\n",
              "      <td>Homicídio doloso</td>\n",
              "      <td>2015</td>\n",
              "      <td>maio</td>\n",
              "      <td>15</td>\n",
              "    </tr>\n",
              "  </tbody>\n",
              "</table>\n",
              "</div>"
            ],
            "text/plain": [
              "     UF        Tipo Crime   Ano        Mês  Vítimas\n",
              "0  Acre  Homicídio doloso  2015    janeiro       13\n",
              "1  Acre  Homicídio doloso  2015  fevereiro       10\n",
              "2  Acre  Homicídio doloso  2015      março       16\n",
              "3  Acre  Homicídio doloso  2015      abril       22\n",
              "4  Acre  Homicídio doloso  2015       maio       15"
            ]
          },
          "metadata": {
            "tags": []
          },
          "execution_count": 67
        }
      ]
    },
    {
      "cell_type": "markdown",
      "metadata": {
        "id": "0UZp3dTCmtMr",
        "colab_type": "text"
      },
      "source": [
        "## Análise do dataset"
      ]
    },
    {
      "cell_type": "markdown",
      "metadata": {
        "id": "gLRtuoaYjs3z",
        "colab_type": "text"
      },
      "source": [
        "Analisar como os dados estão inseridos no dataset. Verificando os tipos de dados."
      ]
    },
    {
      "cell_type": "code",
      "metadata": {
        "id": "xOASEq8PhY0I",
        "colab_type": "code",
        "outputId": "e04a0799-601b-494d-fb9d-0ab04f7c53f5",
        "colab": {
          "base_uri": "https://localhost:8080/",
          "height": 235
        }
      },
      "source": [
        "#verificar os elementos do dataset\n",
        "df_mjsp.info()"
      ],
      "execution_count": 0,
      "outputs": [
        {
          "output_type": "stream",
          "text": [
            "<class 'pandas.core.frame.DataFrame'>\n",
            "RangeIndex: 4532 entries, 0 to 4531\n",
            "Data columns (total 5 columns):\n",
            " #   Column      Non-Null Count  Dtype \n",
            "---  ------      --------------  ----- \n",
            " 0   UF          4532 non-null   object\n",
            " 1   Tipo Crime  4532 non-null   object\n",
            " 2   Ano         4532 non-null   int64 \n",
            " 3   Mês         4532 non-null   object\n",
            " 4   Vítimas     4532 non-null   int64 \n",
            "dtypes: int64(2), object(3)\n",
            "memory usage: 177.2+ KB\n"
          ],
          "name": "stdout"
        }
      ]
    },
    {
      "cell_type": "code",
      "metadata": {
        "id": "AxHU6DyUlCwE",
        "colab_type": "code",
        "outputId": "b87ff45c-58fd-4fe5-cc15-bdadb12586a7",
        "colab": {
          "base_uri": "https://localhost:8080/",
          "height": 35
        }
      },
      "source": [
        "df_mjsp.shape"
      ],
      "execution_count": 0,
      "outputs": [
        {
          "output_type": "execute_result",
          "data": {
            "text/plain": [
              "(4532, 5)"
            ]
          },
          "metadata": {
            "tags": []
          },
          "execution_count": 69
        }
      ]
    },
    {
      "cell_type": "markdown",
      "metadata": {
        "id": "dsoPbcIoj4DE",
        "colab_type": "text"
      },
      "source": [
        "Verifica-se que existem:\n",
        "*   05 colunas;\n",
        "*   4532 entradas;\n",
        "*   Não existem valores nulos;\n",
        "*   O Ano não está em `datetime`.\n",
        "\n",
        "\n"
      ]
    },
    {
      "cell_type": "markdown",
      "metadata": {
        "id": "1l-XHTGIm0-Q",
        "colab_type": "text"
      },
      "source": [
        "###Alteração de tipos de dados necessários"
      ]
    },
    {
      "cell_type": "markdown",
      "metadata": {
        "id": "pr8WZb-Wldin",
        "colab_type": "text"
      },
      "source": [
        "Devemos logo transformar o tipo da coluna `data` para datetime."
      ]
    },
    {
      "cell_type": "code",
      "metadata": {
        "id": "89Wyv3jdjnt7",
        "colab_type": "code",
        "outputId": "94cf4343-ace2-4227-af3f-ab46f517f3ef",
        "colab": {
          "base_uri": "https://localhost:8080/",
          "height": 1000
        }
      },
      "source": [
        "#transformando em datetime\n",
        "df_mjsp.Ano = pd.to_datetime(df_mjsp.Ano, format='%Y')\n",
        "df_mjsp.info()\n",
        "df_mjsp.head(40)"
      ],
      "execution_count": 0,
      "outputs": [
        {
          "output_type": "stream",
          "text": [
            "<class 'pandas.core.frame.DataFrame'>\n",
            "RangeIndex: 4532 entries, 0 to 4531\n",
            "Data columns (total 5 columns):\n",
            " #   Column      Non-Null Count  Dtype         \n",
            "---  ------      --------------  -----         \n",
            " 0   UF          4532 non-null   object        \n",
            " 1   Tipo Crime  4532 non-null   object        \n",
            " 2   Ano         4532 non-null   datetime64[ns]\n",
            " 3   Mês         4532 non-null   object        \n",
            " 4   Vítimas     4532 non-null   int64         \n",
            "dtypes: datetime64[ns](1), int64(1), object(3)\n",
            "memory usage: 177.2+ KB\n"
          ],
          "name": "stdout"
        },
        {
          "output_type": "execute_result",
          "data": {
            "text/html": [
              "<div>\n",
              "<style scoped>\n",
              "    .dataframe tbody tr th:only-of-type {\n",
              "        vertical-align: middle;\n",
              "    }\n",
              "\n",
              "    .dataframe tbody tr th {\n",
              "        vertical-align: top;\n",
              "    }\n",
              "\n",
              "    .dataframe thead th {\n",
              "        text-align: right;\n",
              "    }\n",
              "</style>\n",
              "<table border=\"1\" class=\"dataframe\">\n",
              "  <thead>\n",
              "    <tr style=\"text-align: right;\">\n",
              "      <th></th>\n",
              "      <th>UF</th>\n",
              "      <th>Tipo Crime</th>\n",
              "      <th>Ano</th>\n",
              "      <th>Mês</th>\n",
              "      <th>Vítimas</th>\n",
              "    </tr>\n",
              "  </thead>\n",
              "  <tbody>\n",
              "    <tr>\n",
              "      <th>0</th>\n",
              "      <td>Acre</td>\n",
              "      <td>Homicídio doloso</td>\n",
              "      <td>2015-01-01</td>\n",
              "      <td>janeiro</td>\n",
              "      <td>13</td>\n",
              "    </tr>\n",
              "    <tr>\n",
              "      <th>1</th>\n",
              "      <td>Acre</td>\n",
              "      <td>Homicídio doloso</td>\n",
              "      <td>2015-01-01</td>\n",
              "      <td>fevereiro</td>\n",
              "      <td>10</td>\n",
              "    </tr>\n",
              "    <tr>\n",
              "      <th>2</th>\n",
              "      <td>Acre</td>\n",
              "      <td>Homicídio doloso</td>\n",
              "      <td>2015-01-01</td>\n",
              "      <td>março</td>\n",
              "      <td>16</td>\n",
              "    </tr>\n",
              "    <tr>\n",
              "      <th>3</th>\n",
              "      <td>Acre</td>\n",
              "      <td>Homicídio doloso</td>\n",
              "      <td>2015-01-01</td>\n",
              "      <td>abril</td>\n",
              "      <td>22</td>\n",
              "    </tr>\n",
              "    <tr>\n",
              "      <th>4</th>\n",
              "      <td>Acre</td>\n",
              "      <td>Homicídio doloso</td>\n",
              "      <td>2015-01-01</td>\n",
              "      <td>maio</td>\n",
              "      <td>15</td>\n",
              "    </tr>\n",
              "    <tr>\n",
              "      <th>5</th>\n",
              "      <td>Acre</td>\n",
              "      <td>Homicídio doloso</td>\n",
              "      <td>2015-01-01</td>\n",
              "      <td>junho</td>\n",
              "      <td>14</td>\n",
              "    </tr>\n",
              "    <tr>\n",
              "      <th>6</th>\n",
              "      <td>Acre</td>\n",
              "      <td>Homicídio doloso</td>\n",
              "      <td>2015-01-01</td>\n",
              "      <td>julho</td>\n",
              "      <td>14</td>\n",
              "    </tr>\n",
              "    <tr>\n",
              "      <th>7</th>\n",
              "      <td>Acre</td>\n",
              "      <td>Homicídio doloso</td>\n",
              "      <td>2015-01-01</td>\n",
              "      <td>agosto</td>\n",
              "      <td>13</td>\n",
              "    </tr>\n",
              "    <tr>\n",
              "      <th>8</th>\n",
              "      <td>Acre</td>\n",
              "      <td>Homicídio doloso</td>\n",
              "      <td>2015-01-01</td>\n",
              "      <td>setembro</td>\n",
              "      <td>18</td>\n",
              "    </tr>\n",
              "    <tr>\n",
              "      <th>9</th>\n",
              "      <td>Acre</td>\n",
              "      <td>Homicídio doloso</td>\n",
              "      <td>2015-01-01</td>\n",
              "      <td>outubro</td>\n",
              "      <td>15</td>\n",
              "    </tr>\n",
              "    <tr>\n",
              "      <th>10</th>\n",
              "      <td>Acre</td>\n",
              "      <td>Homicídio doloso</td>\n",
              "      <td>2015-01-01</td>\n",
              "      <td>novembro</td>\n",
              "      <td>21</td>\n",
              "    </tr>\n",
              "    <tr>\n",
              "      <th>11</th>\n",
              "      <td>Acre</td>\n",
              "      <td>Homicídio doloso</td>\n",
              "      <td>2015-01-01</td>\n",
              "      <td>dezembro</td>\n",
              "      <td>18</td>\n",
              "    </tr>\n",
              "    <tr>\n",
              "      <th>12</th>\n",
              "      <td>Acre</td>\n",
              "      <td>Homicídio doloso</td>\n",
              "      <td>2016-01-01</td>\n",
              "      <td>janeiro</td>\n",
              "      <td>18</td>\n",
              "    </tr>\n",
              "    <tr>\n",
              "      <th>13</th>\n",
              "      <td>Acre</td>\n",
              "      <td>Homicídio doloso</td>\n",
              "      <td>2016-01-01</td>\n",
              "      <td>fevereiro</td>\n",
              "      <td>18</td>\n",
              "    </tr>\n",
              "    <tr>\n",
              "      <th>14</th>\n",
              "      <td>Acre</td>\n",
              "      <td>Homicídio doloso</td>\n",
              "      <td>2016-01-01</td>\n",
              "      <td>março</td>\n",
              "      <td>19</td>\n",
              "    </tr>\n",
              "    <tr>\n",
              "      <th>15</th>\n",
              "      <td>Acre</td>\n",
              "      <td>Homicídio doloso</td>\n",
              "      <td>2016-01-01</td>\n",
              "      <td>abril</td>\n",
              "      <td>22</td>\n",
              "    </tr>\n",
              "    <tr>\n",
              "      <th>16</th>\n",
              "      <td>Acre</td>\n",
              "      <td>Homicídio doloso</td>\n",
              "      <td>2016-01-01</td>\n",
              "      <td>maio</td>\n",
              "      <td>27</td>\n",
              "    </tr>\n",
              "    <tr>\n",
              "      <th>17</th>\n",
              "      <td>Acre</td>\n",
              "      <td>Homicídio doloso</td>\n",
              "      <td>2016-01-01</td>\n",
              "      <td>junho</td>\n",
              "      <td>26</td>\n",
              "    </tr>\n",
              "    <tr>\n",
              "      <th>18</th>\n",
              "      <td>Acre</td>\n",
              "      <td>Homicídio doloso</td>\n",
              "      <td>2016-01-01</td>\n",
              "      <td>julho</td>\n",
              "      <td>23</td>\n",
              "    </tr>\n",
              "    <tr>\n",
              "      <th>19</th>\n",
              "      <td>Acre</td>\n",
              "      <td>Homicídio doloso</td>\n",
              "      <td>2016-01-01</td>\n",
              "      <td>agosto</td>\n",
              "      <td>23</td>\n",
              "    </tr>\n",
              "    <tr>\n",
              "      <th>20</th>\n",
              "      <td>Acre</td>\n",
              "      <td>Homicídio doloso</td>\n",
              "      <td>2016-01-01</td>\n",
              "      <td>setembro</td>\n",
              "      <td>27</td>\n",
              "    </tr>\n",
              "    <tr>\n",
              "      <th>21</th>\n",
              "      <td>Acre</td>\n",
              "      <td>Homicídio doloso</td>\n",
              "      <td>2016-01-01</td>\n",
              "      <td>outubro</td>\n",
              "      <td>50</td>\n",
              "    </tr>\n",
              "    <tr>\n",
              "      <th>22</th>\n",
              "      <td>Acre</td>\n",
              "      <td>Homicídio doloso</td>\n",
              "      <td>2016-01-01</td>\n",
              "      <td>novembro</td>\n",
              "      <td>30</td>\n",
              "    </tr>\n",
              "    <tr>\n",
              "      <th>23</th>\n",
              "      <td>Acre</td>\n",
              "      <td>Homicídio doloso</td>\n",
              "      <td>2016-01-01</td>\n",
              "      <td>dezembro</td>\n",
              "      <td>71</td>\n",
              "    </tr>\n",
              "    <tr>\n",
              "      <th>24</th>\n",
              "      <td>Acre</td>\n",
              "      <td>Homicídio doloso</td>\n",
              "      <td>2017-01-01</td>\n",
              "      <td>janeiro</td>\n",
              "      <td>43</td>\n",
              "    </tr>\n",
              "    <tr>\n",
              "      <th>25</th>\n",
              "      <td>Acre</td>\n",
              "      <td>Homicídio doloso</td>\n",
              "      <td>2017-01-01</td>\n",
              "      <td>fevereiro</td>\n",
              "      <td>46</td>\n",
              "    </tr>\n",
              "    <tr>\n",
              "      <th>26</th>\n",
              "      <td>Acre</td>\n",
              "      <td>Homicídio doloso</td>\n",
              "      <td>2017-01-01</td>\n",
              "      <td>março</td>\n",
              "      <td>3</td>\n",
              "    </tr>\n",
              "    <tr>\n",
              "      <th>27</th>\n",
              "      <td>Acre</td>\n",
              "      <td>Homicídio doloso</td>\n",
              "      <td>2017-01-01</td>\n",
              "      <td>abril</td>\n",
              "      <td>3</td>\n",
              "    </tr>\n",
              "    <tr>\n",
              "      <th>28</th>\n",
              "      <td>Acre</td>\n",
              "      <td>Homicídio doloso</td>\n",
              "      <td>2017-01-01</td>\n",
              "      <td>maio</td>\n",
              "      <td>1</td>\n",
              "    </tr>\n",
              "    <tr>\n",
              "      <th>29</th>\n",
              "      <td>Acre</td>\n",
              "      <td>Homicídio doloso</td>\n",
              "      <td>2017-01-01</td>\n",
              "      <td>junho</td>\n",
              "      <td>10</td>\n",
              "    </tr>\n",
              "    <tr>\n",
              "      <th>30</th>\n",
              "      <td>Acre</td>\n",
              "      <td>Homicídio doloso</td>\n",
              "      <td>2017-01-01</td>\n",
              "      <td>julho</td>\n",
              "      <td>28</td>\n",
              "    </tr>\n",
              "    <tr>\n",
              "      <th>31</th>\n",
              "      <td>Acre</td>\n",
              "      <td>Homicídio doloso</td>\n",
              "      <td>2017-01-01</td>\n",
              "      <td>agosto</td>\n",
              "      <td>21</td>\n",
              "    </tr>\n",
              "    <tr>\n",
              "      <th>32</th>\n",
              "      <td>Acre</td>\n",
              "      <td>Homicídio doloso</td>\n",
              "      <td>2017-01-01</td>\n",
              "      <td>setembro</td>\n",
              "      <td>25</td>\n",
              "    </tr>\n",
              "    <tr>\n",
              "      <th>33</th>\n",
              "      <td>Acre</td>\n",
              "      <td>Homicídio doloso</td>\n",
              "      <td>2017-01-01</td>\n",
              "      <td>outubro</td>\n",
              "      <td>19</td>\n",
              "    </tr>\n",
              "    <tr>\n",
              "      <th>34</th>\n",
              "      <td>Acre</td>\n",
              "      <td>Homicídio doloso</td>\n",
              "      <td>2017-01-01</td>\n",
              "      <td>novembro</td>\n",
              "      <td>22</td>\n",
              "    </tr>\n",
              "    <tr>\n",
              "      <th>35</th>\n",
              "      <td>Acre</td>\n",
              "      <td>Homicídio doloso</td>\n",
              "      <td>2017-01-01</td>\n",
              "      <td>dezembro</td>\n",
              "      <td>11</td>\n",
              "    </tr>\n",
              "    <tr>\n",
              "      <th>36</th>\n",
              "      <td>Acre</td>\n",
              "      <td>Homicídio doloso</td>\n",
              "      <td>2018-01-01</td>\n",
              "      <td>janeiro</td>\n",
              "      <td>51</td>\n",
              "    </tr>\n",
              "    <tr>\n",
              "      <th>37</th>\n",
              "      <td>Acre</td>\n",
              "      <td>Homicídio doloso</td>\n",
              "      <td>2018-01-01</td>\n",
              "      <td>fevereiro</td>\n",
              "      <td>28</td>\n",
              "    </tr>\n",
              "    <tr>\n",
              "      <th>38</th>\n",
              "      <td>Acre</td>\n",
              "      <td>Homicídio doloso</td>\n",
              "      <td>2018-01-01</td>\n",
              "      <td>março</td>\n",
              "      <td>29</td>\n",
              "    </tr>\n",
              "    <tr>\n",
              "      <th>39</th>\n",
              "      <td>Acre</td>\n",
              "      <td>Homicídio doloso</td>\n",
              "      <td>2018-01-01</td>\n",
              "      <td>abril</td>\n",
              "      <td>30</td>\n",
              "    </tr>\n",
              "  </tbody>\n",
              "</table>\n",
              "</div>"
            ],
            "text/plain": [
              "      UF        Tipo Crime        Ano        Mês  Vítimas\n",
              "0   Acre  Homicídio doloso 2015-01-01    janeiro       13\n",
              "1   Acre  Homicídio doloso 2015-01-01  fevereiro       10\n",
              "2   Acre  Homicídio doloso 2015-01-01      março       16\n",
              "3   Acre  Homicídio doloso 2015-01-01      abril       22\n",
              "4   Acre  Homicídio doloso 2015-01-01       maio       15\n",
              "5   Acre  Homicídio doloso 2015-01-01      junho       14\n",
              "6   Acre  Homicídio doloso 2015-01-01      julho       14\n",
              "7   Acre  Homicídio doloso 2015-01-01     agosto       13\n",
              "8   Acre  Homicídio doloso 2015-01-01   setembro       18\n",
              "9   Acre  Homicídio doloso 2015-01-01    outubro       15\n",
              "10  Acre  Homicídio doloso 2015-01-01   novembro       21\n",
              "11  Acre  Homicídio doloso 2015-01-01   dezembro       18\n",
              "12  Acre  Homicídio doloso 2016-01-01    janeiro       18\n",
              "13  Acre  Homicídio doloso 2016-01-01  fevereiro       18\n",
              "14  Acre  Homicídio doloso 2016-01-01      março       19\n",
              "15  Acre  Homicídio doloso 2016-01-01      abril       22\n",
              "16  Acre  Homicídio doloso 2016-01-01       maio       27\n",
              "17  Acre  Homicídio doloso 2016-01-01      junho       26\n",
              "18  Acre  Homicídio doloso 2016-01-01      julho       23\n",
              "19  Acre  Homicídio doloso 2016-01-01     agosto       23\n",
              "20  Acre  Homicídio doloso 2016-01-01   setembro       27\n",
              "21  Acre  Homicídio doloso 2016-01-01    outubro       50\n",
              "22  Acre  Homicídio doloso 2016-01-01   novembro       30\n",
              "23  Acre  Homicídio doloso 2016-01-01   dezembro       71\n",
              "24  Acre  Homicídio doloso 2017-01-01    janeiro       43\n",
              "25  Acre  Homicídio doloso 2017-01-01  fevereiro       46\n",
              "26  Acre  Homicídio doloso 2017-01-01      março        3\n",
              "27  Acre  Homicídio doloso 2017-01-01      abril        3\n",
              "28  Acre  Homicídio doloso 2017-01-01       maio        1\n",
              "29  Acre  Homicídio doloso 2017-01-01      junho       10\n",
              "30  Acre  Homicídio doloso 2017-01-01      julho       28\n",
              "31  Acre  Homicídio doloso 2017-01-01     agosto       21\n",
              "32  Acre  Homicídio doloso 2017-01-01   setembro       25\n",
              "33  Acre  Homicídio doloso 2017-01-01    outubro       19\n",
              "34  Acre  Homicídio doloso 2017-01-01   novembro       22\n",
              "35  Acre  Homicídio doloso 2017-01-01   dezembro       11\n",
              "36  Acre  Homicídio doloso 2018-01-01    janeiro       51\n",
              "37  Acre  Homicídio doloso 2018-01-01  fevereiro       28\n",
              "38  Acre  Homicídio doloso 2018-01-01      março       29\n",
              "39  Acre  Homicídio doloso 2018-01-01      abril       30"
            ]
          },
          "metadata": {
            "tags": []
          },
          "execution_count": 72
        }
      ]
    },
    {
      "cell_type": "markdown",
      "metadata": {
        "id": "dEJtMxxYnBSu",
        "colab_type": "text"
      },
      "source": [
        "O dataset agora está com os tipos de dados dequados."
      ]
    },
    {
      "cell_type": "markdown",
      "metadata": {
        "id": "urH4Yj7vnJp4",
        "colab_type": "text"
      },
      "source": [
        "## Verificação de valores únicos"
      ]
    },
    {
      "cell_type": "markdown",
      "metadata": {
        "id": "cI520BSdnkvB",
        "colab_type": "text"
      },
      "source": [
        "Podemos explorar as entradas de  dados da coluna `Tipo Crime`."
      ]
    },
    {
      "cell_type": "code",
      "metadata": {
        "id": "v9dSCAifl0-S",
        "colab_type": "code",
        "outputId": "339e4f72-ca7a-4ae9-bd25-4a6df39ab23b",
        "colab": {
          "base_uri": "https://localhost:8080/",
          "height": 54
        }
      },
      "source": [
        "df_mjsp['Tipo Crime'].unique()"
      ],
      "execution_count": 0,
      "outputs": [
        {
          "output_type": "execute_result",
          "data": {
            "text/plain": [
              "array(['Homicídio doloso', 'Lesão corporal seguida de morte',\n",
              "       'Roubo seguido de morte (latrocínio)'], dtype=object)"
            ]
          },
          "metadata": {
            "tags": []
          },
          "execution_count": 6
        }
      ]
    },
    {
      "cell_type": "markdown",
      "metadata": {
        "id": "On2m5jq1rHZG",
        "colab_type": "text"
      },
      "source": [
        "Verificamos que existem 03 entradas."
      ]
    },
    {
      "cell_type": "markdown",
      "metadata": {
        "id": "mc4JEdsEq8Ho",
        "colab_type": "text"
      },
      "source": [
        "### Quantitativo de entradas"
      ]
    },
    {
      "cell_type": "code",
      "metadata": {
        "id": "FLKT4zyKn1cg",
        "colab_type": "code",
        "outputId": "c01cfbed-5e30-4288-8f45-69da61c7090b",
        "colab": {
          "base_uri": "https://localhost:8080/",
          "height": 90
        }
      },
      "source": [
        "df_mjsp['Tipo Crime'].value_counts()"
      ],
      "execution_count": 0,
      "outputs": [
        {
          "output_type": "execute_result",
          "data": {
            "text/plain": [
              "Homicídio doloso                       1623\n",
              "Roubo seguido de morte (latrocínio)    1524\n",
              "Lesão corporal seguida de morte        1385\n",
              "Name: Tipo Crime, dtype: int64"
            ]
          },
          "metadata": {
            "tags": []
          },
          "execution_count": 7
        }
      ]
    },
    {
      "cell_type": "markdown",
      "metadata": {
        "id": "6ViTuTa8rRE8",
        "colab_type": "text"
      },
      "source": [
        "### Percentual de cada entrada"
      ]
    },
    {
      "cell_type": "code",
      "metadata": {
        "id": "-zC5_IkxoZ4n",
        "colab_type": "code",
        "outputId": "e18e8678-bdf4-4a1e-efc3-8a8facf2f42a",
        "colab": {
          "base_uri": "https://localhost:8080/",
          "height": 90
        }
      },
      "source": [
        "df_mjsp['Tipo Crime'].value_counts() / df_mjsp.shape[0] * 100"
      ],
      "execution_count": 0,
      "outputs": [
        {
          "output_type": "execute_result",
          "data": {
            "text/plain": [
              "Homicídio doloso                       35.812004\n",
              "Roubo seguido de morte (latrocínio)    33.627538\n",
              "Lesão corporal seguida de morte        30.560459\n",
              "Name: Tipo Crime, dtype: float64"
            ]
          },
          "metadata": {
            "tags": []
          },
          "execution_count": 8
        }
      ]
    },
    {
      "cell_type": "code",
      "metadata": {
        "id": "Rwh58s0ErfR-",
        "colab_type": "code",
        "outputId": "3d9f4ccc-45a1-4415-fa0b-fb5c40f3ff15",
        "colab": {
          "base_uri": "https://localhost:8080/",
          "height": 453
        }
      },
      "source": [
        "grafico = df_mjsp['Tipo Crime'].value_counts() / df_mjsp.shape[0] * 100\n",
        "grafico.plot(kind='bar', label=True)"
      ],
      "execution_count": 0,
      "outputs": [
        {
          "output_type": "execute_result",
          "data": {
            "text/plain": [
              "<matplotlib.axes._subplots.AxesSubplot at 0x7fe39ecb36a0>"
            ]
          },
          "metadata": {
            "tags": []
          },
          "execution_count": 9
        },
        {
          "output_type": "display_data",
          "data": {
            "image/png": "[encoded data removed]",
            "text/plain": [
              "<Figure size 432x288 with 1 Axes>"
            ]
          },
          "metadata": {
            "tags": [],
            "needs_background": "light"
          }
        }
      ]
    },
    {
      "cell_type": "markdown",
      "metadata": {
        "id": "jm5meGXKtWZR",
        "colab_type": "text"
      },
      "source": [
        "## Filtro de valores\n"
      ]
    },
    {
      "cell_type": "markdown",
      "metadata": {
        "id": "SlFnq6RnMf5T",
        "colab_type": "text"
      },
      "source": [
        "### Selecionar entradas de uma coluna"
      ]
    },
    {
      "cell_type": "markdown",
      "metadata": {
        "id": "8xet7XNECM3J",
        "colab_type": "text"
      },
      "source": [
        "Vamos selecionar apenas homicídios dosolos."
      ]
    },
    {
      "cell_type": "code",
      "metadata": {
        "id": "FfxhxJfgCW2X",
        "colab_type": "code",
        "outputId": "4de3e583-2e9e-4f92-a875-0ed7d88a1810",
        "colab": {
          "base_uri": "https://localhost:8080/",
          "height": 235
        }
      },
      "source": [
        "#retornar casos de homicídios dolosos\n",
        "df_mjsp['Tipo Crime'] == 'Homicídio doloso'"
      ],
      "execution_count": 0,
      "outputs": [
        {
          "output_type": "execute_result",
          "data": {
            "text/plain": [
              "0        True\n",
              "1        True\n",
              "2        True\n",
              "3        True\n",
              "4        True\n",
              "        ...  \n",
              "4527    False\n",
              "4528    False\n",
              "4529    False\n",
              "4530    False\n",
              "4531    False\n",
              "Name: Tipo Crime, Length: 4532, dtype: bool"
            ]
          },
          "metadata": {
            "tags": []
          },
          "execution_count": 14
        }
      ]
    },
    {
      "cell_type": "code",
      "metadata": {
        "id": "QyMD-V5RCfd7",
        "colab_type": "code",
        "outputId": "2ef0355e-7556-4a8f-b325-7d56e2e4a312",
        "colab": {
          "base_uri": "https://localhost:8080/",
          "height": 407
        }
      },
      "source": [
        "#Retornar tabela apenas como Homicídio doloso\n",
        "#pega-se a condição feita acima e passa como parametro do DF\n",
        "df_mjsp[df_mjsp['Tipo Crime'] == 'Homicídio doloso']"
      ],
      "execution_count": 0,
      "outputs": [
        {
          "output_type": "execute_result",
          "data": {
            "text/html": [
              "<div>\n",
              "<style scoped>\n",
              "    .dataframe tbody tr th:only-of-type {\n",
              "        vertical-align: middle;\n",
              "    }\n",
              "\n",
              "    .dataframe tbody tr th {\n",
              "        vertical-align: top;\n",
              "    }\n",
              "\n",
              "    .dataframe thead th {\n",
              "        text-align: right;\n",
              "    }\n",
              "</style>\n",
              "<table border=\"1\" class=\"dataframe\">\n",
              "  <thead>\n",
              "    <tr style=\"text-align: right;\">\n",
              "      <th></th>\n",
              "      <th>UF</th>\n",
              "      <th>Tipo Crime</th>\n",
              "      <th>Ano</th>\n",
              "      <th>Mês</th>\n",
              "      <th>Vítimas</th>\n",
              "    </tr>\n",
              "  </thead>\n",
              "  <tbody>\n",
              "    <tr>\n",
              "      <th>0</th>\n",
              "      <td>Acre</td>\n",
              "      <td>Homicídio doloso</td>\n",
              "      <td>2015-01-01</td>\n",
              "      <td>janeiro</td>\n",
              "      <td>13</td>\n",
              "    </tr>\n",
              "    <tr>\n",
              "      <th>1</th>\n",
              "      <td>Acre</td>\n",
              "      <td>Homicídio doloso</td>\n",
              "      <td>2015-01-01</td>\n",
              "      <td>fevereiro</td>\n",
              "      <td>10</td>\n",
              "    </tr>\n",
              "    <tr>\n",
              "      <th>2</th>\n",
              "      <td>Acre</td>\n",
              "      <td>Homicídio doloso</td>\n",
              "      <td>2015-01-01</td>\n",
              "      <td>março</td>\n",
              "      <td>16</td>\n",
              "    </tr>\n",
              "    <tr>\n",
              "      <th>3</th>\n",
              "      <td>Acre</td>\n",
              "      <td>Homicídio doloso</td>\n",
              "      <td>2015-01-01</td>\n",
              "      <td>abril</td>\n",
              "      <td>22</td>\n",
              "    </tr>\n",
              "    <tr>\n",
              "      <th>4</th>\n",
              "      <td>Acre</td>\n",
              "      <td>Homicídio doloso</td>\n",
              "      <td>2015-01-01</td>\n",
              "      <td>maio</td>\n",
              "      <td>15</td>\n",
              "    </tr>\n",
              "    <tr>\n",
              "      <th>...</th>\n",
              "      <td>...</td>\n",
              "      <td>...</td>\n",
              "      <td>...</td>\n",
              "      <td>...</td>\n",
              "      <td>...</td>\n",
              "    </tr>\n",
              "    <tr>\n",
              "      <th>4457</th>\n",
              "      <td>Tocantins</td>\n",
              "      <td>Homicídio doloso</td>\n",
              "      <td>2019-01-01</td>\n",
              "      <td>setembro</td>\n",
              "      <td>29</td>\n",
              "    </tr>\n",
              "    <tr>\n",
              "      <th>4458</th>\n",
              "      <td>Tocantins</td>\n",
              "      <td>Homicídio doloso</td>\n",
              "      <td>2019-01-01</td>\n",
              "      <td>outubro</td>\n",
              "      <td>22</td>\n",
              "    </tr>\n",
              "    <tr>\n",
              "      <th>4459</th>\n",
              "      <td>Tocantins</td>\n",
              "      <td>Homicídio doloso</td>\n",
              "      <td>2019-01-01</td>\n",
              "      <td>novembro</td>\n",
              "      <td>33</td>\n",
              "    </tr>\n",
              "    <tr>\n",
              "      <th>4460</th>\n",
              "      <td>Tocantins</td>\n",
              "      <td>Homicídio doloso</td>\n",
              "      <td>2019-01-01</td>\n",
              "      <td>dezembro</td>\n",
              "      <td>39</td>\n",
              "    </tr>\n",
              "    <tr>\n",
              "      <th>4461</th>\n",
              "      <td>Tocantins</td>\n",
              "      <td>Homicídio doloso</td>\n",
              "      <td>2020-01-01</td>\n",
              "      <td>janeiro</td>\n",
              "      <td>35</td>\n",
              "    </tr>\n",
              "  </tbody>\n",
              "</table>\n",
              "<p>1623 rows × 5 columns</p>\n",
              "</div>"
            ],
            "text/plain": [
              "             UF        Tipo Crime        Ano        Mês  Vítimas\n",
              "0          Acre  Homicídio doloso 2015-01-01    janeiro       13\n",
              "1          Acre  Homicídio doloso 2015-01-01  fevereiro       10\n",
              "2          Acre  Homicídio doloso 2015-01-01      março       16\n",
              "3          Acre  Homicídio doloso 2015-01-01      abril       22\n",
              "4          Acre  Homicídio doloso 2015-01-01       maio       15\n",
              "...         ...               ...        ...        ...      ...\n",
              "4457  Tocantins  Homicídio doloso 2019-01-01   setembro       29\n",
              "4458  Tocantins  Homicídio doloso 2019-01-01    outubro       22\n",
              "4459  Tocantins  Homicídio doloso 2019-01-01   novembro       33\n",
              "4460  Tocantins  Homicídio doloso 2019-01-01   dezembro       39\n",
              "4461  Tocantins  Homicídio doloso 2020-01-01    janeiro       35\n",
              "\n",
              "[1623 rows x 5 columns]"
            ]
          },
          "metadata": {
            "tags": []
          },
          "execution_count": 15
        }
      ]
    },
    {
      "cell_type": "markdown",
      "metadata": {
        "id": "_0e-yyaDBQq2",
        "colab_type": "text"
      },
      "source": [
        "###LOC"
      ]
    },
    {
      "cell_type": "markdown",
      "metadata": {
        "id": "jhbxdcklI7Tr",
        "colab_type": "text"
      },
      "source": [
        "As buscas de informações a partir de um determinado índice podem ser realizadas com o método `DF.loc[]`."
      ]
    },
    {
      "cell_type": "code",
      "metadata": {
        "id": "kObnDiXLrywo",
        "colab_type": "code",
        "outputId": "61f977f5-6c62-4789-8f02-3aedeb861b8a",
        "colab": {
          "base_uri": "https://localhost:8080/",
          "height": 126
        }
      },
      "source": [
        "#Pesquisa as informações do primeiro item [0] do DF.\n",
        "df_mjsp.loc[0]"
      ],
      "execution_count": 0,
      "outputs": [
        {
          "output_type": "execute_result",
          "data": {
            "text/plain": [
              "UF                           Acre\n",
              "Tipo Crime       Homicídio doloso\n",
              "Ano           2015-01-01 00:00:00\n",
              "Mês                       janeiro\n",
              "Vítimas                        13\n",
              "Name: 0, dtype: object"
            ]
          },
          "metadata": {
            "tags": []
          },
          "execution_count": 10
        }
      ]
    },
    {
      "cell_type": "markdown",
      "metadata": {
        "id": "CHeHMYZmJZSm",
        "colab_type": "text"
      },
      "source": [
        "Caso necessitemos das informações de apenas algumas colunas, podemos passar uma lista com os nomes das colunas a serem retornadas, nos parâmetros"
      ]
    },
    {
      "cell_type": "code",
      "metadata": {
        "id": "YNCCNPYPs5zT",
        "colab_type": "code",
        "outputId": "3fc0c0cc-4cb7-4107-c59d-4a9733e6d3a6",
        "colab": {
          "base_uri": "https://localhost:8080/",
          "height": 72
        }
      },
      "source": [
        "df_mjsp.loc[0, ['UF', 'Tipo Crime']]"
      ],
      "execution_count": 0,
      "outputs": [
        {
          "output_type": "execute_result",
          "data": {
            "text/plain": [
              "UF                        Acre\n",
              "Tipo Crime    Homicídio doloso\n",
              "Name: 0, dtype: object"
            ]
          },
          "metadata": {
            "tags": []
          },
          "execution_count": 11
        }
      ]
    },
    {
      "cell_type": "markdown",
      "metadata": {
        "id": "XZDJRc2QBMEs",
        "colab_type": "text"
      },
      "source": [
        "### ILOC"
      ]
    },
    {
      "cell_type": "markdown",
      "metadata": {
        "id": "GrBWklXkBEjm",
        "colab_type": "text"
      },
      "source": [
        "o `iloc` Permite realizar buscas a partir das faixas de indices."
      ]
    },
    {
      "cell_type": "code",
      "metadata": {
        "id": "vxI47AiYBYQ3",
        "colab_type": "code",
        "outputId": "abf429e6-c576-4eb6-87f0-3fc5e9e25ee6",
        "colab": {
          "base_uri": "https://localhost:8080/",
          "height": 198
        }
      },
      "source": [
        "#No caso abaixo, quero o retorno das 05 primeiras linhas e das colunas de índices 0, 1 e 4\n",
        "df_mjsp.iloc[0:5, [0,1, 4]]"
      ],
      "execution_count": 0,
      "outputs": [
        {
          "output_type": "execute_result",
          "data": {
            "text/html": [
              "<div>\n",
              "<style scoped>\n",
              "    .dataframe tbody tr th:only-of-type {\n",
              "        vertical-align: middle;\n",
              "    }\n",
              "\n",
              "    .dataframe tbody tr th {\n",
              "        vertical-align: top;\n",
              "    }\n",
              "\n",
              "    .dataframe thead th {\n",
              "        text-align: right;\n",
              "    }\n",
              "</style>\n",
              "<table border=\"1\" class=\"dataframe\">\n",
              "  <thead>\n",
              "    <tr style=\"text-align: right;\">\n",
              "      <th></th>\n",
              "      <th>UF</th>\n",
              "      <th>Tipo Crime</th>\n",
              "      <th>Vítimas</th>\n",
              "    </tr>\n",
              "  </thead>\n",
              "  <tbody>\n",
              "    <tr>\n",
              "      <th>0</th>\n",
              "      <td>Acre</td>\n",
              "      <td>Homicídio doloso</td>\n",
              "      <td>13</td>\n",
              "    </tr>\n",
              "    <tr>\n",
              "      <th>1</th>\n",
              "      <td>Acre</td>\n",
              "      <td>Homicídio doloso</td>\n",
              "      <td>10</td>\n",
              "    </tr>\n",
              "    <tr>\n",
              "      <th>2</th>\n",
              "      <td>Acre</td>\n",
              "      <td>Homicídio doloso</td>\n",
              "      <td>16</td>\n",
              "    </tr>\n",
              "    <tr>\n",
              "      <th>3</th>\n",
              "      <td>Acre</td>\n",
              "      <td>Homicídio doloso</td>\n",
              "      <td>22</td>\n",
              "    </tr>\n",
              "    <tr>\n",
              "      <th>4</th>\n",
              "      <td>Acre</td>\n",
              "      <td>Homicídio doloso</td>\n",
              "      <td>15</td>\n",
              "    </tr>\n",
              "  </tbody>\n",
              "</table>\n",
              "</div>"
            ],
            "text/plain": [
              "     UF        Tipo Crime  Vítimas\n",
              "0  Acre  Homicídio doloso       13\n",
              "1  Acre  Homicídio doloso       10\n",
              "2  Acre  Homicídio doloso       16\n",
              "3  Acre  Homicídio doloso       22\n",
              "4  Acre  Homicídio doloso       15"
            ]
          },
          "metadata": {
            "tags": []
          },
          "execution_count": 12
        }
      ]
    },
    {
      "cell_type": "markdown",
      "metadata": {
        "id": "bQe-3oDxMqQg",
        "colab_type": "text"
      },
      "source": [
        ""
      ]
    },
    {
      "cell_type": "code",
      "metadata": {
        "id": "Q4QVEGHCN1mU",
        "colab_type": "code",
        "outputId": "258763a5-ea71-4a5c-9367-f6da418fc3da",
        "colab": {
          "base_uri": "https://localhost:8080/",
          "height": 235
        }
      },
      "source": [
        "#retornar casos de homicídios dolosos\n",
        "df_mjsp['Tipo Crime'] == 'Homicídio doloso'"
      ],
      "execution_count": 0,
      "outputs": [
        {
          "output_type": "execute_result",
          "data": {
            "text/plain": [
              "0        True\n",
              "1        True\n",
              "2        True\n",
              "3        True\n",
              "4        True\n",
              "        ...  \n",
              "4527    False\n",
              "4528    False\n",
              "4529    False\n",
              "4530    False\n",
              "4531    False\n",
              "Name: Tipo Crime, Length: 4532, dtype: bool"
            ]
          },
          "metadata": {
            "tags": []
          },
          "execution_count": 13
        }
      ]
    },
    {
      "cell_type": "code",
      "metadata": {
        "id": "sOUQmOkvOGEd",
        "colab_type": "code",
        "outputId": "8b620e29-8863-4b1b-e503-50d58cad7878",
        "colab": {
          "base_uri": "https://localhost:8080/",
          "height": 407
        }
      },
      "source": [
        "#Retornar tabela apenas como Homicídio doloso\n",
        "#pega-se a condição feita acima e passa como parametro do DF\n",
        "df_mjsp[df_mjsp['Tipo Crime'] == 'Homicídio doloso']"
      ],
      "execution_count": 0,
      "outputs": [
        {
          "output_type": "execute_result",
          "data": {
            "text/html": [
              "<div>\n",
              "<style scoped>\n",
              "    .dataframe tbody tr th:only-of-type {\n",
              "        vertical-align: middle;\n",
              "    }\n",
              "\n",
              "    .dataframe tbody tr th {\n",
              "        vertical-align: top;\n",
              "    }\n",
              "\n",
              "    .dataframe thead th {\n",
              "        text-align: right;\n",
              "    }\n",
              "</style>\n",
              "<table border=\"1\" class=\"dataframe\">\n",
              "  <thead>\n",
              "    <tr style=\"text-align: right;\">\n",
              "      <th></th>\n",
              "      <th>UF</th>\n",
              "      <th>Tipo Crime</th>\n",
              "      <th>Ano</th>\n",
              "      <th>Mês</th>\n",
              "      <th>Vítimas</th>\n",
              "    </tr>\n",
              "  </thead>\n",
              "  <tbody>\n",
              "    <tr>\n",
              "      <th>0</th>\n",
              "      <td>Acre</td>\n",
              "      <td>Homicídio doloso</td>\n",
              "      <td>1970-01-01 00:00:00.000002015</td>\n",
              "      <td>janeiro</td>\n",
              "      <td>13</td>\n",
              "    </tr>\n",
              "    <tr>\n",
              "      <th>1</th>\n",
              "      <td>Acre</td>\n",
              "      <td>Homicídio doloso</td>\n",
              "      <td>1970-01-01 00:00:00.000002015</td>\n",
              "      <td>fevereiro</td>\n",
              "      <td>10</td>\n",
              "    </tr>\n",
              "    <tr>\n",
              "      <th>2</th>\n",
              "      <td>Acre</td>\n",
              "      <td>Homicídio doloso</td>\n",
              "      <td>1970-01-01 00:00:00.000002015</td>\n",
              "      <td>março</td>\n",
              "      <td>16</td>\n",
              "    </tr>\n",
              "    <tr>\n",
              "      <th>3</th>\n",
              "      <td>Acre</td>\n",
              "      <td>Homicídio doloso</td>\n",
              "      <td>1970-01-01 00:00:00.000002015</td>\n",
              "      <td>abril</td>\n",
              "      <td>22</td>\n",
              "    </tr>\n",
              "    <tr>\n",
              "      <th>4</th>\n",
              "      <td>Acre</td>\n",
              "      <td>Homicídio doloso</td>\n",
              "      <td>1970-01-01 00:00:00.000002015</td>\n",
              "      <td>maio</td>\n",
              "      <td>15</td>\n",
              "    </tr>\n",
              "    <tr>\n",
              "      <th>...</th>\n",
              "      <td>...</td>\n",
              "      <td>...</td>\n",
              "      <td>...</td>\n",
              "      <td>...</td>\n",
              "      <td>...</td>\n",
              "    </tr>\n",
              "    <tr>\n",
              "      <th>4457</th>\n",
              "      <td>Tocantins</td>\n",
              "      <td>Homicídio doloso</td>\n",
              "      <td>1970-01-01 00:00:00.000002019</td>\n",
              "      <td>setembro</td>\n",
              "      <td>29</td>\n",
              "    </tr>\n",
              "    <tr>\n",
              "      <th>4458</th>\n",
              "      <td>Tocantins</td>\n",
              "      <td>Homicídio doloso</td>\n",
              "      <td>1970-01-01 00:00:00.000002019</td>\n",
              "      <td>outubro</td>\n",
              "      <td>22</td>\n",
              "    </tr>\n",
              "    <tr>\n",
              "      <th>4459</th>\n",
              "      <td>Tocantins</td>\n",
              "      <td>Homicídio doloso</td>\n",
              "      <td>1970-01-01 00:00:00.000002019</td>\n",
              "      <td>novembro</td>\n",
              "      <td>33</td>\n",
              "    </tr>\n",
              "    <tr>\n",
              "      <th>4460</th>\n",
              "      <td>Tocantins</td>\n",
              "      <td>Homicídio doloso</td>\n",
              "      <td>1970-01-01 00:00:00.000002019</td>\n",
              "      <td>dezembro</td>\n",
              "      <td>39</td>\n",
              "    </tr>\n",
              "    <tr>\n",
              "      <th>4461</th>\n",
              "      <td>Tocantins</td>\n",
              "      <td>Homicídio doloso</td>\n",
              "      <td>1970-01-01 00:00:00.000002020</td>\n",
              "      <td>janeiro</td>\n",
              "      <td>35</td>\n",
              "    </tr>\n",
              "  </tbody>\n",
              "</table>\n",
              "<p>1623 rows × 5 columns</p>\n",
              "</div>"
            ],
            "text/plain": [
              "             UF        Tipo Crime  ...        Mês Vítimas\n",
              "0          Acre  Homicídio doloso  ...    janeiro      13\n",
              "1          Acre  Homicídio doloso  ...  fevereiro      10\n",
              "2          Acre  Homicídio doloso  ...      março      16\n",
              "3          Acre  Homicídio doloso  ...      abril      22\n",
              "4          Acre  Homicídio doloso  ...       maio      15\n",
              "...         ...               ...  ...        ...     ...\n",
              "4457  Tocantins  Homicídio doloso  ...   setembro      29\n",
              "4458  Tocantins  Homicídio doloso  ...    outubro      22\n",
              "4459  Tocantins  Homicídio doloso  ...   novembro      33\n",
              "4460  Tocantins  Homicídio doloso  ...   dezembro      39\n",
              "4461  Tocantins  Homicídio doloso  ...    janeiro      35\n",
              "\n",
              "[1623 rows x 5 columns]"
            ]
          },
          "metadata": {
            "tags": []
          },
          "execution_count": 26
        }
      ]
    },
    {
      "cell_type": "code",
      "metadata": {
        "id": "SQRNIJAYtHRi",
        "colab_type": "code",
        "colab": {}
      },
      "source": [
        "#Contagem\n",
        "df_mjsp[df_mjsp['Tipo Crime'] == \"Homicídio doloso\"]\n",
        "df_v = df_mjsp[df_mjsp['Tipo Crime'] == \"Homicídio doloso\"]"
      ],
      "execution_count": 0,
      "outputs": []
    },
    {
      "cell_type": "code",
      "metadata": {
        "id": "PBSRnZGhDDh6",
        "colab_type": "code",
        "outputId": "abb21d50-ee04-4734-93d5-1dd7bf8620b9",
        "colab": {
          "base_uri": "https://localhost:8080/",
          "height": 35
        }
      },
      "source": [
        "df_uf = df_mjsp[df_mjsp.UF== 'Acre']\n",
        "df_uf.Vítimas.sum()\n"
      ],
      "execution_count": 0,
      "outputs": [
        {
          "output_type": "execute_result",
          "data": {
            "text/plain": [
              "1567"
            ]
          },
          "metadata": {
            "tags": []
          },
          "execution_count": 55
        }
      ]
    },
    {
      "cell_type": "code",
      "metadata": {
        "id": "UrXrst2rDfeN",
        "colab_type": "code",
        "outputId": "a9531f28-c92e-4085-aec4-2e7e2719fd79",
        "colab": {
          "base_uri": "https://localhost:8080/",
          "height": 35
        }
      },
      "source": [
        "df_v.Vítimas.sum()"
      ],
      "execution_count": 0,
      "outputs": [
        {
          "output_type": "execute_result",
          "data": {
            "text/plain": [
              "250758"
            ]
          },
          "metadata": {
            "tags": []
          },
          "execution_count": 26
        }
      ]
    },
    {
      "cell_type": "markdown",
      "metadata": {
        "id": "VSfcFDZAU8be",
        "colab_type": "text"
      },
      "source": [
        "##Agrupamento de dados"
      ]
    },
    {
      "cell_type": "markdown",
      "metadata": {
        "id": "g5fqOM_SVDW5",
        "colab_type": "text"
      },
      "source": [
        "Podemos agrupar os valor a partir da função `groupby`"
      ]
    },
    {
      "cell_type": "markdown",
      "metadata": {
        "id": "dmXsUnJOVYFG",
        "colab_type": "text"
      },
      "source": [
        "Abaixo foi realizado como agrupamento o somatório das vítimas por cada estado da federação. "
      ]
    },
    {
      "cell_type": "code",
      "metadata": {
        "id": "faNJ1O0ROnYR",
        "colab_type": "code",
        "outputId": "eed31d96-bbe1-4ead-e335-5a3fe4dfd912",
        "colab": {
          "base_uri": "https://localhost:8080/",
          "height": 545
        }
      },
      "source": [
        "uf = df_mjsp.groupby(['UF'])['Vítimas'].sum()\n",
        "uf.head(27)"
      ],
      "execution_count": 0,
      "outputs": [
        {
          "output_type": "execute_result",
          "data": {
            "text/plain": [
              "UF\n",
              "Acre                    1567\n",
              "Alagoas                 7827\n",
              "Amapá                   1589\n",
              "Amazonas                6168\n",
              "Bahia                  30698\n",
              "Ceará                  19599\n",
              "Distrito Federal        3072\n",
              "Espírito Santo          6414\n",
              "Goiás                  12049\n",
              "Maranhão                9663\n",
              "Mato Grosso             5383\n",
              "Mato Grosso do Sul      4505\n",
              "Minas Gerais           19121\n",
              "Paraná                 11741\n",
              "Paraíba                 6312\n",
              "Pará                   18702\n",
              "Pernambuco             21759\n",
              "Piauí                   3277\n",
              "Rio Grande do Norte     8969\n",
              "Rio Grande do Sul      15148\n",
              "Rio de Janeiro         25019\n",
              "Rondônia                2487\n",
              "Roraima                 1042\n",
              "Santa Catarina          4627\n",
              "Sergipe                 5677\n",
              "São Paulo              11263\n",
              "Tocantins               2012\n",
              "Name: Vítimas, dtype: int64"
            ]
          },
          "metadata": {
            "tags": []
          },
          "execution_count": 92
        }
      ]
    },
    {
      "cell_type": "markdown",
      "metadata": {
        "id": "jWwxk-gjWsMl",
        "colab_type": "text"
      },
      "source": [
        "Abaixo, temos o somatório das mesmas vítimas em função to tipo de crime."
      ]
    },
    {
      "cell_type": "code",
      "metadata": {
        "id": "iqZ6DN22O9dM",
        "colab_type": "code",
        "outputId": "3cda4419-fdfa-4b02-80f2-7cf4d24dc09f",
        "colab": {
          "base_uri": "https://localhost:8080/",
          "height": 467
        }
      },
      "source": [
        "ano = df_mjsp.groupby('Tipo Crime')['Vítimas'].sum()\n",
        "ano.plot(kind='bar')"
      ],
      "execution_count": 0,
      "outputs": [
        {
          "output_type": "execute_result",
          "data": {
            "text/plain": [
              "<matplotlib.axes._subplots.AxesSubplot at 0x7fe39e419438>"
            ]
          },
          "metadata": {
            "tags": []
          },
          "execution_count": 91
        },
        {
          "output_type": "display_data",
          "data": {
            "image/png": "[encoded data removed]",
            "text/plain": [
              "<Figure size 432x288 with 1 Axes>"
            ]
          },
          "metadata": {
            "tags": [],
            "needs_background": "light"
          }
        }
      ]
    },
    {
      "cell_type": "markdown",
      "metadata": {
        "id": "daY5uVutW7rO",
        "colab_type": "text"
      },
      "source": [
        "##Conclusão"
      ]
    },
    {
      "cell_type": "markdown",
      "metadata": {
        "id": "JdPw9LXPXVxb",
        "colab_type": "text"
      },
      "source": [
        "A realização da EDA é de extrema importância para o entendimento do dataset. "
      ]
    },
    {
      "cell_type": "code",
      "metadata": {
        "id": "6H8Tfxk8erow",
        "colab_type": "code",
        "colab": {}
      },
      "source": [
        ""
      ],
      "execution_count": 0,
      "outputs": []
    }
  ]
}
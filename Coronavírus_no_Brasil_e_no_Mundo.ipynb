{
  "nbformat": 4,
  "nbformat_minor": 0,
  "metadata": {
    "colab": {
      "name": "Coronavírus no Brasil e no Mundo.ipynb",
      "provenance": [],
      "toc_visible": true,
      "authorship_tag": "ABX9TyNXI9TbYv6Q878rDAnVLV6p",
      "include_colab_link": true
    },
    "kernelspec": {
      "name": "python3",
      "display_name": "Python 3"
    }
  },
  "cells": [
    {
      "cell_type": "markdown",
      "metadata": {
        "id": "view-in-github",
        "colab_type": "text"
      },
      "source": [
        "<a href=\"https://colab.research.google.com/github/jonhsel/Data-Science/blob/master/Coronav%C3%ADrus_no_Brasil_e_no_Mundo.ipynb\" target=\"_parent\"><img src=\"https://colab.research.google.com/assets/colab-badge.svg\" alt=\"Open In Colab\"/></a>"
      ]
    },
    {
      "cell_type": "markdown",
      "metadata": {
        "id": "fhDqkS-VGwAw",
        "colab_type": "text"
      },
      "source": [
        "by [jonhselmo](https://jonhselmo.com.br)"
      ]
    },
    {
      "cell_type": "markdown",
      "metadata": {
        "id": "_2OQuLPXG9JJ",
        "colab_type": "text"
      },
      "source": [
        "# COVID 19"
      ]
    },
    {
      "cell_type": "markdown",
      "metadata": {
        "id": "IwLQe23FJLmA",
        "colab_type": "text"
      },
      "source": [
        "Desde janeiro de 2020, a crescente proliferação do novo Coronavírus transformou-se em um dos maiores desafios da humanidade, transformou-se em uma pandemia.\n",
        "\n",
        "De acordo com a Organização Mundial de Saúde, Pandemia é um termo usado para uma determinada doença que rapidamente se espalhou por diversas partes de diversas regiões (continental ou mundial) através de uma contaminação sustentada. Neste quesito, a gravidade da doença não é determinante e sim o seu poder de contágio e sua proliferação geográfica. Porém, a pandemia em que vivemos é causada por uma doença grave, a COVID 19.\n",
        "\n",
        "A COVID-19 é uma doença causada por um vírus da família dos coronavírus e provoca sintomas como febre, tosse e dificuldade respiratória. \n",
        "\n",
        "Transmitida de uma pessoa para outra por meio de gotículas respiratórias, a doença pode ser prevenida por meio da lavagem das mãos e evitando-se aglomerações. Até o momento, não existem tratamentos para a enfermidade, a qual pode levar à morte, principalmente de idosos e pessoas com problemas de saúde, como hipertensão e doenças cardiovasculares.\n",
        "\n",
        "A COVID-19 ainda é uma doença nova e, portanto, há uma busca constante por informações sobre ela. Assim sendo, dados novos serão inseridos neste texto à medida que as descobertas ocorrerem.\n",
        "\n",
        "Os primeiros casos da doença surgiram no final do ano de 2019, na China. No primeiro semestre de 2020, a doença já havia atingindo todos os continentes, ganhando o status de PANDEMIA.\n",
        "\n"
      ]
    },
    {
      "cell_type": "markdown",
      "metadata": {
        "id": "9pXoLpyfJbwg",
        "colab_type": "text"
      },
      "source": [
        "#DADOS\n",
        "\n",
        "Os dados utilizados são provenientes do repositório go GitHub da organização OWID - OUR WORLD IN DATA - https://ourworldindata.org/.\n",
        "\n",
        "Link do diretório - [OIWD](https://github.com/owid/covid-19-data/tree/master/public/data), com atualização até 26/06/2020."
      ]
    },
    {
      "cell_type": "markdown",
      "metadata": {
        "id": "lYc9PknBOfPQ",
        "colab_type": "text"
      },
      "source": [
        "Ressalto que será realizado apenas análise dos dados do dataset, de onde serão extraídos alguns insights quantitativos. Os dados provenientes são coletados do mundo inteiro, o que nos leva a dificuladades de coleta e falta de padronização de protocolos."
      ]
    },
    {
      "cell_type": "markdown",
      "metadata": {
        "id": "3AB-6WKdPFc9",
        "colab_type": "text"
      },
      "source": [
        "## Dicionário de dados"
      ]
    },
    {
      "cell_type": "markdown",
      "metadata": {
        "id": "orob8Vm0Pkme",
        "colab_type": "text"
      },
      "source": [
        "Ao se analisar datasets públicos é fundamental disponibilizar o dicionário de dados. Ele é fundamental para o entendimento dos dados.\n",
        "\n",
        "Abaixo montei o dicionário."
      ]
    },
    {
      "cell_type": "markdown",
      "metadata": {
        "id": "UVjcHoABQSGC",
        "colab_type": "text"
      },
      "source": [
        "Column|Description|Source\n",
        "------|-----------|------\n",
        "`iso_code`| ISO 3166-1 alpha-3 – three-letter country codes|International Organization for Standardization\n",
        "`continent`|Continent of the geographical location|Our World in Data\n",
        "`location`|Geographical location|Our World in Data\n",
        "`date`|Date of observation|Our World in Data\n",
        "`total_cases`|Total confirmed cases of COVID-19|European Centre for Disease Prevention and Control\n",
        "`new_cases`|New confirmed cases of COVID-19|European Centre for Disease Prevention and Control\n",
        "`total_deaths`|Total deaths attributed to COVID-19|European Centre for Disease Prevention and Control\n",
        "`new_deaths`|New deaths attributed to COVID-19|European Centre for Disease Prevention and Control\n",
        "`total_cases_per_million`|Total confirmed cases of COVID-19 per 1,000,000 people|European Centre for Disease Prevention and Control\n",
        "`new_cases_per_million`|New confirmed cases of COVID-19 per 1,000,000 people|European Centre for Disease Prevention and Control\n",
        "`total_deaths_per_million`|Total deaths attributed to COVID-19 per 1,000,000 people|European Centre for Disease Prevention and Control\n",
        "`new_deaths_per_million`|New deaths attributed to COVID-19 per 1,000,000 people|European Centre for Disease Prevention and Control\n",
        "`total_tests`|Total tests for COVID-19|National government reports\n",
        "`new_tests`|New tests for COVID-19|National government reports\n",
        "`new_tests_smoothed`| New tests for COVID-19 (7-day smoothed). For countries that don't report testing data on a daily basis, we assume that testing changed equally on a daily basis over any periods in which no data was reported. This produces a complete series of daily figures, which is then averaged over a rolling 7-day window|National government reports\n",
        "`total_tests_per_thousand`|Total tests for COVID-19 per 1,000 people|National government reports\n",
        "`new_tests_per_thousand`|New tests for COVID-19 per 1,000 people|National government reports\n",
        "`new_tests_smoothed_per_thousand`|New tests for COVID-19 (7-day smoothed) per 1,000 people|National government reports\n",
        "`tests_units`|Units used by the location to report its testing data|National government reports\n",
        "`stringency_index`|Government Response Stringency Index: composite measure based on 9 response indicators including school closures, workplace closures, and travel bans, rescaled to a value from 0 to 100 (100 = strictest response)|Oxford COVID-19 Government Response Tracker, Blavatnik School of Government\n",
        "`population`|Population in 2020|United Nations, Department of Economic and Social Affairs, Population Division, World Population Prospects: The 2019 Revision\n",
        "`population_density`|Number of people divided by land area, measured in square kilometers, most recent year available|World Bank – World Development Indicators, sourced from Food and Agriculture Organization and World Bank estimates\n",
        "`median_age`|Median age of the population, UN projection for 2020|UN Population Division, World Population Prospects, 2017 Revision\n",
        "`aged_65_older`|Share of the population that is 65 years and older, most recent year available|World Bank – World Development Indicators, based on age/sex distributions of United Nations Population Division's World Population Prospects: 2017 Revision\n",
        "`aged_70_older`|Share of the population that is 70 years and older in 2015|United Nations, Department of Economic and Social Affairs, Population Division (2017), World Population Prospects: The 2017 Revision\n",
        "`gdp_per_capita`|Gross domestic product at purchasing power parity (constant 2011 international dollars), most recent year available|World Bank – World Development Indicators, source from World Bank, International Comparison Program database\n",
        "`extreme_poverty`|Share of the population living in extreme poverty, most recent year available since 2010|World Bank – World Development Indicators, sourced from World Bank Development Research Group\n",
        "`cvd_death_rate`|Death rate from cardiovascular disease in 2017|Global Burden of Disease Collaborative Network, Global Burden of Disease Study 2017 Results\n",
        "`diabetes_prevalence`|Diabetes prevalence (% of population aged 20 to 79) in 2017|World Bank – World Development Indicators, sourced from International Diabetes Federation, Diabetes Atlas\n",
        "`female_smokers`|Share of women who smoke, most recent year available|World Bank – World Development Indicators, sourced from World Health Organization, Global Health Observatory Data Repository\n",
        "`male_smokers`|Share of men who smoke, most recent year available|World Bank – World Development Indicators, sourced from World Health Organization, Global Health Observatory Data Repository\n",
        "`handwashing_facilities`|Share of the population with basic handwashing facilities on premises, most recent year available|United Nations Statistics Division\n",
        "`hospital_beds_per_thousand`|Hospital beds per 1,000 people, most recent year available since 2010|OECD, Eurostat, World Bank, national government records and other sources\n",
        "`life_expectancy`|Life expectancy at birth in 2019|James C. Riley, Clio Infra, United Nations Population Division"
      ]
    },
    {
      "cell_type": "markdown",
      "metadata": {
        "id": "7PL9J3L6RgE1",
        "colab_type": "text"
      },
      "source": [
        "## Importando os dados para análise"
      ]
    },
    {
      "cell_type": "markdown",
      "metadata": {
        "id": "74GPFoLLR1Kk",
        "colab_type": "text"
      },
      "source": [
        "Como primeiro passo, temos que definir o caminho para o dados."
      ]
    },
    {
      "cell_type": "code",
      "metadata": {
        "id": "d0LqG3UoGvpO",
        "colab_type": "code",
        "colab": {}
      },
      "source": [
        "#caminho do dataset\n",
        "DATA_PATH = \"https://raw.githubusercontent.com/owid/covid-19-data/master/public/data/owid-covid-data.csv\""
      ],
      "execution_count": 1,
      "outputs": []
    },
    {
      "cell_type": "markdown",
      "metadata": {
        "id": "zMRM258tSdIG",
        "colab_type": "text"
      },
      "source": [
        "Importar as bibliotecas necessárias para as análises.\n",
        "\n"
      ]
    },
    {
      "cell_type": "code",
      "metadata": {
        "id": "Lb7BMZz-Ggvy",
        "colab_type": "code",
        "colab": {
          "base_uri": "https://localhost:8080/",
          "height": 74
        },
        "outputId": "9549568f-120e-432d-accf-fa075817c2be"
      },
      "source": [
        "#importe das bibliotecas\n",
        "import pandas as pd\n",
        "import matplotlib.pyplot as plt\n",
        "import seaborn as sns\n"
      ],
      "execution_count": 2,
      "outputs": [
        {
          "output_type": "stream",
          "text": [
            "/usr/local/lib/python3.6/dist-packages/statsmodels/tools/_testing.py:19: FutureWarning: pandas.util.testing is deprecated. Use the functions in the public API at pandas.testing instead.\n",
            "  import pandas.util.testing as tm\n"
          ],
          "name": "stderr"
        }
      ]
    },
    {
      "cell_type": "markdown",
      "metadata": {
        "id": "Zc2GAi2ETKbh",
        "colab_type": "text"
      },
      "source": [
        "E transformar os dados em um DataFrame.\n",
        " * `DataFrame` - É uma estrutura bidimensional (semelhante a uma planilha) que traz agilidade na manipulação dos dados. O DataFrame é composo por *Series*, que são estruturas unidimensionais que suportam variados tipos de dados (string, interger, float, datetime).\n",
        "\n",
        " Podemos, a partir de agora, chamar o DataFrame de `DF`."
      ]
    },
    {
      "cell_type": "code",
      "metadata": {
        "id": "hb0goJoZSoq_",
        "colab_type": "code",
        "colab": {}
      },
      "source": [
        "#definir o DF\n",
        "df_covid19 = pd.read_csv(DATA_PATH)"
      ],
      "execution_count": 3,
      "outputs": []
    },
    {
      "cell_type": "markdown",
      "metadata": {
        "id": "bS9jnrhFxbJM",
        "colab_type": "text"
      },
      "source": [
        "Pronto. Já temos o DF criado. Agora já estamos aptos a realizar as primeiras análises."
      ]
    },
    {
      "cell_type": "markdown",
      "metadata": {
        "id": "e0Z7SofLx1Kx",
        "colab_type": "text"
      },
      "source": [
        "# EDA - ANÁLISE EXPLORATÓRIA DE DADOS"
      ]
    },
    {
      "cell_type": "markdown",
      "metadata": {
        "id": "7dFRkGv-3qpU",
        "colab_type": "text"
      },
      "source": [
        "A  análise exploratória de dados ou EDA (Exploraty Data Analysis) é uma técnica de grande importância, pois nos permite conhecer melhor os dados, obtendo informações relevantes, como o valore máximo de uma coluna/variável, mínimo, moda, média, mediana,  quartis, amplitude, variância, desvio padrão, dentre outras.\n",
        "\n",
        "A partir da EDA, também podemos realizar análises visuais, gerando insights em gráfico de barras, gráfico de setores, histograma, boxplot, gráfico de linha (sequência), polígono de frequências, diagrama de dispersão e muitos outros.\n",
        "\n"
      ]
    },
    {
      "cell_type": "markdown",
      "metadata": {
        "id": "1ys17YH35lwI",
        "colab_type": "text"
      },
      "source": [
        "##Visualização do DF\n",
        "\n",
        "De início, vamos visualizar as 05 primeiras e as 05 últimas entradas do DF criado."
      ]
    },
    {
      "cell_type": "code",
      "metadata": {
        "id": "kBMdOfWh3qEZ",
        "colab_type": "code",
        "colab": {
          "base_uri": "https://localhost:8080/",
          "height": 305
        },
        "outputId": "35828dff-8a8c-459e-b1ba-9f2daf2bc053"
      },
      "source": [
        "#primeiros registros do DF\n",
        "df_covid19.head()"
      ],
      "execution_count": 4,
      "outputs": [
        {
          "output_type": "execute_result",
          "data": {
            "text/html": [
              "<div>\n",
              "<style scoped>\n",
              "    .dataframe tbody tr th:only-of-type {\n",
              "        vertical-align: middle;\n",
              "    }\n",
              "\n",
              "    .dataframe tbody tr th {\n",
              "        vertical-align: top;\n",
              "    }\n",
              "\n",
              "    .dataframe thead th {\n",
              "        text-align: right;\n",
              "    }\n",
              "</style>\n",
              "<table border=\"1\" class=\"dataframe\">\n",
              "  <thead>\n",
              "    <tr style=\"text-align: right;\">\n",
              "      <th></th>\n",
              "      <th>iso_code</th>\n",
              "      <th>continent</th>\n",
              "      <th>location</th>\n",
              "      <th>date</th>\n",
              "      <th>total_cases</th>\n",
              "      <th>new_cases</th>\n",
              "      <th>total_deaths</th>\n",
              "      <th>new_deaths</th>\n",
              "      <th>total_cases_per_million</th>\n",
              "      <th>new_cases_per_million</th>\n",
              "      <th>total_deaths_per_million</th>\n",
              "      <th>new_deaths_per_million</th>\n",
              "      <th>total_tests</th>\n",
              "      <th>new_tests</th>\n",
              "      <th>total_tests_per_thousand</th>\n",
              "      <th>new_tests_per_thousand</th>\n",
              "      <th>new_tests_smoothed</th>\n",
              "      <th>new_tests_smoothed_per_thousand</th>\n",
              "      <th>tests_units</th>\n",
              "      <th>stringency_index</th>\n",
              "      <th>population</th>\n",
              "      <th>population_density</th>\n",
              "      <th>median_age</th>\n",
              "      <th>aged_65_older</th>\n",
              "      <th>aged_70_older</th>\n",
              "      <th>gdp_per_capita</th>\n",
              "      <th>extreme_poverty</th>\n",
              "      <th>cvd_death_rate</th>\n",
              "      <th>diabetes_prevalence</th>\n",
              "      <th>female_smokers</th>\n",
              "      <th>male_smokers</th>\n",
              "      <th>handwashing_facilities</th>\n",
              "      <th>hospital_beds_per_thousand</th>\n",
              "      <th>life_expectancy</th>\n",
              "    </tr>\n",
              "  </thead>\n",
              "  <tbody>\n",
              "    <tr>\n",
              "      <th>0</th>\n",
              "      <td>AFG</td>\n",
              "      <td>Asia</td>\n",
              "      <td>Afghanistan</td>\n",
              "      <td>2019-12-31</td>\n",
              "      <td>0.0</td>\n",
              "      <td>0.0</td>\n",
              "      <td>0.0</td>\n",
              "      <td>0.0</td>\n",
              "      <td>0.0</td>\n",
              "      <td>0.0</td>\n",
              "      <td>0.0</td>\n",
              "      <td>0.0</td>\n",
              "      <td>NaN</td>\n",
              "      <td>NaN</td>\n",
              "      <td>NaN</td>\n",
              "      <td>NaN</td>\n",
              "      <td>NaN</td>\n",
              "      <td>NaN</td>\n",
              "      <td>NaN</td>\n",
              "      <td>NaN</td>\n",
              "      <td>38928341.0</td>\n",
              "      <td>54.422</td>\n",
              "      <td>18.6</td>\n",
              "      <td>2.581</td>\n",
              "      <td>1.337</td>\n",
              "      <td>1803.987</td>\n",
              "      <td>NaN</td>\n",
              "      <td>597.029</td>\n",
              "      <td>9.59</td>\n",
              "      <td>NaN</td>\n",
              "      <td>NaN</td>\n",
              "      <td>37.746</td>\n",
              "      <td>0.5</td>\n",
              "      <td>64.83</td>\n",
              "    </tr>\n",
              "    <tr>\n",
              "      <th>1</th>\n",
              "      <td>AFG</td>\n",
              "      <td>Asia</td>\n",
              "      <td>Afghanistan</td>\n",
              "      <td>2020-01-01</td>\n",
              "      <td>0.0</td>\n",
              "      <td>0.0</td>\n",
              "      <td>0.0</td>\n",
              "      <td>0.0</td>\n",
              "      <td>0.0</td>\n",
              "      <td>0.0</td>\n",
              "      <td>0.0</td>\n",
              "      <td>0.0</td>\n",
              "      <td>NaN</td>\n",
              "      <td>NaN</td>\n",
              "      <td>NaN</td>\n",
              "      <td>NaN</td>\n",
              "      <td>NaN</td>\n",
              "      <td>NaN</td>\n",
              "      <td>NaN</td>\n",
              "      <td>0.0</td>\n",
              "      <td>38928341.0</td>\n",
              "      <td>54.422</td>\n",
              "      <td>18.6</td>\n",
              "      <td>2.581</td>\n",
              "      <td>1.337</td>\n",
              "      <td>1803.987</td>\n",
              "      <td>NaN</td>\n",
              "      <td>597.029</td>\n",
              "      <td>9.59</td>\n",
              "      <td>NaN</td>\n",
              "      <td>NaN</td>\n",
              "      <td>37.746</td>\n",
              "      <td>0.5</td>\n",
              "      <td>64.83</td>\n",
              "    </tr>\n",
              "    <tr>\n",
              "      <th>2</th>\n",
              "      <td>AFG</td>\n",
              "      <td>Asia</td>\n",
              "      <td>Afghanistan</td>\n",
              "      <td>2020-01-02</td>\n",
              "      <td>0.0</td>\n",
              "      <td>0.0</td>\n",
              "      <td>0.0</td>\n",
              "      <td>0.0</td>\n",
              "      <td>0.0</td>\n",
              "      <td>0.0</td>\n",
              "      <td>0.0</td>\n",
              "      <td>0.0</td>\n",
              "      <td>NaN</td>\n",
              "      <td>NaN</td>\n",
              "      <td>NaN</td>\n",
              "      <td>NaN</td>\n",
              "      <td>NaN</td>\n",
              "      <td>NaN</td>\n",
              "      <td>NaN</td>\n",
              "      <td>0.0</td>\n",
              "      <td>38928341.0</td>\n",
              "      <td>54.422</td>\n",
              "      <td>18.6</td>\n",
              "      <td>2.581</td>\n",
              "      <td>1.337</td>\n",
              "      <td>1803.987</td>\n",
              "      <td>NaN</td>\n",
              "      <td>597.029</td>\n",
              "      <td>9.59</td>\n",
              "      <td>NaN</td>\n",
              "      <td>NaN</td>\n",
              "      <td>37.746</td>\n",
              "      <td>0.5</td>\n",
              "      <td>64.83</td>\n",
              "    </tr>\n",
              "    <tr>\n",
              "      <th>3</th>\n",
              "      <td>AFG</td>\n",
              "      <td>Asia</td>\n",
              "      <td>Afghanistan</td>\n",
              "      <td>2020-01-03</td>\n",
              "      <td>0.0</td>\n",
              "      <td>0.0</td>\n",
              "      <td>0.0</td>\n",
              "      <td>0.0</td>\n",
              "      <td>0.0</td>\n",
              "      <td>0.0</td>\n",
              "      <td>0.0</td>\n",
              "      <td>0.0</td>\n",
              "      <td>NaN</td>\n",
              "      <td>NaN</td>\n",
              "      <td>NaN</td>\n",
              "      <td>NaN</td>\n",
              "      <td>NaN</td>\n",
              "      <td>NaN</td>\n",
              "      <td>NaN</td>\n",
              "      <td>0.0</td>\n",
              "      <td>38928341.0</td>\n",
              "      <td>54.422</td>\n",
              "      <td>18.6</td>\n",
              "      <td>2.581</td>\n",
              "      <td>1.337</td>\n",
              "      <td>1803.987</td>\n",
              "      <td>NaN</td>\n",
              "      <td>597.029</td>\n",
              "      <td>9.59</td>\n",
              "      <td>NaN</td>\n",
              "      <td>NaN</td>\n",
              "      <td>37.746</td>\n",
              "      <td>0.5</td>\n",
              "      <td>64.83</td>\n",
              "    </tr>\n",
              "    <tr>\n",
              "      <th>4</th>\n",
              "      <td>AFG</td>\n",
              "      <td>Asia</td>\n",
              "      <td>Afghanistan</td>\n",
              "      <td>2020-01-04</td>\n",
              "      <td>0.0</td>\n",
              "      <td>0.0</td>\n",
              "      <td>0.0</td>\n",
              "      <td>0.0</td>\n",
              "      <td>0.0</td>\n",
              "      <td>0.0</td>\n",
              "      <td>0.0</td>\n",
              "      <td>0.0</td>\n",
              "      <td>NaN</td>\n",
              "      <td>NaN</td>\n",
              "      <td>NaN</td>\n",
              "      <td>NaN</td>\n",
              "      <td>NaN</td>\n",
              "      <td>NaN</td>\n",
              "      <td>NaN</td>\n",
              "      <td>0.0</td>\n",
              "      <td>38928341.0</td>\n",
              "      <td>54.422</td>\n",
              "      <td>18.6</td>\n",
              "      <td>2.581</td>\n",
              "      <td>1.337</td>\n",
              "      <td>1803.987</td>\n",
              "      <td>NaN</td>\n",
              "      <td>597.029</td>\n",
              "      <td>9.59</td>\n",
              "      <td>NaN</td>\n",
              "      <td>NaN</td>\n",
              "      <td>37.746</td>\n",
              "      <td>0.5</td>\n",
              "      <td>64.83</td>\n",
              "    </tr>\n",
              "  </tbody>\n",
              "</table>\n",
              "</div>"
            ],
            "text/plain": [
              "  iso_code continent  ... hospital_beds_per_thousand life_expectancy\n",
              "0      AFG      Asia  ...                        0.5           64.83\n",
              "1      AFG      Asia  ...                        0.5           64.83\n",
              "2      AFG      Asia  ...                        0.5           64.83\n",
              "3      AFG      Asia  ...                        0.5           64.83\n",
              "4      AFG      Asia  ...                        0.5           64.83\n",
              "\n",
              "[5 rows x 34 columns]"
            ]
          },
          "metadata": {
            "tags": []
          },
          "execution_count": 4
        }
      ]
    },
    {
      "cell_type": "code",
      "metadata": {
        "id": "gJ00pYW1TX2W",
        "colab_type": "code",
        "colab": {
          "base_uri": "https://localhost:8080/",
          "height": 305
        },
        "outputId": "f3bdcbaf-7318-4d47-9fe3-806d7213ad6b"
      },
      "source": [
        "#últimos registros do DF criado\n",
        "df_covid19.tail()"
      ],
      "execution_count": 5,
      "outputs": [
        {
          "output_type": "execute_result",
          "data": {
            "text/html": [
              "<div>\n",
              "<style scoped>\n",
              "    .dataframe tbody tr th:only-of-type {\n",
              "        vertical-align: middle;\n",
              "    }\n",
              "\n",
              "    .dataframe tbody tr th {\n",
              "        vertical-align: top;\n",
              "    }\n",
              "\n",
              "    .dataframe thead th {\n",
              "        text-align: right;\n",
              "    }\n",
              "</style>\n",
              "<table border=\"1\" class=\"dataframe\">\n",
              "  <thead>\n",
              "    <tr style=\"text-align: right;\">\n",
              "      <th></th>\n",
              "      <th>iso_code</th>\n",
              "      <th>continent</th>\n",
              "      <th>location</th>\n",
              "      <th>date</th>\n",
              "      <th>total_cases</th>\n",
              "      <th>new_cases</th>\n",
              "      <th>total_deaths</th>\n",
              "      <th>new_deaths</th>\n",
              "      <th>total_cases_per_million</th>\n",
              "      <th>new_cases_per_million</th>\n",
              "      <th>total_deaths_per_million</th>\n",
              "      <th>new_deaths_per_million</th>\n",
              "      <th>total_tests</th>\n",
              "      <th>new_tests</th>\n",
              "      <th>total_tests_per_thousand</th>\n",
              "      <th>new_tests_per_thousand</th>\n",
              "      <th>new_tests_smoothed</th>\n",
              "      <th>new_tests_smoothed_per_thousand</th>\n",
              "      <th>tests_units</th>\n",
              "      <th>stringency_index</th>\n",
              "      <th>population</th>\n",
              "      <th>population_density</th>\n",
              "      <th>median_age</th>\n",
              "      <th>aged_65_older</th>\n",
              "      <th>aged_70_older</th>\n",
              "      <th>gdp_per_capita</th>\n",
              "      <th>extreme_poverty</th>\n",
              "      <th>cvd_death_rate</th>\n",
              "      <th>diabetes_prevalence</th>\n",
              "      <th>female_smokers</th>\n",
              "      <th>male_smokers</th>\n",
              "      <th>handwashing_facilities</th>\n",
              "      <th>hospital_beds_per_thousand</th>\n",
              "      <th>life_expectancy</th>\n",
              "    </tr>\n",
              "  </thead>\n",
              "  <tbody>\n",
              "    <tr>\n",
              "      <th>26744</th>\n",
              "      <td>NaN</td>\n",
              "      <td>NaN</td>\n",
              "      <td>International</td>\n",
              "      <td>2020-02-28</td>\n",
              "      <td>705.0</td>\n",
              "      <td>0.0</td>\n",
              "      <td>4.0</td>\n",
              "      <td>0.0</td>\n",
              "      <td>NaN</td>\n",
              "      <td>NaN</td>\n",
              "      <td>NaN</td>\n",
              "      <td>NaN</td>\n",
              "      <td>NaN</td>\n",
              "      <td>NaN</td>\n",
              "      <td>NaN</td>\n",
              "      <td>NaN</td>\n",
              "      <td>NaN</td>\n",
              "      <td>NaN</td>\n",
              "      <td>NaN</td>\n",
              "      <td>NaN</td>\n",
              "      <td>NaN</td>\n",
              "      <td>NaN</td>\n",
              "      <td>NaN</td>\n",
              "      <td>NaN</td>\n",
              "      <td>NaN</td>\n",
              "      <td>NaN</td>\n",
              "      <td>NaN</td>\n",
              "      <td>NaN</td>\n",
              "      <td>NaN</td>\n",
              "      <td>NaN</td>\n",
              "      <td>NaN</td>\n",
              "      <td>NaN</td>\n",
              "      <td>NaN</td>\n",
              "      <td>NaN</td>\n",
              "    </tr>\n",
              "    <tr>\n",
              "      <th>26745</th>\n",
              "      <td>NaN</td>\n",
              "      <td>NaN</td>\n",
              "      <td>International</td>\n",
              "      <td>2020-02-29</td>\n",
              "      <td>705.0</td>\n",
              "      <td>0.0</td>\n",
              "      <td>6.0</td>\n",
              "      <td>2.0</td>\n",
              "      <td>NaN</td>\n",
              "      <td>NaN</td>\n",
              "      <td>NaN</td>\n",
              "      <td>NaN</td>\n",
              "      <td>NaN</td>\n",
              "      <td>NaN</td>\n",
              "      <td>NaN</td>\n",
              "      <td>NaN</td>\n",
              "      <td>NaN</td>\n",
              "      <td>NaN</td>\n",
              "      <td>NaN</td>\n",
              "      <td>NaN</td>\n",
              "      <td>NaN</td>\n",
              "      <td>NaN</td>\n",
              "      <td>NaN</td>\n",
              "      <td>NaN</td>\n",
              "      <td>NaN</td>\n",
              "      <td>NaN</td>\n",
              "      <td>NaN</td>\n",
              "      <td>NaN</td>\n",
              "      <td>NaN</td>\n",
              "      <td>NaN</td>\n",
              "      <td>NaN</td>\n",
              "      <td>NaN</td>\n",
              "      <td>NaN</td>\n",
              "      <td>NaN</td>\n",
              "    </tr>\n",
              "    <tr>\n",
              "      <th>26746</th>\n",
              "      <td>NaN</td>\n",
              "      <td>NaN</td>\n",
              "      <td>International</td>\n",
              "      <td>2020-03-01</td>\n",
              "      <td>705.0</td>\n",
              "      <td>0.0</td>\n",
              "      <td>6.0</td>\n",
              "      <td>0.0</td>\n",
              "      <td>NaN</td>\n",
              "      <td>NaN</td>\n",
              "      <td>NaN</td>\n",
              "      <td>NaN</td>\n",
              "      <td>NaN</td>\n",
              "      <td>NaN</td>\n",
              "      <td>NaN</td>\n",
              "      <td>NaN</td>\n",
              "      <td>NaN</td>\n",
              "      <td>NaN</td>\n",
              "      <td>NaN</td>\n",
              "      <td>NaN</td>\n",
              "      <td>NaN</td>\n",
              "      <td>NaN</td>\n",
              "      <td>NaN</td>\n",
              "      <td>NaN</td>\n",
              "      <td>NaN</td>\n",
              "      <td>NaN</td>\n",
              "      <td>NaN</td>\n",
              "      <td>NaN</td>\n",
              "      <td>NaN</td>\n",
              "      <td>NaN</td>\n",
              "      <td>NaN</td>\n",
              "      <td>NaN</td>\n",
              "      <td>NaN</td>\n",
              "      <td>NaN</td>\n",
              "    </tr>\n",
              "    <tr>\n",
              "      <th>26747</th>\n",
              "      <td>NaN</td>\n",
              "      <td>NaN</td>\n",
              "      <td>International</td>\n",
              "      <td>2020-03-02</td>\n",
              "      <td>705.0</td>\n",
              "      <td>0.0</td>\n",
              "      <td>6.0</td>\n",
              "      <td>0.0</td>\n",
              "      <td>NaN</td>\n",
              "      <td>NaN</td>\n",
              "      <td>NaN</td>\n",
              "      <td>NaN</td>\n",
              "      <td>NaN</td>\n",
              "      <td>NaN</td>\n",
              "      <td>NaN</td>\n",
              "      <td>NaN</td>\n",
              "      <td>NaN</td>\n",
              "      <td>NaN</td>\n",
              "      <td>NaN</td>\n",
              "      <td>NaN</td>\n",
              "      <td>NaN</td>\n",
              "      <td>NaN</td>\n",
              "      <td>NaN</td>\n",
              "      <td>NaN</td>\n",
              "      <td>NaN</td>\n",
              "      <td>NaN</td>\n",
              "      <td>NaN</td>\n",
              "      <td>NaN</td>\n",
              "      <td>NaN</td>\n",
              "      <td>NaN</td>\n",
              "      <td>NaN</td>\n",
              "      <td>NaN</td>\n",
              "      <td>NaN</td>\n",
              "      <td>NaN</td>\n",
              "    </tr>\n",
              "    <tr>\n",
              "      <th>26748</th>\n",
              "      <td>NaN</td>\n",
              "      <td>NaN</td>\n",
              "      <td>International</td>\n",
              "      <td>2020-03-10</td>\n",
              "      <td>696.0</td>\n",
              "      <td>-9.0</td>\n",
              "      <td>7.0</td>\n",
              "      <td>1.0</td>\n",
              "      <td>NaN</td>\n",
              "      <td>NaN</td>\n",
              "      <td>NaN</td>\n",
              "      <td>NaN</td>\n",
              "      <td>NaN</td>\n",
              "      <td>NaN</td>\n",
              "      <td>NaN</td>\n",
              "      <td>NaN</td>\n",
              "      <td>NaN</td>\n",
              "      <td>NaN</td>\n",
              "      <td>NaN</td>\n",
              "      <td>NaN</td>\n",
              "      <td>NaN</td>\n",
              "      <td>NaN</td>\n",
              "      <td>NaN</td>\n",
              "      <td>NaN</td>\n",
              "      <td>NaN</td>\n",
              "      <td>NaN</td>\n",
              "      <td>NaN</td>\n",
              "      <td>NaN</td>\n",
              "      <td>NaN</td>\n",
              "      <td>NaN</td>\n",
              "      <td>NaN</td>\n",
              "      <td>NaN</td>\n",
              "      <td>NaN</td>\n",
              "      <td>NaN</td>\n",
              "    </tr>\n",
              "  </tbody>\n",
              "</table>\n",
              "</div>"
            ],
            "text/plain": [
              "      iso_code continent  ... hospital_beds_per_thousand life_expectancy\n",
              "26744      NaN       NaN  ...                        NaN             NaN\n",
              "26745      NaN       NaN  ...                        NaN             NaN\n",
              "26746      NaN       NaN  ...                        NaN             NaN\n",
              "26747      NaN       NaN  ...                        NaN             NaN\n",
              "26748      NaN       NaN  ...                        NaN             NaN\n",
              "\n",
              "[5 rows x 34 columns]"
            ]
          },
          "metadata": {
            "tags": []
          },
          "execution_count": 5
        }
      ]
    },
    {
      "cell_type": "markdown",
      "metadata": {
        "id": "ARf9u80d6kVM",
        "colab_type": "text"
      },
      "source": [
        "Em uma rápida olhada nessas 10 linhas, já podemos perceber que o conjunto de dados possui muitos valores ausentes, muitas colunas com valores numéricos decimais (podemos utilizar abordagens estatísticas), informação de locais (podemos usar os dados para plotar mapas).\n",
        "\n"
      ]
    },
    {
      "cell_type": "markdown",
      "metadata": {
        "id": "tzhN_4nR-CzB",
        "colab_type": "text"
      },
      "source": [
        "##Composição do DF\n",
        "\n"
      ]
    },
    {
      "cell_type": "markdown",
      "metadata": {
        "id": "Z-U8UW5W-bec",
        "colab_type": "text"
      },
      "source": [
        "### Dimensões\n",
        "\n",
        "Visualizaremos o tamanho ou forma do DF."
      ]
    },
    {
      "cell_type": "code",
      "metadata": {
        "id": "x0z3aL7D6W4a",
        "colab_type": "code",
        "colab": {
          "base_uri": "https://localhost:8080/",
          "height": 0
        },
        "outputId": "d313f26e-d798-4de9-9229-a16073a0aaff"
      },
      "source": [
        "#tamanho do DF\n",
        "print('Quantidade de linhas : {}'.format(df_covid19.shape[0]))\n",
        "print('Quantidade colunas   : {}'.format(df_covid19.shape[1]))"
      ],
      "execution_count": 6,
      "outputs": [
        {
          "output_type": "stream",
          "text": [
            "Quantidade de linhas : 26749\n",
            "Quantidade colunas   : 34\n"
          ],
          "name": "stdout"
        }
      ]
    },
    {
      "cell_type": "markdown",
      "metadata": {
        "id": "8xQHaQ-c_JEm",
        "colab_type": "text"
      },
      "source": [
        "###Colunas\n",
        "\n",
        "Vimos que o DF possui 34 colunas. Com a instrução abaixo podemos extrair os nomes dessas colunas."
      ]
    },
    {
      "cell_type": "code",
      "metadata": {
        "id": "0JmTUJIA_Ify",
        "colab_type": "code",
        "colab": {
          "base_uri": "https://localhost:8080/",
          "height": 0
        },
        "outputId": "d6cf057d-78a4-4f8e-9523-0500c3b7fe93"
      },
      "source": [
        "#nome das colunas\n",
        "df_covid19.columns"
      ],
      "execution_count": 7,
      "outputs": [
        {
          "output_type": "execute_result",
          "data": {
            "text/plain": [
              "Index(['iso_code', 'continent', 'location', 'date', 'total_cases', 'new_cases',\n",
              "       'total_deaths', 'new_deaths', 'total_cases_per_million',\n",
              "       'new_cases_per_million', 'total_deaths_per_million',\n",
              "       'new_deaths_per_million', 'total_tests', 'new_tests',\n",
              "       'total_tests_per_thousand', 'new_tests_per_thousand',\n",
              "       'new_tests_smoothed', 'new_tests_smoothed_per_thousand', 'tests_units',\n",
              "       'stringency_index', 'population', 'population_density', 'median_age',\n",
              "       'aged_65_older', 'aged_70_older', 'gdp_per_capita', 'extreme_poverty',\n",
              "       'cvd_death_rate', 'diabetes_prevalence', 'female_smokers',\n",
              "       'male_smokers', 'handwashing_facilities', 'hospital_beds_per_thousand',\n",
              "       'life_expectancy'],\n",
              "      dtype='object')"
            ]
          },
          "metadata": {
            "tags": []
          },
          "execution_count": 7
        }
      ]
    },
    {
      "cell_type": "markdown",
      "metadata": {
        "id": "QzrLzSLkAhKO",
        "colab_type": "text"
      },
      "source": [
        "Como já criamos o dicionário de dados, podemos recorrer a ele para tentarmos entender mais profundamente cada coluna."
      ]
    },
    {
      "cell_type": "markdown",
      "metadata": {
        "id": "ru7DN-naA6-i",
        "colab_type": "text"
      },
      "source": [
        "### Tipos de dados\n",
        "\n",
        "Outro passo importante é conhecer os tipos de dados de cada coluna, para assim promovermos as adequações que se apresentarem necessárias.\n"
      ]
    },
    {
      "cell_type": "code",
      "metadata": {
        "id": "in2O39W3_GJS",
        "colab_type": "code",
        "colab": {
          "base_uri": "https://localhost:8080/",
          "height": 0
        },
        "outputId": "0fb325d7-ccb8-444d-e19c-c5af091fe3ee"
      },
      "source": [
        "#tipos de dados\n",
        "df_covid19.dtypes"
      ],
      "execution_count": 8,
      "outputs": [
        {
          "output_type": "execute_result",
          "data": {
            "text/plain": [
              "iso_code                            object\n",
              "continent                           object\n",
              "location                            object\n",
              "date                                object\n",
              "total_cases                        float64\n",
              "new_cases                          float64\n",
              "total_deaths                       float64\n",
              "new_deaths                         float64\n",
              "total_cases_per_million            float64\n",
              "new_cases_per_million              float64\n",
              "total_deaths_per_million           float64\n",
              "new_deaths_per_million             float64\n",
              "total_tests                        float64\n",
              "new_tests                          float64\n",
              "total_tests_per_thousand           float64\n",
              "new_tests_per_thousand             float64\n",
              "new_tests_smoothed                 float64\n",
              "new_tests_smoothed_per_thousand    float64\n",
              "tests_units                         object\n",
              "stringency_index                   float64\n",
              "population                         float64\n",
              "population_density                 float64\n",
              "median_age                         float64\n",
              "aged_65_older                      float64\n",
              "aged_70_older                      float64\n",
              "gdp_per_capita                     float64\n",
              "extreme_poverty                    float64\n",
              "cvd_death_rate                     float64\n",
              "diabetes_prevalence                float64\n",
              "female_smokers                     float64\n",
              "male_smokers                       float64\n",
              "handwashing_facilities             float64\n",
              "hospital_beds_per_thousand         float64\n",
              "life_expectancy                    float64\n",
              "dtype: object"
            ]
          },
          "metadata": {
            "tags": []
          },
          "execution_count": 8
        }
      ]
    },
    {
      "cell_type": "markdown",
      "metadata": {
        "id": "RlRBfWtIBg4_",
        "colab_type": "text"
      },
      "source": [
        "Vimos que o DF é composto por elementos dos tipos:\n",
        "* `object` - Que se tratam de textos;\n",
        "* `float64` - Números decimais.\n",
        "\n",
        "\n",
        "\n",
        "> Como falado mais em cima, teremos que realizar a adequação da coluna `date`. Ela se apresenta como object, quando deveria ser do tipo data (datetime).\n",
        "\n",
        "\n"
      ]
    },
    {
      "cell_type": "code",
      "metadata": {
        "id": "SquRFA2eBXiJ",
        "colab_type": "code",
        "colab": {}
      },
      "source": [
        "#adequar o tipo da coluna 'date'\n",
        "df_covid19['date'] = pd.to_datetime(df_covid19['date'])"
      ],
      "execution_count": 9,
      "outputs": []
    },
    {
      "cell_type": "code",
      "metadata": {
        "id": "ZL7LiHVuC3mT",
        "colab_type": "code",
        "colab": {
          "base_uri": "https://localhost:8080/",
          "height": 0
        },
        "outputId": "19af9ec1-aa6b-4c1d-a003-d5d11298c746"
      },
      "source": [
        "#Verificar se as modificações surtiram efeito\n",
        "df_covid19.dtypes"
      ],
      "execution_count": 10,
      "outputs": [
        {
          "output_type": "execute_result",
          "data": {
            "text/plain": [
              "iso_code                                   object\n",
              "continent                                  object\n",
              "location                                   object\n",
              "date                               datetime64[ns]\n",
              "total_cases                               float64\n",
              "new_cases                                 float64\n",
              "total_deaths                              float64\n",
              "new_deaths                                float64\n",
              "total_cases_per_million                   float64\n",
              "new_cases_per_million                     float64\n",
              "total_deaths_per_million                  float64\n",
              "new_deaths_per_million                    float64\n",
              "total_tests                               float64\n",
              "new_tests                                 float64\n",
              "total_tests_per_thousand                  float64\n",
              "new_tests_per_thousand                    float64\n",
              "new_tests_smoothed                        float64\n",
              "new_tests_smoothed_per_thousand           float64\n",
              "tests_units                                object\n",
              "stringency_index                          float64\n",
              "population                                float64\n",
              "population_density                        float64\n",
              "median_age                                float64\n",
              "aged_65_older                             float64\n",
              "aged_70_older                             float64\n",
              "gdp_per_capita                            float64\n",
              "extreme_poverty                           float64\n",
              "cvd_death_rate                            float64\n",
              "diabetes_prevalence                       float64\n",
              "female_smokers                            float64\n",
              "male_smokers                              float64\n",
              "handwashing_facilities                    float64\n",
              "hospital_beds_per_thousand                float64\n",
              "life_expectancy                           float64\n",
              "dtype: object"
            ]
          },
          "metadata": {
            "tags": []
          },
          "execution_count": 10
        }
      ]
    },
    {
      "cell_type": "markdown",
      "metadata": {
        "id": "NPxL9j5GENaM",
        "colab_type": "text"
      },
      "source": [
        "Pronto! Tudo certo com nossos tipos de dados.\n"
      ]
    },
    {
      "cell_type": "markdown",
      "metadata": {
        "id": "JuhRbG1vEghH",
        "colab_type": "text"
      },
      "source": [
        "### Valores ausentes"
      ]
    },
    {
      "cell_type": "markdown",
      "metadata": {
        "id": "65oOKlQDsqZB",
        "colab_type": "text"
      },
      "source": [
        "Lembram do primeiro manuseio que realizamos no DF?\n",
        "\n",
        "Lá, visualizamos o DF e fizemos nossa primeira inspeção dos dados. Ao analisar aquelas poucas linhas, rapidamente percebemos uma grande quantidade de valores ausentes.\n",
        "\n",
        "Se fossemos considerar apenas esse ponto, já poderíamos perceber a importância da EDA, pois o tratamento correto dos dados faltantes afeta diretamente o desempenho de análises mais complexas, como a aplicação de técnicas de regressão ou de modelos de aprendizagem de máquina.\n",
        "\n"
      ]
    },
    {
      "cell_type": "markdown",
      "metadata": {
        "id": "EBIjR9sCuedv",
        "colab_type": "text"
      },
      "source": [
        "O método `insull` nos retorna valores boleano:\n",
        "* `True` - Quando encontra valores ausentes;\n",
        "* `False` - Quando existem valores."
      ]
    },
    {
      "cell_type": "code",
      "metadata": {
        "id": "E5nvmtyLDXEZ",
        "colab_type": "code",
        "colab": {
          "base_uri": "https://localhost:8080/",
          "height": 0
        },
        "outputId": "ba9abc8d-5a4d-46bc-f96a-da844e68cf03"
      },
      "source": [
        "#valores ausentes\n",
        "df_covid19.isnull()"
      ],
      "execution_count": 11,
      "outputs": [
        {
          "output_type": "execute_result",
          "data": {
            "text/html": [
              "<div>\n",
              "<style scoped>\n",
              "    .dataframe tbody tr th:only-of-type {\n",
              "        vertical-align: middle;\n",
              "    }\n",
              "\n",
              "    .dataframe tbody tr th {\n",
              "        vertical-align: top;\n",
              "    }\n",
              "\n",
              "    .dataframe thead th {\n",
              "        text-align: right;\n",
              "    }\n",
              "</style>\n",
              "<table border=\"1\" class=\"dataframe\">\n",
              "  <thead>\n",
              "    <tr style=\"text-align: right;\">\n",
              "      <th></th>\n",
              "      <th>iso_code</th>\n",
              "      <th>continent</th>\n",
              "      <th>location</th>\n",
              "      <th>date</th>\n",
              "      <th>total_cases</th>\n",
              "      <th>new_cases</th>\n",
              "      <th>total_deaths</th>\n",
              "      <th>new_deaths</th>\n",
              "      <th>total_cases_per_million</th>\n",
              "      <th>new_cases_per_million</th>\n",
              "      <th>total_deaths_per_million</th>\n",
              "      <th>new_deaths_per_million</th>\n",
              "      <th>total_tests</th>\n",
              "      <th>new_tests</th>\n",
              "      <th>total_tests_per_thousand</th>\n",
              "      <th>new_tests_per_thousand</th>\n",
              "      <th>new_tests_smoothed</th>\n",
              "      <th>new_tests_smoothed_per_thousand</th>\n",
              "      <th>tests_units</th>\n",
              "      <th>stringency_index</th>\n",
              "      <th>population</th>\n",
              "      <th>population_density</th>\n",
              "      <th>median_age</th>\n",
              "      <th>aged_65_older</th>\n",
              "      <th>aged_70_older</th>\n",
              "      <th>gdp_per_capita</th>\n",
              "      <th>extreme_poverty</th>\n",
              "      <th>cvd_death_rate</th>\n",
              "      <th>diabetes_prevalence</th>\n",
              "      <th>female_smokers</th>\n",
              "      <th>male_smokers</th>\n",
              "      <th>handwashing_facilities</th>\n",
              "      <th>hospital_beds_per_thousand</th>\n",
              "      <th>life_expectancy</th>\n",
              "    </tr>\n",
              "  </thead>\n",
              "  <tbody>\n",
              "    <tr>\n",
              "      <th>0</th>\n",
              "      <td>False</td>\n",
              "      <td>False</td>\n",
              "      <td>False</td>\n",
              "      <td>False</td>\n",
              "      <td>False</td>\n",
              "      <td>False</td>\n",
              "      <td>False</td>\n",
              "      <td>False</td>\n",
              "      <td>False</td>\n",
              "      <td>False</td>\n",
              "      <td>False</td>\n",
              "      <td>False</td>\n",
              "      <td>True</td>\n",
              "      <td>True</td>\n",
              "      <td>True</td>\n",
              "      <td>True</td>\n",
              "      <td>True</td>\n",
              "      <td>True</td>\n",
              "      <td>True</td>\n",
              "      <td>True</td>\n",
              "      <td>False</td>\n",
              "      <td>False</td>\n",
              "      <td>False</td>\n",
              "      <td>False</td>\n",
              "      <td>False</td>\n",
              "      <td>False</td>\n",
              "      <td>True</td>\n",
              "      <td>False</td>\n",
              "      <td>False</td>\n",
              "      <td>True</td>\n",
              "      <td>True</td>\n",
              "      <td>False</td>\n",
              "      <td>False</td>\n",
              "      <td>False</td>\n",
              "    </tr>\n",
              "    <tr>\n",
              "      <th>1</th>\n",
              "      <td>False</td>\n",
              "      <td>False</td>\n",
              "      <td>False</td>\n",
              "      <td>False</td>\n",
              "      <td>False</td>\n",
              "      <td>False</td>\n",
              "      <td>False</td>\n",
              "      <td>False</td>\n",
              "      <td>False</td>\n",
              "      <td>False</td>\n",
              "      <td>False</td>\n",
              "      <td>False</td>\n",
              "      <td>True</td>\n",
              "      <td>True</td>\n",
              "      <td>True</td>\n",
              "      <td>True</td>\n",
              "      <td>True</td>\n",
              "      <td>True</td>\n",
              "      <td>True</td>\n",
              "      <td>False</td>\n",
              "      <td>False</td>\n",
              "      <td>False</td>\n",
              "      <td>False</td>\n",
              "      <td>False</td>\n",
              "      <td>False</td>\n",
              "      <td>False</td>\n",
              "      <td>True</td>\n",
              "      <td>False</td>\n",
              "      <td>False</td>\n",
              "      <td>True</td>\n",
              "      <td>True</td>\n",
              "      <td>False</td>\n",
              "      <td>False</td>\n",
              "      <td>False</td>\n",
              "    </tr>\n",
              "    <tr>\n",
              "      <th>2</th>\n",
              "      <td>False</td>\n",
              "      <td>False</td>\n",
              "      <td>False</td>\n",
              "      <td>False</td>\n",
              "      <td>False</td>\n",
              "      <td>False</td>\n",
              "      <td>False</td>\n",
              "      <td>False</td>\n",
              "      <td>False</td>\n",
              "      <td>False</td>\n",
              "      <td>False</td>\n",
              "      <td>False</td>\n",
              "      <td>True</td>\n",
              "      <td>True</td>\n",
              "      <td>True</td>\n",
              "      <td>True</td>\n",
              "      <td>True</td>\n",
              "      <td>True</td>\n",
              "      <td>True</td>\n",
              "      <td>False</td>\n",
              "      <td>False</td>\n",
              "      <td>False</td>\n",
              "      <td>False</td>\n",
              "      <td>False</td>\n",
              "      <td>False</td>\n",
              "      <td>False</td>\n",
              "      <td>True</td>\n",
              "      <td>False</td>\n",
              "      <td>False</td>\n",
              "      <td>True</td>\n",
              "      <td>True</td>\n",
              "      <td>False</td>\n",
              "      <td>False</td>\n",
              "      <td>False</td>\n",
              "    </tr>\n",
              "    <tr>\n",
              "      <th>3</th>\n",
              "      <td>False</td>\n",
              "      <td>False</td>\n",
              "      <td>False</td>\n",
              "      <td>False</td>\n",
              "      <td>False</td>\n",
              "      <td>False</td>\n",
              "      <td>False</td>\n",
              "      <td>False</td>\n",
              "      <td>False</td>\n",
              "      <td>False</td>\n",
              "      <td>False</td>\n",
              "      <td>False</td>\n",
              "      <td>True</td>\n",
              "      <td>True</td>\n",
              "      <td>True</td>\n",
              "      <td>True</td>\n",
              "      <td>True</td>\n",
              "      <td>True</td>\n",
              "      <td>True</td>\n",
              "      <td>False</td>\n",
              "      <td>False</td>\n",
              "      <td>False</td>\n",
              "      <td>False</td>\n",
              "      <td>False</td>\n",
              "      <td>False</td>\n",
              "      <td>False</td>\n",
              "      <td>True</td>\n",
              "      <td>False</td>\n",
              "      <td>False</td>\n",
              "      <td>True</td>\n",
              "      <td>True</td>\n",
              "      <td>False</td>\n",
              "      <td>False</td>\n",
              "      <td>False</td>\n",
              "    </tr>\n",
              "    <tr>\n",
              "      <th>4</th>\n",
              "      <td>False</td>\n",
              "      <td>False</td>\n",
              "      <td>False</td>\n",
              "      <td>False</td>\n",
              "      <td>False</td>\n",
              "      <td>False</td>\n",
              "      <td>False</td>\n",
              "      <td>False</td>\n",
              "      <td>False</td>\n",
              "      <td>False</td>\n",
              "      <td>False</td>\n",
              "      <td>False</td>\n",
              "      <td>True</td>\n",
              "      <td>True</td>\n",
              "      <td>True</td>\n",
              "      <td>True</td>\n",
              "      <td>True</td>\n",
              "      <td>True</td>\n",
              "      <td>True</td>\n",
              "      <td>False</td>\n",
              "      <td>False</td>\n",
              "      <td>False</td>\n",
              "      <td>False</td>\n",
              "      <td>False</td>\n",
              "      <td>False</td>\n",
              "      <td>False</td>\n",
              "      <td>True</td>\n",
              "      <td>False</td>\n",
              "      <td>False</td>\n",
              "      <td>True</td>\n",
              "      <td>True</td>\n",
              "      <td>False</td>\n",
              "      <td>False</td>\n",
              "      <td>False</td>\n",
              "    </tr>\n",
              "    <tr>\n",
              "      <th>...</th>\n",
              "      <td>...</td>\n",
              "      <td>...</td>\n",
              "      <td>...</td>\n",
              "      <td>...</td>\n",
              "      <td>...</td>\n",
              "      <td>...</td>\n",
              "      <td>...</td>\n",
              "      <td>...</td>\n",
              "      <td>...</td>\n",
              "      <td>...</td>\n",
              "      <td>...</td>\n",
              "      <td>...</td>\n",
              "      <td>...</td>\n",
              "      <td>...</td>\n",
              "      <td>...</td>\n",
              "      <td>...</td>\n",
              "      <td>...</td>\n",
              "      <td>...</td>\n",
              "      <td>...</td>\n",
              "      <td>...</td>\n",
              "      <td>...</td>\n",
              "      <td>...</td>\n",
              "      <td>...</td>\n",
              "      <td>...</td>\n",
              "      <td>...</td>\n",
              "      <td>...</td>\n",
              "      <td>...</td>\n",
              "      <td>...</td>\n",
              "      <td>...</td>\n",
              "      <td>...</td>\n",
              "      <td>...</td>\n",
              "      <td>...</td>\n",
              "      <td>...</td>\n",
              "      <td>...</td>\n",
              "    </tr>\n",
              "    <tr>\n",
              "      <th>26744</th>\n",
              "      <td>True</td>\n",
              "      <td>True</td>\n",
              "      <td>False</td>\n",
              "      <td>False</td>\n",
              "      <td>False</td>\n",
              "      <td>False</td>\n",
              "      <td>False</td>\n",
              "      <td>False</td>\n",
              "      <td>True</td>\n",
              "      <td>True</td>\n",
              "      <td>True</td>\n",
              "      <td>True</td>\n",
              "      <td>True</td>\n",
              "      <td>True</td>\n",
              "      <td>True</td>\n",
              "      <td>True</td>\n",
              "      <td>True</td>\n",
              "      <td>True</td>\n",
              "      <td>True</td>\n",
              "      <td>True</td>\n",
              "      <td>True</td>\n",
              "      <td>True</td>\n",
              "      <td>True</td>\n",
              "      <td>True</td>\n",
              "      <td>True</td>\n",
              "      <td>True</td>\n",
              "      <td>True</td>\n",
              "      <td>True</td>\n",
              "      <td>True</td>\n",
              "      <td>True</td>\n",
              "      <td>True</td>\n",
              "      <td>True</td>\n",
              "      <td>True</td>\n",
              "      <td>True</td>\n",
              "    </tr>\n",
              "    <tr>\n",
              "      <th>26745</th>\n",
              "      <td>True</td>\n",
              "      <td>True</td>\n",
              "      <td>False</td>\n",
              "      <td>False</td>\n",
              "      <td>False</td>\n",
              "      <td>False</td>\n",
              "      <td>False</td>\n",
              "      <td>False</td>\n",
              "      <td>True</td>\n",
              "      <td>True</td>\n",
              "      <td>True</td>\n",
              "      <td>True</td>\n",
              "      <td>True</td>\n",
              "      <td>True</td>\n",
              "      <td>True</td>\n",
              "      <td>True</td>\n",
              "      <td>True</td>\n",
              "      <td>True</td>\n",
              "      <td>True</td>\n",
              "      <td>True</td>\n",
              "      <td>True</td>\n",
              "      <td>True</td>\n",
              "      <td>True</td>\n",
              "      <td>True</td>\n",
              "      <td>True</td>\n",
              "      <td>True</td>\n",
              "      <td>True</td>\n",
              "      <td>True</td>\n",
              "      <td>True</td>\n",
              "      <td>True</td>\n",
              "      <td>True</td>\n",
              "      <td>True</td>\n",
              "      <td>True</td>\n",
              "      <td>True</td>\n",
              "    </tr>\n",
              "    <tr>\n",
              "      <th>26746</th>\n",
              "      <td>True</td>\n",
              "      <td>True</td>\n",
              "      <td>False</td>\n",
              "      <td>False</td>\n",
              "      <td>False</td>\n",
              "      <td>False</td>\n",
              "      <td>False</td>\n",
              "      <td>False</td>\n",
              "      <td>True</td>\n",
              "      <td>True</td>\n",
              "      <td>True</td>\n",
              "      <td>True</td>\n",
              "      <td>True</td>\n",
              "      <td>True</td>\n",
              "      <td>True</td>\n",
              "      <td>True</td>\n",
              "      <td>True</td>\n",
              "      <td>True</td>\n",
              "      <td>True</td>\n",
              "      <td>True</td>\n",
              "      <td>True</td>\n",
              "      <td>True</td>\n",
              "      <td>True</td>\n",
              "      <td>True</td>\n",
              "      <td>True</td>\n",
              "      <td>True</td>\n",
              "      <td>True</td>\n",
              "      <td>True</td>\n",
              "      <td>True</td>\n",
              "      <td>True</td>\n",
              "      <td>True</td>\n",
              "      <td>True</td>\n",
              "      <td>True</td>\n",
              "      <td>True</td>\n",
              "    </tr>\n",
              "    <tr>\n",
              "      <th>26747</th>\n",
              "      <td>True</td>\n",
              "      <td>True</td>\n",
              "      <td>False</td>\n",
              "      <td>False</td>\n",
              "      <td>False</td>\n",
              "      <td>False</td>\n",
              "      <td>False</td>\n",
              "      <td>False</td>\n",
              "      <td>True</td>\n",
              "      <td>True</td>\n",
              "      <td>True</td>\n",
              "      <td>True</td>\n",
              "      <td>True</td>\n",
              "      <td>True</td>\n",
              "      <td>True</td>\n",
              "      <td>True</td>\n",
              "      <td>True</td>\n",
              "      <td>True</td>\n",
              "      <td>True</td>\n",
              "      <td>True</td>\n",
              "      <td>True</td>\n",
              "      <td>True</td>\n",
              "      <td>True</td>\n",
              "      <td>True</td>\n",
              "      <td>True</td>\n",
              "      <td>True</td>\n",
              "      <td>True</td>\n",
              "      <td>True</td>\n",
              "      <td>True</td>\n",
              "      <td>True</td>\n",
              "      <td>True</td>\n",
              "      <td>True</td>\n",
              "      <td>True</td>\n",
              "      <td>True</td>\n",
              "    </tr>\n",
              "    <tr>\n",
              "      <th>26748</th>\n",
              "      <td>True</td>\n",
              "      <td>True</td>\n",
              "      <td>False</td>\n",
              "      <td>False</td>\n",
              "      <td>False</td>\n",
              "      <td>False</td>\n",
              "      <td>False</td>\n",
              "      <td>False</td>\n",
              "      <td>True</td>\n",
              "      <td>True</td>\n",
              "      <td>True</td>\n",
              "      <td>True</td>\n",
              "      <td>True</td>\n",
              "      <td>True</td>\n",
              "      <td>True</td>\n",
              "      <td>True</td>\n",
              "      <td>True</td>\n",
              "      <td>True</td>\n",
              "      <td>True</td>\n",
              "      <td>True</td>\n",
              "      <td>True</td>\n",
              "      <td>True</td>\n",
              "      <td>True</td>\n",
              "      <td>True</td>\n",
              "      <td>True</td>\n",
              "      <td>True</td>\n",
              "      <td>True</td>\n",
              "      <td>True</td>\n",
              "      <td>True</td>\n",
              "      <td>True</td>\n",
              "      <td>True</td>\n",
              "      <td>True</td>\n",
              "      <td>True</td>\n",
              "      <td>True</td>\n",
              "    </tr>\n",
              "  </tbody>\n",
              "</table>\n",
              "<p>26749 rows × 34 columns</p>\n",
              "</div>"
            ],
            "text/plain": [
              "       iso_code  continent  ...  hospital_beds_per_thousand  life_expectancy\n",
              "0         False      False  ...                       False            False\n",
              "1         False      False  ...                       False            False\n",
              "2         False      False  ...                       False            False\n",
              "3         False      False  ...                       False            False\n",
              "4         False      False  ...                       False            False\n",
              "...         ...        ...  ...                         ...              ...\n",
              "26744      True       True  ...                        True             True\n",
              "26745      True       True  ...                        True             True\n",
              "26746      True       True  ...                        True             True\n",
              "26747      True       True  ...                        True             True\n",
              "26748      True       True  ...                        True             True\n",
              "\n",
              "[26749 rows x 34 columns]"
            ]
          },
          "metadata": {
            "tags": []
          },
          "execution_count": 11
        }
      ]
    },
    {
      "cell_type": "markdown",
      "metadata": {
        "id": "HkbND0h4u-ZX",
        "colab_type": "text"
      },
      "source": [
        "Mas observar uma tabela com todos esses `True` e `False` não nos diz muita coisa. \n",
        "\n",
        "Devemos agrupá-los.\n",
        "\n",
        "Podemos utlizar o método `sum()` para somar os True e obtermos os totais."
      ]
    },
    {
      "cell_type": "code",
      "metadata": {
        "id": "NNsioTUXuagf",
        "colab_type": "code",
        "colab": {
          "base_uri": "https://localhost:8080/",
          "height": 0
        },
        "outputId": "f4111b7b-8b1c-4c48-c99e-18673e34b130"
      },
      "source": [
        "#totais de valores ausentes\n",
        "df_covid19.isnull().sum().sort_values(ascending=False)"
      ],
      "execution_count": 12,
      "outputs": [
        {
          "output_type": "execute_result",
          "data": {
            "text/plain": [
              "new_tests                          19901\n",
              "new_tests_per_thousand             19901\n",
              "total_tests_per_thousand           19226\n",
              "total_tests                        19226\n",
              "new_tests_smoothed_per_thousand    18611\n",
              "new_tests_smoothed                 18611\n",
              "tests_units                        17992\n",
              "handwashing_facilities             15847\n",
              "extreme_poverty                    10782\n",
              "male_smokers                        7587\n",
              "female_smokers                      7363\n",
              "stringency_index                    5379\n",
              "hospital_beds_per_thousand          4631\n",
              "aged_65_older                       2925\n",
              "gdp_per_capita                      2857\n",
              "aged_70_older                       2707\n",
              "median_age                          2583\n",
              "cvd_death_rate                      2553\n",
              "diabetes_prevalence                 1769\n",
              "population_density                  1165\n",
              "life_expectancy                      371\n",
              "new_deaths_per_million               279\n",
              "total_deaths_per_million             279\n",
              "new_cases_per_million                279\n",
              "total_cases_per_million              279\n",
              "continent                            245\n",
              "new_deaths                           215\n",
              "total_deaths                         215\n",
              "new_cases                            215\n",
              "total_cases                          215\n",
              "population                            64\n",
              "iso_code                              64\n",
              "date                                   0\n",
              "location                               0\n",
              "dtype: int64"
            ]
          },
          "metadata": {
            "tags": []
          },
          "execution_count": 12
        }
      ]
    },
    {
      "cell_type": "markdown",
      "metadata": {
        "id": "c9ppBf0nv1p5",
        "colab_type": "text"
      },
      "source": [
        "Podemos notar aque apenas `location` e `date` possuem todos os valores preenchidos.\n",
        "\n",
        "Agora vamos mostrar esses totais em forma porcentual."
      ]
    },
    {
      "cell_type": "code",
      "metadata": {
        "id": "PKurXkZbvqDi",
        "colab_type": "code",
        "colab": {
          "base_uri": "https://localhost:8080/",
          "height": 0
        },
        "outputId": "d7104591-4365-46dc-d559-85edf9ef85f7"
      },
      "source": [
        "#apresentar valores nulos de forma percentual\n",
        "#for i in df_covid19.columns:\n",
        "(df_covid19.isnull().sum() / df_covid19.shape[0]).sort_values(ascending=False)"
      ],
      "execution_count": 13,
      "outputs": [
        {
          "output_type": "execute_result",
          "data": {
            "text/plain": [
              "new_tests                          0.743990\n",
              "new_tests_per_thousand             0.743990\n",
              "total_tests_per_thousand           0.718756\n",
              "total_tests                        0.718756\n",
              "new_tests_smoothed_per_thousand    0.695764\n",
              "new_tests_smoothed                 0.695764\n",
              "tests_units                        0.672623\n",
              "handwashing_facilities             0.592433\n",
              "extreme_poverty                    0.403080\n",
              "male_smokers                       0.283637\n",
              "female_smokers                     0.275263\n",
              "stringency_index                   0.201092\n",
              "hospital_beds_per_thousand         0.173128\n",
              "aged_65_older                      0.109350\n",
              "gdp_per_capita                     0.106808\n",
              "aged_70_older                      0.101200\n",
              "median_age                         0.096564\n",
              "cvd_death_rate                     0.095443\n",
              "diabetes_prevalence                0.066133\n",
              "population_density                 0.043553\n",
              "life_expectancy                    0.013870\n",
              "new_deaths_per_million             0.010430\n",
              "total_deaths_per_million           0.010430\n",
              "new_cases_per_million              0.010430\n",
              "total_cases_per_million            0.010430\n",
              "continent                          0.009159\n",
              "new_deaths                         0.008038\n",
              "total_deaths                       0.008038\n",
              "new_cases                          0.008038\n",
              "total_cases                        0.008038\n",
              "population                         0.002393\n",
              "iso_code                           0.002393\n",
              "date                               0.000000\n",
              "location                           0.000000\n",
              "dtype: float64"
            ]
          },
          "metadata": {
            "tags": []
          },
          "execution_count": 13
        }
      ]
    },
    {
      "cell_type": "markdown",
      "metadata": {
        "id": "Ntu6-Zo_zgy9",
        "colab_type": "text"
      },
      "source": [
        "As colunas abaixos possuem os maiores percentuais de dados ausentes:\n",
        "```\n",
        "* total_tests               - 0,714%\n",
        "* new_tests                 - 0,740%\n",
        "* total_tests_per_thousand  - 0,714%\n",
        "* new_tests_per_thousand    - 0,740%\n",
        "```"
      ]
    },
    {
      "cell_type": "markdown",
      "metadata": {
        "id": "Lyty8obn0hsj",
        "colab_type": "text"
      },
      "source": [
        "Dependendo da abordagem da análise, podemos optar por retirar esses registros ausentes, como também, podemos imputar dados a partir de métrica estatística ou mesmo substituir por algum valor definido por uma regra de negócio."
      ]
    },
    {
      "cell_type": "markdown",
      "metadata": {
        "id": "yPhBjedHGD52",
        "colab_type": "text"
      },
      "source": [
        "#Visualização"
      ]
    },
    {
      "cell_type": "markdown",
      "metadata": {
        "id": "8Ke99xl1GMLF",
        "colab_type": "text"
      },
      "source": [
        "Vamos retirar alguns insights dos dados e apresentá-los de forma gŕafica."
      ]
    },
    {
      "cell_type": "markdown",
      "metadata": {
        "id": "IiQNrskUGZil",
        "colab_type": "text"
      },
      "source": [
        "## Covid no mundo\n",
        "\n",
        "Qual o último total de casos acumulados no mundo da covid19?\n",
        "\n",
        "Analisando o DF percbemos que eles apresentam subtotais diários, na localização 'world'. Então basta filtrarmos o DF a partir desses parâmetros."
      ]
    },
    {
      "cell_type": "code",
      "metadata": {
        "id": "ah9Pej0xw5oj",
        "colab_type": "code",
        "colab": {
          "base_uri": "https://localhost:8080/",
          "height": 600
        },
        "outputId": "811ae20e-8286-4607-a658-57e7b734fb4a"
      },
      "source": [
        "#filtrar as colunas a partir da localidade 'world'\n",
        "df_covid19.loc[df_covid19.location == 'World']"
      ],
      "execution_count": 14,
      "outputs": [
        {
          "output_type": "execute_result",
          "data": {
            "text/html": [
              "<div>\n",
              "<style scoped>\n",
              "    .dataframe tbody tr th:only-of-type {\n",
              "        vertical-align: middle;\n",
              "    }\n",
              "\n",
              "    .dataframe tbody tr th {\n",
              "        vertical-align: top;\n",
              "    }\n",
              "\n",
              "    .dataframe thead th {\n",
              "        text-align: right;\n",
              "    }\n",
              "</style>\n",
              "<table border=\"1\" class=\"dataframe\">\n",
              "  <thead>\n",
              "    <tr style=\"text-align: right;\">\n",
              "      <th></th>\n",
              "      <th>iso_code</th>\n",
              "      <th>continent</th>\n",
              "      <th>location</th>\n",
              "      <th>date</th>\n",
              "      <th>total_cases</th>\n",
              "      <th>new_cases</th>\n",
              "      <th>total_deaths</th>\n",
              "      <th>new_deaths</th>\n",
              "      <th>total_cases_per_million</th>\n",
              "      <th>new_cases_per_million</th>\n",
              "      <th>total_deaths_per_million</th>\n",
              "      <th>new_deaths_per_million</th>\n",
              "      <th>total_tests</th>\n",
              "      <th>new_tests</th>\n",
              "      <th>total_tests_per_thousand</th>\n",
              "      <th>new_tests_per_thousand</th>\n",
              "      <th>new_tests_smoothed</th>\n",
              "      <th>new_tests_smoothed_per_thousand</th>\n",
              "      <th>tests_units</th>\n",
              "      <th>stringency_index</th>\n",
              "      <th>population</th>\n",
              "      <th>population_density</th>\n",
              "      <th>median_age</th>\n",
              "      <th>aged_65_older</th>\n",
              "      <th>aged_70_older</th>\n",
              "      <th>gdp_per_capita</th>\n",
              "      <th>extreme_poverty</th>\n",
              "      <th>cvd_death_rate</th>\n",
              "      <th>diabetes_prevalence</th>\n",
              "      <th>female_smokers</th>\n",
              "      <th>male_smokers</th>\n",
              "      <th>handwashing_facilities</th>\n",
              "      <th>hospital_beds_per_thousand</th>\n",
              "      <th>life_expectancy</th>\n",
              "    </tr>\n",
              "  </thead>\n",
              "  <tbody>\n",
              "    <tr>\n",
              "      <th>26504</th>\n",
              "      <td>OWID_WRL</td>\n",
              "      <td>NaN</td>\n",
              "      <td>World</td>\n",
              "      <td>2019-12-31</td>\n",
              "      <td>27.0</td>\n",
              "      <td>27.0</td>\n",
              "      <td>0.0</td>\n",
              "      <td>0.0</td>\n",
              "      <td>0.003</td>\n",
              "      <td>0.003</td>\n",
              "      <td>0.000</td>\n",
              "      <td>0.000</td>\n",
              "      <td>NaN</td>\n",
              "      <td>NaN</td>\n",
              "      <td>NaN</td>\n",
              "      <td>NaN</td>\n",
              "      <td>NaN</td>\n",
              "      <td>NaN</td>\n",
              "      <td>NaN</td>\n",
              "      <td>NaN</td>\n",
              "      <td>7.794799e+09</td>\n",
              "      <td>58.045</td>\n",
              "      <td>30.9</td>\n",
              "      <td>8.696</td>\n",
              "      <td>5.355</td>\n",
              "      <td>15469.207</td>\n",
              "      <td>10.0</td>\n",
              "      <td>233.07</td>\n",
              "      <td>8.51</td>\n",
              "      <td>6.434</td>\n",
              "      <td>34.635</td>\n",
              "      <td>60.13</td>\n",
              "      <td>2.705</td>\n",
              "      <td>72.58</td>\n",
              "    </tr>\n",
              "    <tr>\n",
              "      <th>26505</th>\n",
              "      <td>OWID_WRL</td>\n",
              "      <td>NaN</td>\n",
              "      <td>World</td>\n",
              "      <td>2020-01-01</td>\n",
              "      <td>27.0</td>\n",
              "      <td>0.0</td>\n",
              "      <td>0.0</td>\n",
              "      <td>0.0</td>\n",
              "      <td>0.003</td>\n",
              "      <td>0.000</td>\n",
              "      <td>0.000</td>\n",
              "      <td>0.000</td>\n",
              "      <td>NaN</td>\n",
              "      <td>NaN</td>\n",
              "      <td>NaN</td>\n",
              "      <td>NaN</td>\n",
              "      <td>NaN</td>\n",
              "      <td>NaN</td>\n",
              "      <td>NaN</td>\n",
              "      <td>NaN</td>\n",
              "      <td>7.794799e+09</td>\n",
              "      <td>58.045</td>\n",
              "      <td>30.9</td>\n",
              "      <td>8.696</td>\n",
              "      <td>5.355</td>\n",
              "      <td>15469.207</td>\n",
              "      <td>10.0</td>\n",
              "      <td>233.07</td>\n",
              "      <td>8.51</td>\n",
              "      <td>6.434</td>\n",
              "      <td>34.635</td>\n",
              "      <td>60.13</td>\n",
              "      <td>2.705</td>\n",
              "      <td>72.58</td>\n",
              "    </tr>\n",
              "    <tr>\n",
              "      <th>26506</th>\n",
              "      <td>OWID_WRL</td>\n",
              "      <td>NaN</td>\n",
              "      <td>World</td>\n",
              "      <td>2020-01-02</td>\n",
              "      <td>27.0</td>\n",
              "      <td>0.0</td>\n",
              "      <td>0.0</td>\n",
              "      <td>0.0</td>\n",
              "      <td>0.003</td>\n",
              "      <td>0.000</td>\n",
              "      <td>0.000</td>\n",
              "      <td>0.000</td>\n",
              "      <td>NaN</td>\n",
              "      <td>NaN</td>\n",
              "      <td>NaN</td>\n",
              "      <td>NaN</td>\n",
              "      <td>NaN</td>\n",
              "      <td>NaN</td>\n",
              "      <td>NaN</td>\n",
              "      <td>NaN</td>\n",
              "      <td>7.794799e+09</td>\n",
              "      <td>58.045</td>\n",
              "      <td>30.9</td>\n",
              "      <td>8.696</td>\n",
              "      <td>5.355</td>\n",
              "      <td>15469.207</td>\n",
              "      <td>10.0</td>\n",
              "      <td>233.07</td>\n",
              "      <td>8.51</td>\n",
              "      <td>6.434</td>\n",
              "      <td>34.635</td>\n",
              "      <td>60.13</td>\n",
              "      <td>2.705</td>\n",
              "      <td>72.58</td>\n",
              "    </tr>\n",
              "    <tr>\n",
              "      <th>26507</th>\n",
              "      <td>OWID_WRL</td>\n",
              "      <td>NaN</td>\n",
              "      <td>World</td>\n",
              "      <td>2020-01-03</td>\n",
              "      <td>44.0</td>\n",
              "      <td>17.0</td>\n",
              "      <td>0.0</td>\n",
              "      <td>0.0</td>\n",
              "      <td>0.006</td>\n",
              "      <td>0.002</td>\n",
              "      <td>0.000</td>\n",
              "      <td>0.000</td>\n",
              "      <td>NaN</td>\n",
              "      <td>NaN</td>\n",
              "      <td>NaN</td>\n",
              "      <td>NaN</td>\n",
              "      <td>NaN</td>\n",
              "      <td>NaN</td>\n",
              "      <td>NaN</td>\n",
              "      <td>NaN</td>\n",
              "      <td>7.794799e+09</td>\n",
              "      <td>58.045</td>\n",
              "      <td>30.9</td>\n",
              "      <td>8.696</td>\n",
              "      <td>5.355</td>\n",
              "      <td>15469.207</td>\n",
              "      <td>10.0</td>\n",
              "      <td>233.07</td>\n",
              "      <td>8.51</td>\n",
              "      <td>6.434</td>\n",
              "      <td>34.635</td>\n",
              "      <td>60.13</td>\n",
              "      <td>2.705</td>\n",
              "      <td>72.58</td>\n",
              "    </tr>\n",
              "    <tr>\n",
              "      <th>26508</th>\n",
              "      <td>OWID_WRL</td>\n",
              "      <td>NaN</td>\n",
              "      <td>World</td>\n",
              "      <td>2020-01-04</td>\n",
              "      <td>44.0</td>\n",
              "      <td>0.0</td>\n",
              "      <td>0.0</td>\n",
              "      <td>0.0</td>\n",
              "      <td>0.006</td>\n",
              "      <td>0.000</td>\n",
              "      <td>0.000</td>\n",
              "      <td>0.000</td>\n",
              "      <td>NaN</td>\n",
              "      <td>NaN</td>\n",
              "      <td>NaN</td>\n",
              "      <td>NaN</td>\n",
              "      <td>NaN</td>\n",
              "      <td>NaN</td>\n",
              "      <td>NaN</td>\n",
              "      <td>NaN</td>\n",
              "      <td>7.794799e+09</td>\n",
              "      <td>58.045</td>\n",
              "      <td>30.9</td>\n",
              "      <td>8.696</td>\n",
              "      <td>5.355</td>\n",
              "      <td>15469.207</td>\n",
              "      <td>10.0</td>\n",
              "      <td>233.07</td>\n",
              "      <td>8.51</td>\n",
              "      <td>6.434</td>\n",
              "      <td>34.635</td>\n",
              "      <td>60.13</td>\n",
              "      <td>2.705</td>\n",
              "      <td>72.58</td>\n",
              "    </tr>\n",
              "    <tr>\n",
              "      <th>...</th>\n",
              "      <td>...</td>\n",
              "      <td>...</td>\n",
              "      <td>...</td>\n",
              "      <td>...</td>\n",
              "      <td>...</td>\n",
              "      <td>...</td>\n",
              "      <td>...</td>\n",
              "      <td>...</td>\n",
              "      <td>...</td>\n",
              "      <td>...</td>\n",
              "      <td>...</td>\n",
              "      <td>...</td>\n",
              "      <td>...</td>\n",
              "      <td>...</td>\n",
              "      <td>...</td>\n",
              "      <td>...</td>\n",
              "      <td>...</td>\n",
              "      <td>...</td>\n",
              "      <td>...</td>\n",
              "      <td>...</td>\n",
              "      <td>...</td>\n",
              "      <td>...</td>\n",
              "      <td>...</td>\n",
              "      <td>...</td>\n",
              "      <td>...</td>\n",
              "      <td>...</td>\n",
              "      <td>...</td>\n",
              "      <td>...</td>\n",
              "      <td>...</td>\n",
              "      <td>...</td>\n",
              "      <td>...</td>\n",
              "      <td>...</td>\n",
              "      <td>...</td>\n",
              "      <td>...</td>\n",
              "    </tr>\n",
              "    <tr>\n",
              "      <th>26680</th>\n",
              "      <td>OWID_WRL</td>\n",
              "      <td>NaN</td>\n",
              "      <td>World</td>\n",
              "      <td>2020-06-24</td>\n",
              "      <td>9229573.0</td>\n",
              "      <td>165799.0</td>\n",
              "      <td>477285.0</td>\n",
              "      <td>5577.0</td>\n",
              "      <td>1184.068</td>\n",
              "      <td>21.270</td>\n",
              "      <td>61.231</td>\n",
              "      <td>0.715</td>\n",
              "      <td>NaN</td>\n",
              "      <td>NaN</td>\n",
              "      <td>NaN</td>\n",
              "      <td>NaN</td>\n",
              "      <td>NaN</td>\n",
              "      <td>NaN</td>\n",
              "      <td>NaN</td>\n",
              "      <td>NaN</td>\n",
              "      <td>7.794799e+09</td>\n",
              "      <td>58.045</td>\n",
              "      <td>30.9</td>\n",
              "      <td>8.696</td>\n",
              "      <td>5.355</td>\n",
              "      <td>15469.207</td>\n",
              "      <td>10.0</td>\n",
              "      <td>233.07</td>\n",
              "      <td>8.51</td>\n",
              "      <td>6.434</td>\n",
              "      <td>34.635</td>\n",
              "      <td>60.13</td>\n",
              "      <td>2.705</td>\n",
              "      <td>72.58</td>\n",
              "    </tr>\n",
              "    <tr>\n",
              "      <th>26681</th>\n",
              "      <td>OWID_WRL</td>\n",
              "      <td>NaN</td>\n",
              "      <td>World</td>\n",
              "      <td>2020-06-25</td>\n",
              "      <td>9400810.0</td>\n",
              "      <td>171237.0</td>\n",
              "      <td>482479.0</td>\n",
              "      <td>5194.0</td>\n",
              "      <td>1206.036</td>\n",
              "      <td>21.968</td>\n",
              "      <td>61.898</td>\n",
              "      <td>0.666</td>\n",
              "      <td>NaN</td>\n",
              "      <td>NaN</td>\n",
              "      <td>NaN</td>\n",
              "      <td>NaN</td>\n",
              "      <td>NaN</td>\n",
              "      <td>NaN</td>\n",
              "      <td>NaN</td>\n",
              "      <td>NaN</td>\n",
              "      <td>7.794799e+09</td>\n",
              "      <td>58.045</td>\n",
              "      <td>30.9</td>\n",
              "      <td>8.696</td>\n",
              "      <td>5.355</td>\n",
              "      <td>15469.207</td>\n",
              "      <td>10.0</td>\n",
              "      <td>233.07</td>\n",
              "      <td>8.51</td>\n",
              "      <td>6.434</td>\n",
              "      <td>34.635</td>\n",
              "      <td>60.13</td>\n",
              "      <td>2.705</td>\n",
              "      <td>72.58</td>\n",
              "    </tr>\n",
              "    <tr>\n",
              "      <th>26682</th>\n",
              "      <td>OWID_WRL</td>\n",
              "      <td>NaN</td>\n",
              "      <td>World</td>\n",
              "      <td>2020-06-26</td>\n",
              "      <td>9582321.0</td>\n",
              "      <td>181511.0</td>\n",
              "      <td>489195.0</td>\n",
              "      <td>6716.0</td>\n",
              "      <td>1229.322</td>\n",
              "      <td>23.286</td>\n",
              "      <td>62.759</td>\n",
              "      <td>0.862</td>\n",
              "      <td>NaN</td>\n",
              "      <td>NaN</td>\n",
              "      <td>NaN</td>\n",
              "      <td>NaN</td>\n",
              "      <td>NaN</td>\n",
              "      <td>NaN</td>\n",
              "      <td>NaN</td>\n",
              "      <td>NaN</td>\n",
              "      <td>7.794799e+09</td>\n",
              "      <td>58.045</td>\n",
              "      <td>30.9</td>\n",
              "      <td>8.696</td>\n",
              "      <td>5.355</td>\n",
              "      <td>15469.207</td>\n",
              "      <td>10.0</td>\n",
              "      <td>233.07</td>\n",
              "      <td>8.51</td>\n",
              "      <td>6.434</td>\n",
              "      <td>34.635</td>\n",
              "      <td>60.13</td>\n",
              "      <td>2.705</td>\n",
              "      <td>72.58</td>\n",
              "    </tr>\n",
              "    <tr>\n",
              "      <th>26683</th>\n",
              "      <td>OWID_WRL</td>\n",
              "      <td>NaN</td>\n",
              "      <td>World</td>\n",
              "      <td>2020-06-27</td>\n",
              "      <td>9771518.0</td>\n",
              "      <td>189197.0</td>\n",
              "      <td>493896.0</td>\n",
              "      <td>4701.0</td>\n",
              "      <td>1253.595</td>\n",
              "      <td>24.272</td>\n",
              "      <td>63.362</td>\n",
              "      <td>0.603</td>\n",
              "      <td>NaN</td>\n",
              "      <td>NaN</td>\n",
              "      <td>NaN</td>\n",
              "      <td>NaN</td>\n",
              "      <td>NaN</td>\n",
              "      <td>NaN</td>\n",
              "      <td>NaN</td>\n",
              "      <td>NaN</td>\n",
              "      <td>7.794799e+09</td>\n",
              "      <td>58.045</td>\n",
              "      <td>30.9</td>\n",
              "      <td>8.696</td>\n",
              "      <td>5.355</td>\n",
              "      <td>15469.207</td>\n",
              "      <td>10.0</td>\n",
              "      <td>233.07</td>\n",
              "      <td>8.51</td>\n",
              "      <td>6.434</td>\n",
              "      <td>34.635</td>\n",
              "      <td>60.13</td>\n",
              "      <td>2.705</td>\n",
              "      <td>72.58</td>\n",
              "    </tr>\n",
              "    <tr>\n",
              "      <th>26684</th>\n",
              "      <td>OWID_WRL</td>\n",
              "      <td>NaN</td>\n",
              "      <td>World</td>\n",
              "      <td>2020-06-28</td>\n",
              "      <td>9952507.0</td>\n",
              "      <td>180989.0</td>\n",
              "      <td>498519.0</td>\n",
              "      <td>4623.0</td>\n",
              "      <td>1276.814</td>\n",
              "      <td>23.219</td>\n",
              "      <td>63.955</td>\n",
              "      <td>0.593</td>\n",
              "      <td>NaN</td>\n",
              "      <td>NaN</td>\n",
              "      <td>NaN</td>\n",
              "      <td>NaN</td>\n",
              "      <td>NaN</td>\n",
              "      <td>NaN</td>\n",
              "      <td>NaN</td>\n",
              "      <td>NaN</td>\n",
              "      <td>7.794799e+09</td>\n",
              "      <td>58.045</td>\n",
              "      <td>30.9</td>\n",
              "      <td>8.696</td>\n",
              "      <td>5.355</td>\n",
              "      <td>15469.207</td>\n",
              "      <td>10.0</td>\n",
              "      <td>233.07</td>\n",
              "      <td>8.51</td>\n",
              "      <td>6.434</td>\n",
              "      <td>34.635</td>\n",
              "      <td>60.13</td>\n",
              "      <td>2.705</td>\n",
              "      <td>72.58</td>\n",
              "    </tr>\n",
              "  </tbody>\n",
              "</table>\n",
              "<p>181 rows × 34 columns</p>\n",
              "</div>"
            ],
            "text/plain": [
              "       iso_code continent  ... hospital_beds_per_thousand life_expectancy\n",
              "26504  OWID_WRL       NaN  ...                      2.705           72.58\n",
              "26505  OWID_WRL       NaN  ...                      2.705           72.58\n",
              "26506  OWID_WRL       NaN  ...                      2.705           72.58\n",
              "26507  OWID_WRL       NaN  ...                      2.705           72.58\n",
              "26508  OWID_WRL       NaN  ...                      2.705           72.58\n",
              "...         ...       ...  ...                        ...             ...\n",
              "26680  OWID_WRL       NaN  ...                      2.705           72.58\n",
              "26681  OWID_WRL       NaN  ...                      2.705           72.58\n",
              "26682  OWID_WRL       NaN  ...                      2.705           72.58\n",
              "26683  OWID_WRL       NaN  ...                      2.705           72.58\n",
              "26684  OWID_WRL       NaN  ...                      2.705           72.58\n",
              "\n",
              "[181 rows x 34 columns]"
            ]
          },
          "metadata": {
            "tags": []
          },
          "execution_count": 14
        }
      ]
    },
    {
      "cell_type": "markdown",
      "metadata": {
        "id": "tpPJgADVeSCW",
        "colab_type": "text"
      },
      "source": [
        "Vamos criar uma rotina para selecionar os mais recentes valores da coluna 'total_cases' e 'total_deaths'."
      ]
    },
    {
      "cell_type": "code",
      "metadata": {
        "id": "b-i9NQrFG8on",
        "colab_type": "code",
        "colab": {
          "base_uri": "https://localhost:8080/",
          "height": 407
        },
        "outputId": "d2cc1762-8709-4194-eac4-bfd2d14407a3"
      },
      "source": [
        "#filtramos as datas e total de casos para a localidade 'World'\n",
        "df_covid19.loc[df_covid19.location == 'World'][ ['date','total_cases',  'total_deaths']]\n",
        "                                                                                                                                    "
      ],
      "execution_count": 15,
      "outputs": [
        {
          "output_type": "execute_result",
          "data": {
            "text/html": [
              "<div>\n",
              "<style scoped>\n",
              "    .dataframe tbody tr th:only-of-type {\n",
              "        vertical-align: middle;\n",
              "    }\n",
              "\n",
              "    .dataframe tbody tr th {\n",
              "        vertical-align: top;\n",
              "    }\n",
              "\n",
              "    .dataframe thead th {\n",
              "        text-align: right;\n",
              "    }\n",
              "</style>\n",
              "<table border=\"1\" class=\"dataframe\">\n",
              "  <thead>\n",
              "    <tr style=\"text-align: right;\">\n",
              "      <th></th>\n",
              "      <th>date</th>\n",
              "      <th>total_cases</th>\n",
              "      <th>total_deaths</th>\n",
              "    </tr>\n",
              "  </thead>\n",
              "  <tbody>\n",
              "    <tr>\n",
              "      <th>26504</th>\n",
              "      <td>2019-12-31</td>\n",
              "      <td>27.0</td>\n",
              "      <td>0.0</td>\n",
              "    </tr>\n",
              "    <tr>\n",
              "      <th>26505</th>\n",
              "      <td>2020-01-01</td>\n",
              "      <td>27.0</td>\n",
              "      <td>0.0</td>\n",
              "    </tr>\n",
              "    <tr>\n",
              "      <th>26506</th>\n",
              "      <td>2020-01-02</td>\n",
              "      <td>27.0</td>\n",
              "      <td>0.0</td>\n",
              "    </tr>\n",
              "    <tr>\n",
              "      <th>26507</th>\n",
              "      <td>2020-01-03</td>\n",
              "      <td>44.0</td>\n",
              "      <td>0.0</td>\n",
              "    </tr>\n",
              "    <tr>\n",
              "      <th>26508</th>\n",
              "      <td>2020-01-04</td>\n",
              "      <td>44.0</td>\n",
              "      <td>0.0</td>\n",
              "    </tr>\n",
              "    <tr>\n",
              "      <th>...</th>\n",
              "      <td>...</td>\n",
              "      <td>...</td>\n",
              "      <td>...</td>\n",
              "    </tr>\n",
              "    <tr>\n",
              "      <th>26680</th>\n",
              "      <td>2020-06-24</td>\n",
              "      <td>9229573.0</td>\n",
              "      <td>477285.0</td>\n",
              "    </tr>\n",
              "    <tr>\n",
              "      <th>26681</th>\n",
              "      <td>2020-06-25</td>\n",
              "      <td>9400810.0</td>\n",
              "      <td>482479.0</td>\n",
              "    </tr>\n",
              "    <tr>\n",
              "      <th>26682</th>\n",
              "      <td>2020-06-26</td>\n",
              "      <td>9582321.0</td>\n",
              "      <td>489195.0</td>\n",
              "    </tr>\n",
              "    <tr>\n",
              "      <th>26683</th>\n",
              "      <td>2020-06-27</td>\n",
              "      <td>9771518.0</td>\n",
              "      <td>493896.0</td>\n",
              "    </tr>\n",
              "    <tr>\n",
              "      <th>26684</th>\n",
              "      <td>2020-06-28</td>\n",
              "      <td>9952507.0</td>\n",
              "      <td>498519.0</td>\n",
              "    </tr>\n",
              "  </tbody>\n",
              "</table>\n",
              "<p>181 rows × 3 columns</p>\n",
              "</div>"
            ],
            "text/plain": [
              "            date  total_cases  total_deaths\n",
              "26504 2019-12-31         27.0           0.0\n",
              "26505 2020-01-01         27.0           0.0\n",
              "26506 2020-01-02         27.0           0.0\n",
              "26507 2020-01-03         44.0           0.0\n",
              "26508 2020-01-04         44.0           0.0\n",
              "...          ...          ...           ...\n",
              "26680 2020-06-24    9229573.0      477285.0\n",
              "26681 2020-06-25    9400810.0      482479.0\n",
              "26682 2020-06-26    9582321.0      489195.0\n",
              "26683 2020-06-27    9771518.0      493896.0\n",
              "26684 2020-06-28    9952507.0      498519.0\n",
              "\n",
              "[181 rows x 3 columns]"
            ]
          },
          "metadata": {
            "tags": []
          },
          "execution_count": 15
        }
      ]
    },
    {
      "cell_type": "markdown",
      "metadata": {
        "id": "a_JMWCgXelzm",
        "colab_type": "text"
      },
      "source": [
        "Definiremos dois DF para realizarmos nossas manipulações de dados."
      ]
    },
    {
      "cell_type": "code",
      "metadata": {
        "id": "BaS3tpe-KraM",
        "colab_type": "code",
        "colab": {}
      },
      "source": [
        "total_world = df_covid19.loc[df_covid19.location == 'World'][ ['date','total_cases']]\n",
        "total_deathw= df_covid19.loc[df_covid19.location == 'World'][ ['date','total_deaths']]\n"
      ],
      "execution_count": 16,
      "outputs": []
    },
    {
      "cell_type": "markdown",
      "metadata": {
        "id": "R__sDgC6etOx",
        "colab_type": "text"
      },
      "source": [
        "Importaremos mais algumas bibliotecas."
      ]
    },
    {
      "cell_type": "code",
      "metadata": {
        "id": "Hh5-HE3tLmWE",
        "colab_type": "code",
        "colab": {}
      },
      "source": [
        "import matplotlib.dates as mdates\n",
        "import datetime as dt\n",
        "from datetime import timedelta, date\n"
      ],
      "execution_count": 17,
      "outputs": []
    },
    {
      "cell_type": "markdown",
      "metadata": {
        "id": "Frs5DT1NezJF",
        "colab_type": "text"
      },
      "source": [
        "Pronto! Agora vamos montar nosso gráfico automatizado com os valores mais atuais de 'total_cases' e 'total_deaths'."
      ]
    },
    {
      "cell_type": "code",
      "metadata": {
        "id": "9m-iuqDlLnml",
        "colab_type": "code",
        "colab": {
          "base_uri": "https://localhost:8080/",
          "height": 569
        },
        "outputId": "3d0cce5d-e6b6-4173-ef22-ec06780e4ccb"
      },
      "source": [
        "#criar gráfico\n",
        "\n",
        "#Definir a última data do dataset\n",
        "data_max = df_covid19['date'].max().date()\n",
        "\n",
        "#parametros de adequação para as anotações no gráfico - quantitativos\n",
        "x_grafico = data_max - timedelta(20)\n",
        "x = [x_grafico, data_max]\n",
        "\n",
        "#últimos quantitativos para o total_case e total_deaths no dataset\n",
        "y_tc = int(df_covid19.loc[(df_covid19['date'] == str(data_max)) & (df_covid19['location'] == 'World')]['total_cases'])\n",
        "y_td = int(df_covid19.loc[(df_covid19['date'] == str(data_max)) & (df_covid19['location'] == 'World')]['total_deaths'])\n",
        "\n",
        "#configurações do gráfico\n",
        "#sns.set_style='whitegrid'\n",
        "sns.set(font='arial', style='whitegrid')\n",
        "\n",
        "fig, ax = plt.subplots(nrows = 1, ncols= 2, figsize=(15,10))\n",
        "\n",
        "\n",
        "\n",
        "#Gŕafico 01\n",
        "ax[0].plot_date('date', 'total_cases', 'b--', data= total_world)\n",
        "ax[0].plot_date('date', 'total_deaths', 'r', data = total_deathw)\n",
        "ax[0].set_yscale('linear')\n",
        "ax[0].set_title( 'Evolução de casos e óbitos de Covid 19 - Mundo\\n Escala Linear')\n",
        "ax[0].legend()\n",
        "\n",
        "#anotação e seta\n",
        "ax[0].annotate('Explosão de casos\\n 26/02/2020', xy=(dt.datetime(2020,2 , 26), 9e4), xytext=(dt.datetime(2020,1 , 30), 2.1e6),\n",
        "            arrowprops=dict(facecolor='blue', shrink=0.025))\n",
        "\n",
        "ax[0].annotate('Aumento do nº de óbitos\\n  06/03/2020', xy=(dt.datetime(2020,3 , 6), 6e4), xytext=(dt.datetime(2020,3 , 10), 1.2e6),\n",
        "            arrowprops=dict(facecolor='red', shrink=0.025))\n",
        "#total_cases\n",
        "ax[0].annotate(y_tc, (mdates.date2num(x[0]), y_tc+1e5),  \n",
        "            xytext=(10,10), textcoords='offset points')\n",
        "\n",
        "ax[0].annotate(str(x[1]), (mdates.date2num(x[0]), y_tc-1.5e5),  \n",
        "            xytext=(10,10), textcoords='offset points')\n",
        "\n",
        "#total_deaths\n",
        "ax[0].annotate(y_td, (mdates.date2num(x[0]), y_td+1e5),\n",
        "            xytext=(10,10), textcoords='offset points')\n",
        "\n",
        "ax[0].annotate(str(x[1]), (mdates.date2num(x[0]), y_td-1e5),  \n",
        "            xytext=(10,10), textcoords='offset points')\n",
        "\n",
        "ax[0].grid(axis='x')\n",
        "\n",
        "#Gŕafico 02\n",
        "ax[1].plot_date('date', 'total_cases', 'b--', data= total_world)\n",
        "ax[1].plot_date('date', 'total_deaths', 'r', data = total_deathw)\n",
        "ax[1].set_yscale('log')\n",
        "ax[1].set_title( 'Evolução de casos e óbitos de Covid 19 - Mundo\\n Escala Logarítmica')\n",
        "\n",
        "ax[1].legend()\n",
        "\n",
        "#anotação e seta\n",
        "ax[1].annotate('Explosão de casos\\n  26/02/2020', xy=(dt.datetime(2020,2 , 26), 8e4), xytext=(dt.datetime(2020,1 , 31), 4e5),\n",
        "            arrowprops=dict(facecolor='blue', shrink=0.05))\n",
        "\n",
        "ax[1].annotate('Aumento do nº de óbitos\\n  06/03/2020', xy=(dt.datetime(2020,3 , 6), 3.4e3), xytext=(dt.datetime(2020,3 , 13), 4e2),\n",
        "            arrowprops=dict(facecolor='red', shrink=0.025))\n",
        "#total_cases\n",
        "ax[1].annotate(y_tc, (mdates.date2num(x[0]), y_tc+2e5),  \n",
        "            xytext=(10,10), textcoords='offset points')\n",
        "\n",
        "ax[1].annotate(str(x[1]), (mdates.date2num(x[0]), y_tc-2.8e6),  \n",
        "            xytext=(10,10), textcoords='offset points')\n",
        "\n",
        "#total_deaths\n",
        "ax[1].annotate(y_td, (mdates.date2num(x[0]), y_td-3e5),\n",
        "            xytext=(10,10), textcoords='offset points')\n",
        "\n",
        "ax[1].annotate(str(x[1]), (mdates.date2num(x[0]), y_td-3.7e5),  \n",
        "            xytext=(10,10), textcoords='offset points')\n",
        "\n",
        "ax[1].grid(axis='x')\n",
        "\n",
        "\n",
        "#retira os eixos da grade que cirunda o gráfico\n",
        "sns.despine(left=True, bottom=True)\n",
        "\n",
        "plt.show()\n",
        "\n",
        "fig.savefig('covid mundo.png', format='png', dpi=300)"
      ],
      "execution_count": 204,
      "outputs": [
        {
          "output_type": "display_data",
          "data": {
            "image/png": "[encoded data removed]",
            "text/plain": [
              "<Figure size 1080x720 with 2 Axes>"
            ]
          },
          "metadata": {
            "tags": []
          }
        }
      ]
    },
    {
      "cell_type": "markdown",
      "metadata": {
        "id": "pA1d7MP2XOmj",
        "colab_type": "text"
      },
      "source": [
        "\n",
        "A partir do gráfico podemos notar que a explosão de casos de Covid19 no mundo ocorreu no final de março/2020, quando os totais ainda estavam na casa das dezenas de milhares. No último registro apresentado no gráfico, um pouco mais de 03 meses depois, o total de casos está perto de chegar na casa dos 8 dígitos ou 10.000.000 (escala limite do gŕafico - $1e7$ ou $10^7$).\n",
        "\n",
        "No dia 26/02/2020, onde o gráfico mostra o início do aumento descontralo de casos, temos o primeiro registro comprovado de disseminção comunitária, quando o Centro de Detenção de Doenças dos EUA divulga o primeiro registro de pessoa com o vírus que não teve contato com outros infectados ou fez viagens internacionais.\n",
        "\n",
        "Tomamos dois pontos para análise, um no dia 26/02/2020 e outro no dia 06/03/2020. No primeiro ponto temos o início da transmissão coletiva do vírus. No segundo, o crescimento do número de vítimas fatais (alguns dias após a confirmação do início da transmissão comunitária. No gráfico de escala linear, essas constatações não se mostram muito claras, então plotamos os mesmos dados em escala logarítmica, onde podemos observar que os pontos de inflexão (quando a curva muda o sentido) coincidem com as análises.\n",
        "\n",
        "\n"
      ]
    },
    {
      "cell_type": "markdown",
      "metadata": {
        "id": "muBKwhdyvBLe",
        "colab_type": "text"
      },
      "source": [
        "# Os 05 países com maior número de mortes por Covid-19"
      ]
    },
    {
      "cell_type": "markdown",
      "metadata": {
        "id": "myUFmJATtAF3",
        "colab_type": "text"
      },
      "source": [
        "O código abaixo foi montado para apresentar os 05 países com o maior número de mortes ocasionadas por Covid19.\n",
        "\n",
        "Constata-se que os Estados Unidos foi a nação que mais sofreu perdas, e que nosso país já amarga, o também sofrido, 2º lugar!"
      ]
    },
    {
      "cell_type": "markdown",
      "metadata": {
        "id": "9zP-5Ff5wUju",
        "colab_type": "text"
      },
      "source": [
        "A representação gráfica foi configurada para, a cada execução do código,  apresentar os dados mais atuais do dataset. "
      ]
    },
    {
      "cell_type": "code",
      "metadata": {
        "id": "T-mJCNPxbC-C",
        "colab_type": "code",
        "colab": {}
      },
      "source": [
        "#filtros dos países com maior número de mortes.\n",
        "last_date_dataset = str(df_covid19['date'].max().date())\n",
        "top5 = df_covid19.loc[df_covid19.date == last_date_dataset, ['location', 'total_deaths']].sort_values(by=\"total_deaths\", ascending=False)[1:6]\n"
      ],
      "execution_count": 42,
      "outputs": []
    },
    {
      "cell_type": "code",
      "metadata": {
        "id": "ZVX5tHVbL8BE",
        "colab_type": "code",
        "colab": {
          "base_uri": "https://localhost:8080/",
          "height": 642
        },
        "outputId": "12867ffb-9926-4aeb-8095-5f71618341d4"
      },
      "source": [
        "sns.set_style='whitegrid'\n",
        "fig, ax = plt.subplots(figsize=(10,10))\n",
        "\n",
        "sns.barplot('location', 'total_deaths', palette='Blues_r', data= top5)\n",
        "ax.set_title( '05 países com maior número de mortes por Covid19\\n {}'.format(str(df_covid19['date'].max().date())))\n",
        "ax.set_xlabel('Países')\n",
        "ax.set_ylabel('Quantidade de mortes')\n",
        "\n",
        "for p in ax.patches:\n",
        "    ax.annotate(int(p.get_height()), (p.get_x() + p.get_width() / 2., p.get_height()),\n",
        "               xytext=(-18,5), textcoords='offset points' )\n",
        "    \n",
        "plt.show()\n",
        "\n",
        "fig.savefig('top5mundo.png', format='png', dpi=300)"
      ],
      "execution_count": 205,
      "outputs": [
        {
          "output_type": "display_data",
          "data": {
            "image/png": "[encoded data removed]",
            "text/plain": [
              "<Figure size 720x720 with 1 Axes>"
            ]
          },
          "metadata": {
            "tags": []
          }
        }
      ]
    },
    {
      "cell_type": "markdown",
      "metadata": {
        "id": "D8bHGJOqZkSD",
        "colab_type": "text"
      },
      "source": [
        "##Brasil\n",
        "\n",
        "Abaixo é apresentado o gráfico com a evoulução dos casos do novo Coronavírus e os óbitos registrados no Brasil.\n",
        "\n",
        "No dia 26/02/2020 o Brasil registrou o primeiro caso de Covid19. Os casos subsequentes só serão registrados alguns dias depois, como mostrado pelo 'degrau' formado no gŕafico em representação logarítimica. Já o primeiro óbito é sensibilizado no dia 17/03/2020, quando o país já registrava 234 casos.\n",
        "\n",
        "\n",
        "A partir do dia 24/03/2020 o gráfico mostra desaceleração no crescimento de casos de Covid19 no Brasil, análise que coincide com o anúncio do isolamento soclial no Estado de São Paulo, maior centro de incidência de casos no país. Em ralação aos óbitos, uma maior desaceleração é percebida a partir do dia 04/04/2020, dia do anúncio da aquisição de mais 15 mil respiradores adquiridos pelo Ministério da Saúde, elevando em quase 25% a quantidade de respiradores no sistema de saúde nacional."
      ]
    },
    {
      "cell_type": "code",
      "metadata": {
        "id": "r0ayULjGW-oX",
        "colab_type": "code",
        "colab": {}
      },
      "source": [
        "#df_covid19.loc[(df_covid19['date']=='2020-03-17') & (df_covid19['location']=='Brazil'), ['total_cases']]"
      ],
      "execution_count": 203,
      "outputs": []
    },
    {
      "cell_type": "code",
      "metadata": {
        "id": "p33R06ZhfRH2",
        "colab_type": "code",
        "colab": {
          "base_uri": "https://localhost:8080/",
          "height": 35
        },
        "outputId": "f42db1e0-df71-42fd-c3c1-0f882b188888"
      },
      "source": [
        "#total de casos no Brasil\n",
        "total_brasil = df_covid19.loc[df_covid19.location == 'Brazil'][ ['date','total_cases']]\n",
        "\n",
        "#total de mortes no Brasil\n",
        "total_deathB= df_covid19.loc[df_covid19.location == 'Brazil'][ ['date','total_deaths']]\n",
        "\n",
        "#data do primeiro caso de Covid19 no Brasil\n",
        "date_case_br = df_covid19.loc[(df_covid19['total_cases'] == 1) & (df_covid19['location']== 'Brazil'), ['date']]\n",
        "frist_date_cb =date_case_br.min()[0].date()\n",
        "\n",
        "\n",
        "#data do primeiro caso de óbito por covid19 no Brasil\n",
        "date_death_br = df_covid19.loc[(df_covid19['total_deaths']== 1) & (df_covid19['location']=='Brazil'), ['date']]\n",
        "frist_date_db = date_death_br.min()[0].date()\n"
      ],
      "execution_count": 137,
      "outputs": [
        {
          "output_type": "execute_result",
          "data": {
            "text/plain": [
              "datetime.date(2020, 3, 18)"
            ]
          },
          "metadata": {
            "tags": []
          },
          "execution_count": 137
        }
      ]
    },
    {
      "cell_type": "code",
      "metadata": {
        "id": "S7TkVkUyUfWs",
        "colab_type": "code",
        "colab": {
          "base_uri": "https://localhost:8080/",
          "height": 35
        },
        "outputId": "99fb44a6-2097-476b-c7e5-e24229d57e59"
      },
      "source": [
        "frist_date_cb"
      ],
      "execution_count": 199,
      "outputs": [
        {
          "output_type": "execute_result",
          "data": {
            "text/plain": [
              "datetime.date(2020, 2, 26)"
            ]
          },
          "metadata": {
            "tags": []
          },
          "execution_count": 199
        }
      ]
    },
    {
      "cell_type": "code",
      "metadata": {
        "id": "u_YjaMPffPEF",
        "colab_type": "code",
        "colab": {
          "base_uri": "https://localhost:8080/",
          "height": 555
        },
        "outputId": "42c289a1-0c75-40d0-c8ec-c127b744e910"
      },
      "source": [
        "#criar gráfico\n",
        "\n",
        "#Definir a última data do dataset\n",
        "data_max = df_covid19['date'].max().date()\n",
        "\n",
        "#parametros de adequação para as anotações no gráfico - quantitativos\n",
        "x_grafico = data_max - timedelta(20)\n",
        "x = [x_grafico, data_max, date_case_br, frist_date_db]\n",
        "\n",
        "#últimos quantitativos para o total_case e total_deaths no dataset\n",
        "y_tcb = int(df_covid19.loc[(df_covid19['date'] == str(data_max)) & (df_covid19['location'] == 'Brazil')]['total_cases'])\n",
        "y_tdb = int(df_covid19.loc[(df_covid19['date'] == str(data_max)) & (df_covid19['location'] == 'Brazil')]['total_deaths'])\n",
        "y_dcb = int(df_covid19.loc[(df_covid19['date'] == str(frist_date_cb)) & (df_covid19['location'] == 'Brazil')]['total_cases'])\n",
        "y_ddb = int(df_covid19.loc[(df_covid19['date'] == str(frist_date_db)) & (df_covid19['location'] == 'Brazil')]['total_deaths'])\n",
        "\n",
        "#configurações do gráfico\n",
        "#sns.set_style='whitegrid'\n",
        "sns.set(font='arial', style='whitegrid')\n",
        "\n",
        "fig, ax = plt.subplots(nrows = 1, ncols= 2, figsize=(15,10))\n",
        "\n",
        "\n",
        "\n",
        "#Gŕafico 01\n",
        "ax[0].plot_date('date', 'total_cases', 'b--', data= total_brasil)\n",
        "ax[0].plot_date('date', 'total_deaths', 'r', data = total_deathB)\n",
        "ax[0].set_yscale('linear')\n",
        "ax[0].set_title('Evolução de casos e óbitos de Covid 19 - Brasil')\n",
        "ax[0].legend()\n",
        "\n",
        "#anotação e seta\n",
        "ax[0].annotate('Início da Quarentena\\nem São Paulo\\n24/03/2020', xy=(dt.datetime(2020,3 , 24), 2000),\\\n",
        "               xytext=(dt.datetime(2020,2 , 10), 6e5), arrowprops=dict(facecolor='blue', shrink=0.025))\n",
        "\n",
        "ax[0].annotate('Curva de óbitos\\ncomeça a desacelerar \\n04/04/2020', xy=(dt.datetime(2020,4 , 4), 2000),\\\n",
        "               xytext=(dt.datetime(2020,3 , 30), 4e5), arrowprops=dict(facecolor='red', shrink=0.025))\n",
        "#total_cases\n",
        "ax[0].annotate(y_tcb, (mdates.date2num(x[0]), y_tcb),  \n",
        "            xytext=(10,10), textcoords='offset points')\n",
        "\n",
        "ax[0].annotate(str(x[1]), (mdates.date2num(x[0]), y_tcb-3e4),  \n",
        "            xytext=(10,10), textcoords='offset points')\n",
        "\n",
        "#total_deaths\n",
        "ax[0].annotate(y_tdb, (mdates.date2num(x[0]), y_tdb),\n",
        "            xytext=(10,10), textcoords='offset points')\n",
        "\n",
        "ax[0].annotate(str(x[1]), (mdates.date2num(x[0]), y_tdb-2.5e4),  \n",
        "            xytext=(10,10), textcoords='offset points')\n",
        "\n",
        "#primeiro caso de covid19 no Brasil\n",
        "ax[0].annotate('Primeiro de caso\\nde Covid19\\nregistrado no Brasil\\n26/02/2020', xy=(dt.datetime(2020,2, 26), 1),\\\n",
        "               xytext=(dt.datetime(2020,1, 24), 2e5),arrowprops=dict(facecolor='green', shrink=0.025))\n",
        "\n",
        "#primeiro caso de covid19 no Brasil\n",
        "ax[0].annotate('Primeiro de registro\\nde morte por Covid19\\nregistrado no Brasil\\n17/03/2020', xy=(dt.datetime(2020,3, 17), 1),\\\n",
        "               xytext=(dt.datetime(2020,4, 20), 1.5e5), arrowprops=dict(facecolor='yellow', shrink=0.025))\n",
        "\n",
        "ax[0].grid(axis='x')\n",
        "\n",
        "\n",
        "\n",
        "#Gŕafico 02\n",
        "ax[1].plot_date('date', 'total_cases', 'b--', data= total_brasil)\n",
        "ax[1].plot_date('date', 'total_deaths', 'r', data = total_deathB)\n",
        "ax[1].set_yscale('log')\n",
        "ax[1].set_title( 'Evolução de casos e óbitos de Covid 19 - Brasil')\n",
        "\n",
        "ax[1].legend()\n",
        "\n",
        "#anotação e seta\n",
        "ax[1].annotate('Início da Quarentena\\nem São Paulo\\n24/03/2020', xy=(dt.datetime(2020,3 , 24), 2e3),\\\n",
        "               xytext=(dt.datetime(2020,2, 15), 5e3),arrowprops=dict(facecolor='blue', shrink=0.025))\n",
        "\n",
        "ax[1].annotate('Curva de óbitos\\n começa a desacelerar\\n 04/04/2020', xy=(dt.datetime(2020,4 ,4), 3.8e2),\\\n",
        "               xytext=(dt.datetime(2020,4, 30), 80),arrowprops=dict(facecolor='red', shrink=0.025))\n",
        "#total_cases\n",
        "ax[1].annotate(y_tcb, (mdates.date2num(x[0]), y_tcb+2e5),  \n",
        "            xytext=(10,10), textcoords='offset points')\n",
        "\n",
        "ax[1].annotate(str(x[1]), (mdates.date2num(x[0]), y_tcb-2e5),  \n",
        "            xytext=(10,10), textcoords='offset points')\n",
        "\n",
        "#total_deaths\n",
        "ax[1].annotate(y_tdb, (mdates.date2num(x[0]), y_tdb+1e4),\n",
        "            xytext=(10,10), textcoords='offset points')\n",
        "\n",
        "ax[1].annotate(str(x[1]), (mdates.date2num(x[0]), y_tdb-1e4),  \n",
        "            xytext=(10,10), textcoords='offset points')\n",
        "\n",
        "\n",
        "#primeiro caso de covid19 no Brasil\n",
        "ax[1].annotate('Primeiro de caso\\nde Covid19\\nregistrado no Brasil\\n26/02/2020', xy=(dt.datetime(2020,2, 26), 1), xytext=(dt.datetime(2020,1, 24), 5),\n",
        "            arrowprops=dict(facecolor='green', shrink=0.025))\n",
        "\n",
        "#primeiro caso de covid19 no Brasil\n",
        "ax[1].annotate('Primeiro de registro de\\nmorte por Covid19\\nregistrado no Brasil\\n17/03/2020', xy=(dt.datetime(2020,3, 17), 1), xytext=(dt.datetime(2020,4, 5), 5),\n",
        "            arrowprops=dict(facecolor='yellow', shrink=0.025))\n",
        "\n",
        "\n",
        "\n",
        "\n",
        "ax[1].grid(axis='x')\n",
        "\n",
        "\n",
        "#retira os eixos da grade que cirunda o gráfico\n",
        "sns.despine(left=True, bottom=True)\n",
        "\n",
        "plt.show()\n",
        "\n",
        "fig.savefig('covidBrasil.png', format='png', dpi=300)"
      ],
      "execution_count": 206,
      "outputs": [
        {
          "output_type": "display_data",
          "data": {
            "image/png": "[encoded data removed]",
            "text/plain": [
              "<Figure size 1080x720 with 2 Axes>"
            ]
          },
          "metadata": {
            "tags": []
          }
        }
      ]
    },
    {
      "cell_type": "code",
      "metadata": {
        "id": "eUdubva9_erd",
        "colab_type": "code",
        "colab": {}
      },
      "source": [
        ""
      ],
      "execution_count": null,
      "outputs": []
    },
    {
      "cell_type": "markdown",
      "metadata": {
        "id": "RkNjGBgHZ-It",
        "colab_type": "text"
      },
      "source": [
        "#CONCLUSÃO\n",
        "\n",
        "Vimos que as ferramentas adequadas para analisar um conjunto de dados são de extrema importância, pois fornecem a pesquisadores e cient subsídios para embasamento de suas análises.\n",
        "\n",
        "No caso exposto, análise dos casos e óbitos de Covid19 no Brasil e no mundo, a representação gráfica reflete o comportamento da pandemia frente as ações das autoridades governamentais."
      ]
    },
    {
      "cell_type": "code",
      "metadata": {
        "id": "kKHvMFN5Z9vV",
        "colab_type": "code",
        "colab": {}
      },
      "source": [
        ""
      ],
      "execution_count": null,
      "outputs": []
    }
  ]
}
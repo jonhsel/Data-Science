{
  "nbformat": 4,
  "nbformat_minor": 0,
  "metadata": {
    "colab": {
      "name": "Covid -19 - Maranhão.ipynb",
      "provenance": [],
      "authorship_tag": "ABX9TyNdB7mW+p0ocpZMAS44O1gg",
      "include_colab_link": true
    },
    "kernelspec": {
      "name": "python3",
      "display_name": "Python 3"
    }
  },
  "cells": [
    {
      "cell_type": "markdown",
      "metadata": {
        "id": "view-in-github",
        "colab_type": "text"
      },
      "source": [
        "<a href=\"https://colab.research.google.com/github/jonhsel/Data-Science/blob/master/Covid_19_Maranh%C3%A3o.ipynb\" target=\"_parent\"><img src=\"https://colab.research.google.com/assets/colab-badge.svg\" alt=\"Open In Colab\"/></a>"
      ]
    },
    {
      "cell_type": "code",
      "metadata": {
        "id": "m1sVq93rn4dd",
        "colab_type": "code",
        "colab": {}
      },
      "source": [
        "import pandas as pd\n",
        "import matplotlib.pyplot as plt\n",
        "import seaborn as sns\n",
        "import matplotlib.dates as mdates\n",
        "import datetime as dt\n",
        "from datetime import timedelta, date\n",
        "import numpy as np\n"
      ],
      "execution_count": null,
      "outputs": []
    },
    {
      "cell_type": "code",
      "metadata": {
        "id": "YSF9dVa3oPPu",
        "colab_type": "code",
        "colab": {}
      },
      "source": [
        "df = pd.read_csv(\"https://raw.githubusercontent.com/jonhsel/Data-Science/master/dataset/covid19ma.csv\")\n",
        "df.head()"
      ],
      "execution_count": null,
      "outputs": []
    },
    {
      "cell_type": "code",
      "metadata": {
        "id": "vrFB4mKRqDz6",
        "colab_type": "code",
        "colab": {}
      },
      "source": [
        "df.dtypes"
      ],
      "execution_count": null,
      "outputs": []
    },
    {
      "cell_type": "code",
      "metadata": {
        "id": "t5RUaIbxqH6G",
        "colab_type": "code",
        "colab": {}
      },
      "source": [
        "df.date = pd.to_datetime(df.date, format='%Y/%m/%d')"
      ],
      "execution_count": null,
      "outputs": []
    },
    {
      "cell_type": "code",
      "metadata": {
        "id": "vauj2qUIsD5R",
        "colab_type": "code",
        "colab": {}
      },
      "source": [
        "df['total'].max()"
      ],
      "execution_count": null,
      "outputs": []
    },
    {
      "cell_type": "code",
      "metadata": {
        "id": "VSw2GXHdoiUk",
        "colab_type": "code",
        "colab": {}
      },
      "source": [
        "#criar gráfico\n",
        "\n",
        "#Definir a última data do dataset\n",
        "data_max = df['date'].max().date()\n",
        "\n",
        "\n",
        "\n",
        "bbox_args = dict(boxstyle=\"round\", fc=\"0.8\")\n",
        "bbox_args2 = dict(boxstyle=\"round\", fc=\"0.4\")\n",
        "\n",
        "arrow_args = dict(arrowstyle=\"->\")\n",
        "\n",
        "#parametros de adequação para as anotações no gráfico - quantitativos\n",
        "x_grafico = data_max - timedelta(10)\n",
        "x = [x_grafico, data_max]\n",
        "\n",
        "#últimos quantitativos para o total_case e total_deaths no dataset\n",
        "y_tc = df['total'].max()\n",
        "\n",
        "#configurações do gráfico\n",
        "#sns.set_style='whitegrid'\n",
        "sns.set(font='arial', style='whitegrid')\n",
        "\n",
        "fig, ax = plt.subplots(nrows = 1, ncols= 2, figsize=(22,10))\n",
        "\n",
        "\n",
        "\n",
        "#Gŕafico 01\n",
        "ax[0].plot_date('date', 'total', 'b--', data= df)\n",
        "\n",
        "ax[0].set_yscale('linear')\n",
        "ax[0].set_title( 'Evolução de casos e óbitos de Covid 19 - Maranhão\\n Escala Linear')\n",
        "#ax[0].legend()\n",
        "\n",
        "#data da análise e seta\n",
        "ax[0].annotate('30/05/2020', xy=(dt.datetime(2020,5 , 30), 3.4e4), xytext=(dt.datetime(2020,6, 10), 2.5e4),\n",
        "           va = 'bottom', bbox =bbox_args, arrowprops=dict(facecolor='blue' ,shrink=0.025))\n",
        "\n",
        "ax[0].annotate('8/05/2020', xy=(dt.datetime(2020,5 , 8), 6.7e3), xytext=(dt.datetime(2020,5, 19), 500),\n",
        "           va = 'bottom', bbox =bbox_args, arrowprops=dict(facecolor='blue' ,shrink=0.025))\n",
        "\n",
        "\n",
        "#total_cases\n",
        "ax[0].annotate(y_tc, (mdates.date2num(x[0]), y_tc+1000),  \n",
        "            xytext=(10,10), textcoords='offset points')\n",
        "\n",
        "ax[0].annotate(str(x[1]), (mdates.date2num(x[0]), y_tc-1000),  \n",
        "            xytext=(10,10), textcoords='offset points')\n",
        "\n",
        "#logo\n",
        "ax[0].text( dt.datetime(2020,5 , 30), 2e4, 'jonhselmo.com.br')\n",
        "\n",
        "#fonte\n",
        "ax[0].text( dt.datetime(2020,6 , 15), 0.8, 'Fonte: SES/MA')\n",
        "\n",
        "\n",
        "ax[0].grid(True)\n",
        "\n",
        "\n",
        "\n",
        "\n",
        "#Gŕafico 02\n",
        "#linha comparativa                                  ============================================\n",
        "ax[1].plot((dt.datetime(2020,5,5), dt.datetime(2020,6,2)), (5.7e3, 4.5e4), color='red' )\n",
        "\n",
        "#grafico\n",
        "ax[1].plot_date('date', 'total', 'b--', data= df)\n",
        "ax[1].set_yscale('log')\n",
        "ax[1].set_title( 'Evolução de casos e óbitos de Covid 19 - Maranhão\\n Escala Logarítmica')\n",
        "\n",
        "#anotação e seta                                        \n",
        "ax[1].annotate('30/05/2020', xy=(dt.datetime(2020,5 , 30), 3.6e4), xytext=(dt.datetime(2020,5 , 30), 9e3),\n",
        "           va = 'bottom', bbox =bbox_args, arrowprops=dict(facecolor='blue', shrink=0.025))\n",
        "\n",
        "ax[1].annotate('8/05/2020', xy=(dt.datetime(2020,5 , 8), 7e3), xytext=(dt.datetime(2020,5, 8), 1.5e3),\n",
        "           va = 'bottom', bbox =bbox_args, arrowprops=dict(facecolor='blue' ,shrink=0.025))\n",
        "\n",
        "ax[1].annotate('1/07/2020', xy=(dt.datetime(2020,7 , 1), 8.8e4), xytext=(dt.datetime(2020,6, 20), 3e4),\n",
        "           va = 'bottom', bbox =bbox_args, arrowprops=dict(facecolor='blue' ,shrink=0.025))\n",
        "\n",
        "#logo\n",
        "ax[1].text( dt.datetime(2020,5 , 25), 4e3, 'jonhselmo.com.br')\n",
        "\n",
        "#fonte\n",
        "\n",
        "ax[1].text( dt.datetime(2020,6 , 15), 0.8, 'Fonte: SES/MA')\n",
        "\n",
        "\n",
        "#ax[1].annotate('Aumento do nº de óbitos\\n  06/03/2020', xy=(dt.datetime(2020,3 , 6), 3.4e3), xytext=(dt.datetime(2020,3 , 13), 4e2),\n",
        "#            arrowprops=dict(facecolor='red', shrink=0.025))\n",
        "#total_cases\n",
        "ax[1].annotate(y_tc,  (mdates.date2num(x[0]), y_tc+2.8e4),  \n",
        "            xytext=(10,10), textcoords='offset points')\n",
        "\n",
        "ax[1].annotate(str(x[1]), (mdates.date2num(x[0]), y_tc),  \n",
        "            xytext=(10,10), textcoords='offset points')\n",
        "\n",
        "#total_deaths\n",
        "\n",
        "ax[1].grid(True)\n",
        "\n",
        "\n",
        "#retira os eixos da grade que cirunda o gráfico\n",
        "sns.despine(left=True, bottom=True)\n",
        "\n",
        "plt.show()\n",
        "fig.autofmt_xdate()\n",
        "fig.savefig('covidMA.png', format='png', dpi=400)"
      ],
      "execution_count": null,
      "outputs": []
    },
    {
      "cell_type": "code",
      "metadata": {
        "id": "k5LSKtfTpvt2",
        "colab_type": "code",
        "colab": {}
      },
      "source": [
        ""
      ],
      "execution_count": null,
      "outputs": []
    },
    {
      "cell_type": "code",
      "metadata": {
        "id": "yGcSID075K_F",
        "colab_type": "code",
        "colab": {}
      },
      "source": [
        "df.loc[df.date == '2020-5-30',['total']]"
      ],
      "execution_count": null,
      "outputs": []
    },
    {
      "cell_type": "code",
      "metadata": {
        "id": "_wULhzgD5V-O",
        "colab_type": "code",
        "colab": {}
      },
      "source": [
        "df.loc[df.total < 10000,['date', 'total']].sort_values(by='total', ascending=False)"
      ],
      "execution_count": null,
      "outputs": []
    },
    {
      "cell_type": "code",
      "metadata": {
        "id": "Uc2qKvMGh9C_",
        "colab_type": "code",
        "colab": {}
      },
      "source": [
        ""
      ],
      "execution_count": null,
      "outputs": []
    }
  ]
}
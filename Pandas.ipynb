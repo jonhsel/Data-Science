{
  "nbformat": 4,
  "nbformat_minor": 0,
  "metadata": {
    "colab": {
      "name": "Pandas.ipynb",
      "provenance": [],
      "toc_visible": true,
      "authorship_tag": "ABX9TyMk7qUWPH2NYi+1+mRfsdB4",
      "include_colab_link": true
    },
    "kernelspec": {
      "name": "python3",
      "display_name": "Python 3"
    }
  },
  "cells": [
    {
      "cell_type": "markdown",
      "metadata": {
        "id": "view-in-github",
        "colab_type": "text"
      },
      "source": [
        "<a href=\"https://colab.research.google.com/github/jonhsel/Data-Science/blob/master/Pandas.ipynb\" target=\"_parent\"><img src=\"https://colab.research.google.com/assets/colab-badge.svg\" alt=\"Open In Colab\"/></a>"
      ]
    },
    {
      "cell_type": "markdown",
      "metadata": {
        "id": "xp12VoCxRwg3",
        "colab_type": "text"
      },
      "source": [
        "<img alt=\"jonhselmo logo\" width=\"15%\" src=\"https://raw.githubusercontent.com/jonhsel/Data-Science/master/img/JSDATASCIENCE%20BLACK.png\">\n",
        "\n",
        "by [jonhselmo.com.br](https://jonhselmo.com.br)"
      ]
    },
    {
      "cell_type": "markdown",
      "metadata": {
        "id": "Ulyid9w7S7nP",
        "colab_type": "text"
      },
      "source": [
        "#Introdução ao Pandas\n",
        "O Pandas é uma biblioteca python para análise de dados e uma das ferramentas mais utilizadas pelos cientistas de dados.\n"
      ]
    },
    {
      "cell_type": "markdown",
      "metadata": {
        "id": "DWia4hKQVo5j",
        "colab_type": "text"
      },
      "source": [
        "#Utitlização do Pandas\n",
        "\n"
      ]
    },
    {
      "cell_type": "markdown",
      "metadata": {
        "id": "K-16Ng_wVzZV",
        "colab_type": "text"
      },
      "source": [
        "##Importação de módulos\n",
        "\n"
      ]
    },
    {
      "cell_type": "code",
      "metadata": {
        "id": "2D1OunMmS-zZ",
        "colab_type": "code",
        "colab": {}
      },
      "source": [
        "#importação da biblioteca pandas\n",
        "import pandas as pd"
      ],
      "execution_count": 0,
      "outputs": []
    },
    {
      "cell_type": "markdown",
      "metadata": {
        "id": "wFiB5lcwWBGj",
        "colab_type": "text"
      },
      "source": [
        "##Arquivos CSV\n",
        "\n",
        "Será utilizado um dataset extraído da Yahoo Finance com os dados das ações ordinárias do Banco do Brasil (BBSA3), em formato `csv`"
      ]
    },
    {
      "cell_type": "code",
      "metadata": {
        "id": "EYuYR3DtV-e3",
        "colab_type": "code",
        "colab": {}
      },
      "source": [
        "#DataFrame recebendo o dataset em csv\n",
        "df = pd.read_csv('https://raw.githubusercontent.com/jonhsel/Data-Science/master/dataset/BBAS3.SA.csv')"
      ],
      "execution_count": 0,
      "outputs": []
    },
    {
      "cell_type": "markdown",
      "metadata": {
        "id": "VpvP4iucXRDr",
        "colab_type": "text"
      },
      "source": [
        "Verificando o tipo de arquivo do objeto DataFrame"
      ]
    },
    {
      "cell_type": "code",
      "metadata": {
        "id": "8Nh1AXP2W36O",
        "colab_type": "code",
        "outputId": "c0b5bedd-9c51-4393-f58f-8ff8b4a89bd0",
        "colab": {
          "base_uri": "https://localhost:8080/",
          "height": 35
        }
      },
      "source": [
        "#Tipo do arquivo\n",
        "type(df)"
      ],
      "execution_count": 3,
      "outputs": [
        {
          "output_type": "execute_result",
          "data": {
            "text/plain": [
              "pandas.core.frame.DataFrame"
            ]
          },
          "metadata": {
            "tags": []
          },
          "execution_count": 3
        }
      ]
    },
    {
      "cell_type": "code",
      "metadata": {
        "id": "1Stmh5hvXCbp",
        "colab_type": "code",
        "outputId": "8be752dc-bae9-47d9-e108-638690fa93ee",
        "colab": {
          "base_uri": "https://localhost:8080/",
          "height": 35
        }
      },
      "source": [
        "#Tipo de arquivo da coluna do DataFrame\n",
        "type(df['High'])"
      ],
      "execution_count": 4,
      "outputs": [
        {
          "output_type": "execute_result",
          "data": {
            "text/plain": [
              "pandas.core.series.Series"
            ]
          },
          "metadata": {
            "tags": []
          },
          "execution_count": 4
        }
      ]
    },
    {
      "cell_type": "markdown",
      "metadata": {
        "id": "yEBykLwKXkYG",
        "colab_type": "text"
      },
      "source": [
        "Observa-se que o `df` é um objeto do tipo DataFrame e as colunas - `df['High']`são objetos do tipo Series. Logo, um conjunto de Series formam um DataFrame"
      ]
    },
    {
      "cell_type": "markdown",
      "metadata": {
        "id": "dVwwhkG0YzoQ",
        "colab_type": "text"
      },
      "source": [
        "##Dimensões de um DataFrame"
      ]
    },
    {
      "cell_type": "markdown",
      "metadata": {
        "id": "6wmDdZkKY5uZ",
        "colab_type": "text"
      },
      "source": [
        "A dimensão ou formato (ou shape) de um DataFrame pode ser identidicado a partir do método `shape()`.\n"
      ]
    },
    {
      "cell_type": "code",
      "metadata": {
        "id": "yhgxyeRAXdkE",
        "colab_type": "code",
        "outputId": "5c79946d-1bda-45d7-8f84-28c9e5e77bf9",
        "colab": {
          "base_uri": "https://localhost:8080/",
          "height": 35
        }
      },
      "source": [
        "#Ver dimensão do DataFrame\n",
        "df.shape"
      ],
      "execution_count": 5,
      "outputs": [
        {
          "output_type": "execute_result",
          "data": {
            "text/plain": [
              "(248, 7)"
            ]
          },
          "metadata": {
            "tags": []
          },
          "execution_count": 5
        }
      ]
    },
    {
      "cell_type": "markdown",
      "metadata": {
        "id": "ooPpOqNXZZTB",
        "colab_type": "text"
      },
      "source": [
        "O retorno é uma tupla onde o primeiro elemento é o número de linhas e o segundo elemento o número de colunas(atriutos)"
      ]
    },
    {
      "cell_type": "markdown",
      "metadata": {
        "id": "c86wX8LdZ77O",
        "colab_type": "text"
      },
      "source": [
        "##Visão geral do dataset\n",
        "\n",
        "* `head()` - permite visualizar as 05 primeiras entradas"
      ]
    },
    {
      "cell_type": "code",
      "metadata": {
        "id": "P_p0deGVZOaB",
        "colab_type": "code",
        "outputId": "b1254c22-5bd2-485b-b153-7af42ab0f101",
        "colab": {
          "base_uri": "https://localhost:8080/",
          "height": 198
        }
      },
      "source": [
        "#Visualizar as 05 primeiras colunas\n",
        "df.head()"
      ],
      "execution_count": 6,
      "outputs": [
        {
          "output_type": "execute_result",
          "data": {
            "text/html": [
              "<div>\n",
              "<style scoped>\n",
              "    .dataframe tbody tr th:only-of-type {\n",
              "        vertical-align: middle;\n",
              "    }\n",
              "\n",
              "    .dataframe tbody tr th {\n",
              "        vertical-align: top;\n",
              "    }\n",
              "\n",
              "    .dataframe thead th {\n",
              "        text-align: right;\n",
              "    }\n",
              "</style>\n",
              "<table border=\"1\" class=\"dataframe\">\n",
              "  <thead>\n",
              "    <tr style=\"text-align: right;\">\n",
              "      <th></th>\n",
              "      <th>Date</th>\n",
              "      <th>Open</th>\n",
              "      <th>High</th>\n",
              "      <th>Low</th>\n",
              "      <th>Close</th>\n",
              "      <th>Adj Close</th>\n",
              "      <th>Volume</th>\n",
              "    </tr>\n",
              "  </thead>\n",
              "  <tbody>\n",
              "    <tr>\n",
              "      <th>0</th>\n",
              "      <td>2019-06-10</td>\n",
              "      <td>52.049999</td>\n",
              "      <td>52.200001</td>\n",
              "      <td>50.970001</td>\n",
              "      <td>51.869999</td>\n",
              "      <td>49.679665</td>\n",
              "      <td>9141300.0</td>\n",
              "    </tr>\n",
              "    <tr>\n",
              "      <th>1</th>\n",
              "      <td>2019-06-11</td>\n",
              "      <td>52.400002</td>\n",
              "      <td>52.900002</td>\n",
              "      <td>51.840000</td>\n",
              "      <td>52.900002</td>\n",
              "      <td>50.666183</td>\n",
              "      <td>13132800.0</td>\n",
              "    </tr>\n",
              "    <tr>\n",
              "      <th>2</th>\n",
              "      <td>2019-06-12</td>\n",
              "      <td>52.880001</td>\n",
              "      <td>53.000000</td>\n",
              "      <td>51.919998</td>\n",
              "      <td>52.259998</td>\n",
              "      <td>50.215572</td>\n",
              "      <td>8819600.0</td>\n",
              "    </tr>\n",
              "    <tr>\n",
              "      <th>3</th>\n",
              "      <td>2019-06-13</td>\n",
              "      <td>52.250000</td>\n",
              "      <td>52.669998</td>\n",
              "      <td>51.270000</td>\n",
              "      <td>51.430000</td>\n",
              "      <td>49.418053</td>\n",
              "      <td>15531800.0</td>\n",
              "    </tr>\n",
              "    <tr>\n",
              "      <th>4</th>\n",
              "      <td>2019-06-14</td>\n",
              "      <td>51.340000</td>\n",
              "      <td>51.500000</td>\n",
              "      <td>49.939999</td>\n",
              "      <td>50.520000</td>\n",
              "      <td>48.543644</td>\n",
              "      <td>13100600.0</td>\n",
              "    </tr>\n",
              "  </tbody>\n",
              "</table>\n",
              "</div>"
            ],
            "text/plain": [
              "         Date       Open       High  ...      Close  Adj Close      Volume\n",
              "0  2019-06-10  52.049999  52.200001  ...  51.869999  49.679665   9141300.0\n",
              "1  2019-06-11  52.400002  52.900002  ...  52.900002  50.666183  13132800.0\n",
              "2  2019-06-12  52.880001  53.000000  ...  52.259998  50.215572   8819600.0\n",
              "3  2019-06-13  52.250000  52.669998  ...  51.430000  49.418053  15531800.0\n",
              "4  2019-06-14  51.340000  51.500000  ...  50.520000  48.543644  13100600.0\n",
              "\n",
              "[5 rows x 7 columns]"
            ]
          },
          "metadata": {
            "tags": []
          },
          "execution_count": 6
        }
      ]
    },
    {
      "cell_type": "markdown",
      "metadata": {
        "id": "t64oL4izawNY",
        "colab_type": "text"
      },
      "source": [
        "* `tail()` - permite visualizar as 05 últimas entradas"
      ]
    },
    {
      "cell_type": "code",
      "metadata": {
        "id": "--5PEobwaxcf",
        "colab_type": "code",
        "outputId": "7f3208b6-43f1-4932-cc87-1e1561b9d76c",
        "colab": {
          "base_uri": "https://localhost:8080/",
          "height": 198
        }
      },
      "source": [
        "#Visualizar as 05 últimas entradas\n",
        "df.tail()"
      ],
      "execution_count": 7,
      "outputs": [
        {
          "output_type": "execute_result",
          "data": {
            "text/html": [
              "<div>\n",
              "<style scoped>\n",
              "    .dataframe tbody tr th:only-of-type {\n",
              "        vertical-align: middle;\n",
              "    }\n",
              "\n",
              "    .dataframe tbody tr th {\n",
              "        vertical-align: top;\n",
              "    }\n",
              "\n",
              "    .dataframe thead th {\n",
              "        text-align: right;\n",
              "    }\n",
              "</style>\n",
              "<table border=\"1\" class=\"dataframe\">\n",
              "  <thead>\n",
              "    <tr style=\"text-align: right;\">\n",
              "      <th></th>\n",
              "      <th>Date</th>\n",
              "      <th>Open</th>\n",
              "      <th>High</th>\n",
              "      <th>Low</th>\n",
              "      <th>Close</th>\n",
              "      <th>Adj Close</th>\n",
              "      <th>Volume</th>\n",
              "    </tr>\n",
              "  </thead>\n",
              "  <tbody>\n",
              "    <tr>\n",
              "      <th>243</th>\n",
              "      <td>2020-06-02</td>\n",
              "      <td>32.599998</td>\n",
              "      <td>32.900002</td>\n",
              "      <td>32.279999</td>\n",
              "      <td>32.820000</td>\n",
              "      <td>32.820000</td>\n",
              "      <td>15772200.0</td>\n",
              "    </tr>\n",
              "    <tr>\n",
              "      <th>244</th>\n",
              "      <td>2020-06-03</td>\n",
              "      <td>34.470001</td>\n",
              "      <td>35.000000</td>\n",
              "      <td>33.840000</td>\n",
              "      <td>34.750000</td>\n",
              "      <td>34.750000</td>\n",
              "      <td>29497200.0</td>\n",
              "    </tr>\n",
              "    <tr>\n",
              "      <th>245</th>\n",
              "      <td>2020-06-04</td>\n",
              "      <td>34.430000</td>\n",
              "      <td>35.570000</td>\n",
              "      <td>33.520000</td>\n",
              "      <td>34.939999</td>\n",
              "      <td>34.939999</td>\n",
              "      <td>23947100.0</td>\n",
              "    </tr>\n",
              "    <tr>\n",
              "      <th>246</th>\n",
              "      <td>2020-06-05</td>\n",
              "      <td>37.410000</td>\n",
              "      <td>38.169998</td>\n",
              "      <td>35.009998</td>\n",
              "      <td>35.200001</td>\n",
              "      <td>35.200001</td>\n",
              "      <td>35294100.0</td>\n",
              "    </tr>\n",
              "    <tr>\n",
              "      <th>247</th>\n",
              "      <td>2020-06-08</td>\n",
              "      <td>35.820000</td>\n",
              "      <td>36.810001</td>\n",
              "      <td>35.500000</td>\n",
              "      <td>36.220001</td>\n",
              "      <td>36.220001</td>\n",
              "      <td>16644300.0</td>\n",
              "    </tr>\n",
              "  </tbody>\n",
              "</table>\n",
              "</div>"
            ],
            "text/plain": [
              "           Date       Open       High  ...      Close  Adj Close      Volume\n",
              "243  2020-06-02  32.599998  32.900002  ...  32.820000  32.820000  15772200.0\n",
              "244  2020-06-03  34.470001  35.000000  ...  34.750000  34.750000  29497200.0\n",
              "245  2020-06-04  34.430000  35.570000  ...  34.939999  34.939999  23947100.0\n",
              "246  2020-06-05  37.410000  38.169998  ...  35.200001  35.200001  35294100.0\n",
              "247  2020-06-08  35.820000  36.810001  ...  36.220001  36.220001  16644300.0\n",
              "\n",
              "[5 rows x 7 columns]"
            ]
          },
          "metadata": {
            "tags": []
          },
          "execution_count": 7
        }
      ]
    },
    {
      "cell_type": "markdown",
      "metadata": {
        "id": "9rv0ymLCayEt",
        "colab_type": "text"
      },
      "source": [
        "* `columns` - permite visualizar os nomes das colunas;\n",
        "\n"
      ]
    },
    {
      "cell_type": "code",
      "metadata": {
        "id": "_60OD5Ooa0Pl",
        "colab_type": "code",
        "outputId": "e72647ab-9469-4332-d1ef-1284f07235c0",
        "colab": {
          "base_uri": "https://localhost:8080/",
          "height": 35
        }
      },
      "source": [
        "#Nomes das colunas\n",
        "df.columns"
      ],
      "execution_count": 8,
      "outputs": [
        {
          "output_type": "execute_result",
          "data": {
            "text/plain": [
              "Index(['Date', 'Open', 'High', 'Low', 'Close', 'Adj Close', 'Volume'], dtype='object')"
            ]
          },
          "metadata": {
            "tags": []
          },
          "execution_count": 8
        }
      ]
    },
    {
      "cell_type": "markdown",
      "metadata": {
        "id": "ZgA3QSlaHeNN",
        "colab_type": "text"
      },
      "source": [
        "* `types` - permite conhecer os tipos das variávies;"
      ]
    },
    {
      "cell_type": "code",
      "metadata": {
        "id": "jj0ctw58J-2F",
        "colab_type": "code",
        "colab": {
          "base_uri": "https://localhost:8080/",
          "height": 163
        },
        "outputId": "f32ea3ce-717c-4a22-d664-ee04f8263b27"
      },
      "source": [
        "#Tipos das variáveis\n",
        "df.dtypes"
      ],
      "execution_count": 9,
      "outputs": [
        {
          "output_type": "execute_result",
          "data": {
            "text/plain": [
              "Date          object\n",
              "Open         float64\n",
              "High         float64\n",
              "Low          float64\n",
              "Close        float64\n",
              "Adj Close    float64\n",
              "Volume       float64\n",
              "dtype: object"
            ]
          },
          "metadata": {
            "tags": []
          },
          "execution_count": 9
        }
      ]
    },
    {
      "cell_type": "markdown",
      "metadata": {
        "id": "SXfSLGBtObxz",
        "colab_type": "text"
      },
      "source": [
        "Outra forma de conhecer o tipo das variáveis é utilizar o método `info()`.\n",
        "\n",
        "Observa-se que, além do tipo das variáveis, será retornado o quantitativo de registros **não nulos**."
      ]
    },
    {
      "cell_type": "code",
      "metadata": {
        "id": "yeYBEIeDOmmZ",
        "colab_type": "code",
        "colab": {
          "base_uri": "https://localhost:8080/",
          "height": 272
        },
        "outputId": "9f70d02c-9ee2-4b70-c5bf-7ce0b8f3e5f3"
      },
      "source": [
        "df.info()"
      ],
      "execution_count": 10,
      "outputs": [
        {
          "output_type": "stream",
          "text": [
            "<class 'pandas.core.frame.DataFrame'>\n",
            "RangeIndex: 248 entries, 0 to 247\n",
            "Data columns (total 7 columns):\n",
            " #   Column     Non-Null Count  Dtype  \n",
            "---  ------     --------------  -----  \n",
            " 0   Date       248 non-null    object \n",
            " 1   Open       247 non-null    float64\n",
            " 2   High       247 non-null    float64\n",
            " 3   Low        247 non-null    float64\n",
            " 4   Close      247 non-null    float64\n",
            " 5   Adj Close  247 non-null    float64\n",
            " 6   Volume     247 non-null    float64\n",
            "dtypes: float64(6), object(1)\n",
            "memory usage: 13.7+ KB\n"
          ],
          "name": "stdout"
        }
      ]
    },
    {
      "cell_type": "markdown",
      "metadata": {
        "id": "k13yYhXpPD5F",
        "colab_type": "text"
      },
      "source": [
        "##Seleção de colunas ou `séries`"
      ]
    },
    {
      "cell_type": "markdown",
      "metadata": {
        "id": "My5DFHiKPfvY",
        "colab_type": "text"
      },
      "source": [
        "A seleção de colunas, ou atributos, ou subconjuntos em um DataFrame, pode ser realizada rapidamente da seguinte forma:\n",
        "\n"
      ]
    },
    {
      "cell_type": "code",
      "metadata": {
        "id": "pM0PfaR9OpvI",
        "colab_type": "code",
        "colab": {
          "base_uri": "https://localhost:8080/",
          "height": 235
        },
        "outputId": "8f08ff58-07fe-42c6-c117-9aa2b454323e"
      },
      "source": [
        "#nomedoDataFrame['nomedaColuna']\n",
        "df['High']"
      ],
      "execution_count": 11,
      "outputs": [
        {
          "output_type": "execute_result",
          "data": {
            "text/plain": [
              "0      52.200001\n",
              "1      52.900002\n",
              "2      53.000000\n",
              "3      52.669998\n",
              "4      51.500000\n",
              "         ...    \n",
              "243    32.900002\n",
              "244    35.000000\n",
              "245    35.570000\n",
              "246    38.169998\n",
              "247    36.810001\n",
              "Name: High, Length: 248, dtype: float64"
            ]
          },
          "metadata": {
            "tags": []
          },
          "execution_count": 11
        }
      ]
    },
    {
      "cell_type": "code",
      "metadata": {
        "id": "g400Ii-nPyv1",
        "colab_type": "code",
        "colab": {
          "base_uri": "https://localhost:8080/",
          "height": 235
        },
        "outputId": "8bd3a445-c826-46a6-e32c-e5b9d35bee9c"
      },
      "source": [
        "#nomedoDataFrame.nomedaColuna\n",
        "df.High\n"
      ],
      "execution_count": 12,
      "outputs": [
        {
          "output_type": "execute_result",
          "data": {
            "text/plain": [
              "0      52.200001\n",
              "1      52.900002\n",
              "2      53.000000\n",
              "3      52.669998\n",
              "4      51.500000\n",
              "         ...    \n",
              "243    32.900002\n",
              "244    35.000000\n",
              "245    35.570000\n",
              "246    38.169998\n",
              "247    36.810001\n",
              "Name: High, Length: 248, dtype: float64"
            ]
          },
          "metadata": {
            "tags": []
          },
          "execution_count": 12
        }
      ]
    },
    {
      "cell_type": "markdown",
      "metadata": {
        "id": "0wtxHDC7QPyl",
        "colab_type": "text"
      },
      "source": [
        "Lembrando que a forma acima só funciona caso o nome não tenha espaços ou caracteres especiais."
      ]
    },
    {
      "cell_type": "code",
      "metadata": {
        "id": "BYx38pIJQIhI",
        "colab_type": "code",
        "colab": {}
      },
      "source": [
        ""
      ],
      "execution_count": 0,
      "outputs": []
    },
    {
      "cell_type": "markdown",
      "metadata": {
        "id": "F8sYIebTQnw6",
        "colab_type": "text"
      },
      "source": [
        "##Realizando análises rápidas"
      ]
    },
    {
      "cell_type": "markdown",
      "metadata": {
        "id": "LDHCBDsGQvt-",
        "colab_type": "text"
      },
      "source": [
        "Caso a coluna seja de valores numéricos, podemos rapidamente obter informações, como:"
      ]
    },
    {
      "cell_type": "code",
      "metadata": {
        "id": "KqagbS-YQuyJ",
        "colab_type": "code",
        "colab": {
          "base_uri": "https://localhost:8080/",
          "height": 35
        },
        "outputId": "ae9d0694-ff11-4602-bc46-69e9978c3d24"
      },
      "source": [
        "#media da coluna\n",
        "df.High.mean()"
      ],
      "execution_count": 14,
      "outputs": [
        {
          "output_type": "execute_result",
          "data": {
            "text/plain": [
              "44.5461943846154"
            ]
          },
          "metadata": {
            "tags": []
          },
          "execution_count": 14
        }
      ]
    },
    {
      "cell_type": "code",
      "metadata": {
        "id": "Hn5ZBoosQ8J2",
        "colab_type": "code",
        "colab": {
          "base_uri": "https://localhost:8080/",
          "height": 35
        },
        "outputId": "ceea2177-99ff-4033-b585-c9778d20abc6"
      },
      "source": [
        "#mediana da coluna\n",
        "df.High.median()"
      ],
      "execution_count": 15,
      "outputs": [
        {
          "output_type": "execute_result",
          "data": {
            "text/plain": [
              "47.779999"
            ]
          },
          "metadata": {
            "tags": []
          },
          "execution_count": 15
        }
      ]
    },
    {
      "cell_type": "code",
      "metadata": {
        "id": "s6MmfO9fRMu5",
        "colab_type": "code",
        "colab": {
          "base_uri": "https://localhost:8080/",
          "height": 35
        },
        "outputId": "6b8a677d-e5b2-4605-b8d3-717a2129f1d0"
      },
      "source": [
        "#desvio padrão\n",
        "df.High.std()"
      ],
      "execution_count": 16,
      "outputs": [
        {
          "output_type": "execute_result",
          "data": {
            "text/plain": [
              "8.81295442080673"
            ]
          },
          "metadata": {
            "tags": []
          },
          "execution_count": 16
        }
      ]
    },
    {
      "cell_type": "markdown",
      "metadata": {
        "id": "Z0vJRgGIWs1P",
        "colab_type": "text"
      },
      "source": [
        "##Trabalhando com DATAS"
      ]
    },
    {
      "cell_type": "markdown",
      "metadata": {
        "id": "nonyJI92W0Eo",
        "colab_type": "text"
      },
      "source": [
        "Em alguns casos existe a necessidade de manipular datas, e algumas vezes as recebemos como `string`.\n",
        "\n"
      ]
    },
    {
      "cell_type": "code",
      "metadata": {
        "id": "fmlgoS9sXHTr",
        "colab_type": "code",
        "colab": {
          "base_uri": "https://localhost:8080/",
          "height": 235
        },
        "outputId": "65117bdf-64e6-4593-e065-196d755db39c"
      },
      "source": [
        "#Coluna de datas\n",
        "df.Date"
      ],
      "execution_count": 17,
      "outputs": [
        {
          "output_type": "execute_result",
          "data": {
            "text/plain": [
              "0      2019-06-10\n",
              "1      2019-06-11\n",
              "2      2019-06-12\n",
              "3      2019-06-13\n",
              "4      2019-06-14\n",
              "          ...    \n",
              "243    2020-06-02\n",
              "244    2020-06-03\n",
              "245    2020-06-04\n",
              "246    2020-06-05\n",
              "247    2020-06-08\n",
              "Name: Date, Length: 248, dtype: object"
            ]
          },
          "metadata": {
            "tags": []
          },
          "execution_count": 17
        }
      ]
    },
    {
      "cell_type": "markdown",
      "metadata": {
        "id": "MiG-TEmYXPZI",
        "colab_type": "text"
      },
      "source": [
        "Neste caso a coluna `Date` é do tipo `object`, uma `string`."
      ]
    },
    {
      "cell_type": "code",
      "metadata": {
        "id": "M4qF_d10XN1Y",
        "colab_type": "code",
        "colab": {}
      },
      "source": [
        "#converter para o tipo datetime\n",
        "df.Date = pd.to_datetime(df.Date, format='%Y-%m-%d')"
      ],
      "execution_count": 0,
      "outputs": []
    },
    {
      "cell_type": "code",
      "metadata": {
        "id": "nswEPpDgX-fM",
        "colab_type": "code",
        "colab": {
          "base_uri": "https://localhost:8080/",
          "height": 235
        },
        "outputId": "2c195030-8a7b-4ad1-fef3-0c1d49df5659"
      },
      "source": [
        "df.Date"
      ],
      "execution_count": 19,
      "outputs": [
        {
          "output_type": "execute_result",
          "data": {
            "text/plain": [
              "0     2019-06-10\n",
              "1     2019-06-11\n",
              "2     2019-06-12\n",
              "3     2019-06-13\n",
              "4     2019-06-14\n",
              "         ...    \n",
              "243   2020-06-02\n",
              "244   2020-06-03\n",
              "245   2020-06-04\n",
              "246   2020-06-05\n",
              "247   2020-06-08\n",
              "Name: Date, Length: 248, dtype: datetime64[ns]"
            ]
          },
          "metadata": {
            "tags": []
          },
          "execution_count": 19
        }
      ]
    },
    {
      "cell_type": "markdown",
      "metadata": {
        "id": "vHlGvhIlYLcL",
        "colab_type": "text"
      },
      "source": [
        "A partir desse ponto podemos realizar o fatiamento, utilizando os recursos do método Datetime.\n",
        "\n",
        "df.Date.`dt` - acessando os módulos do `datetime`."
      ]
    },
    {
      "cell_type": "code",
      "metadata": {
        "id": "RiTy-xmqYAxp",
        "colab_type": "code",
        "colab": {
          "base_uri": "https://localhost:8080/",
          "height": 235
        },
        "outputId": "3af9ee47-03f2-4562-8a79-4870b25570b6"
      },
      "source": [
        "df.Date.dt.year"
      ],
      "execution_count": 21,
      "outputs": [
        {
          "output_type": "execute_result",
          "data": {
            "text/plain": [
              "0      2019\n",
              "1      2019\n",
              "2      2019\n",
              "3      2019\n",
              "4      2019\n",
              "       ... \n",
              "243    2020\n",
              "244    2020\n",
              "245    2020\n",
              "246    2020\n",
              "247    2020\n",
              "Name: Date, Length: 248, dtype: int64"
            ]
          },
          "metadata": {
            "tags": []
          },
          "execution_count": 21
        }
      ]
    },
    {
      "cell_type": "code",
      "metadata": {
        "id": "WVza1UQOYgxQ",
        "colab_type": "code",
        "colab": {
          "base_uri": "https://localhost:8080/",
          "height": 235
        },
        "outputId": "ca31543c-0c6e-499d-ae53-0fdf109cb5b4"
      },
      "source": [
        "df.Date.dt.month"
      ],
      "execution_count": 22,
      "outputs": [
        {
          "output_type": "execute_result",
          "data": {
            "text/plain": [
              "0      6\n",
              "1      6\n",
              "2      6\n",
              "3      6\n",
              "4      6\n",
              "      ..\n",
              "243    6\n",
              "244    6\n",
              "245    6\n",
              "246    6\n",
              "247    6\n",
              "Name: Date, Length: 248, dtype: int64"
            ]
          },
          "metadata": {
            "tags": []
          },
          "execution_count": 22
        }
      ]
    },
    {
      "cell_type": "code",
      "metadata": {
        "id": "QEwMelUMYoHu",
        "colab_type": "code",
        "colab": {
          "base_uri": "https://localhost:8080/",
          "height": 235
        },
        "outputId": "7c2458a0-0b65-4278-c29a-324fe221e7b8"
      },
      "source": [
        "df.Date.dt.day"
      ],
      "execution_count": 24,
      "outputs": [
        {
          "output_type": "execute_result",
          "data": {
            "text/plain": [
              "0      10\n",
              "1      11\n",
              "2      12\n",
              "3      13\n",
              "4      14\n",
              "       ..\n",
              "243     2\n",
              "244     3\n",
              "245     4\n",
              "246     5\n",
              "247     8\n",
              "Name: Date, Length: 248, dtype: int64"
            ]
          },
          "metadata": {
            "tags": []
          },
          "execution_count": 24
        }
      ]
    },
    {
      "cell_type": "code",
      "metadata": {
        "id": "ZJScoNfaYsfF",
        "colab_type": "code",
        "colab": {
          "base_uri": "https://localhost:8080/",
          "height": 235
        },
        "outputId": "3be84d2c-93d4-4aa8-95f5-f284c3a5bede"
      },
      "source": [
        "df.Date.dt.dayofweek"
      ],
      "execution_count": 25,
      "outputs": [
        {
          "output_type": "execute_result",
          "data": {
            "text/plain": [
              "0      0\n",
              "1      1\n",
              "2      2\n",
              "3      3\n",
              "4      4\n",
              "      ..\n",
              "243    1\n",
              "244    2\n",
              "245    3\n",
              "246    4\n",
              "247    0\n",
              "Name: Date, Length: 248, dtype: int64"
            ]
          },
          "metadata": {
            "tags": []
          },
          "execution_count": 25
        }
      ]
    },
    {
      "cell_type": "code",
      "metadata": {
        "id": "HcwnmYHTY4nf",
        "colab_type": "code",
        "colab": {}
      },
      "source": [
        ""
      ],
      "execution_count": 0,
      "outputs": []
    }
  ]
}
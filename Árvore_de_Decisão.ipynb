{
  "nbformat": 4,
  "nbformat_minor": 0,
  "metadata": {
    "colab": {
      "name": "Árvore de Decisão.ipynb",
      "provenance": [],
      "collapsed_sections": [],
      "authorship_tag": "ABX9TyMBFlzg2e7tTvg2JUKb49Gk",
      "include_colab_link": true
    },
    "kernelspec": {
      "name": "python3",
      "display_name": "Python 3"
    }
  },
  "cells": [
    {
      "cell_type": "markdown",
      "metadata": {
        "id": "view-in-github",
        "colab_type": "text"
      },
      "source": [
        "<a href=\"https://colab.research.google.com/github/jonhsel/Data-Science/blob/master/%C3%81rvore_de_Decis%C3%A3o.ipynb\" target=\"_parent\"><img src=\"https://colab.research.google.com/assets/colab-badge.svg\" alt=\"Open In Colab\"/></a>"
      ]
    },
    {
      "cell_type": "markdown",
      "metadata": {
        "id": "ytBnNHJbQMQQ",
        "colab_type": "text"
      },
      "source": [
        "#Árvores de Decisão"
      ]
    },
    {
      "cell_type": "markdown",
      "metadata": {
        "id": "9MKvHH61RVdI",
        "colab_type": "text"
      },
      "source": [
        "É um algoritmo de machine learning, sendo um modelo de aprendizagem  supervisionado, que pode ser utilizado tanto para classificação quanto para regressão."
      ]
    },
    {
      "cell_type": "code",
      "metadata": {
        "id": "sjciMFEhQE7H",
        "colab_type": "code",
        "colab": {}
      },
      "source": [
        "#bibliotecas\n",
        "import pandas as pd\n",
        "import matplotlib.pyplot as plt\n",
        "import seaborn as sns\n",
        "from sklearn.model_selection import train_test_split\n",
        "from sklearn.metrics import classification_report, confusion_matrix, accuracy_score"
      ],
      "execution_count": null,
      "outputs": []
    },
    {
      "cell_type": "code",
      "metadata": {
        "id": "Cu-imrgJUE9B",
        "colab_type": "code",
        "colab": {}
      },
      "source": [
        "#modelo usado\n",
        "from sklearn.tree import DecisionTreeClassifier"
      ],
      "execution_count": null,
      "outputs": []
    },
    {
      "cell_type": "code",
      "metadata": {
        "id": "5gmmkP3vVzY9",
        "colab_type": "code",
        "colab": {}
      },
      "source": [
        "PATH = \"http://dl.dropboxusercontent.com/s/6d91j46mkcdj4qv/heart-disease-clean.csv?dl=1\""
      ],
      "execution_count": null,
      "outputs": []
    },
    {
      "cell_type": "code",
      "metadata": {
        "id": "HDx31xo3WIDE",
        "colab_type": "code",
        "colab": {}
      },
      "source": [
        "#dataframe\n",
        "df = pd.read_csv(PATH)\n",
        "df.head()"
      ],
      "execution_count": null,
      "outputs": []
    },
    {
      "cell_type": "code",
      "metadata": {
        "id": "pnRMWv9GWgMO",
        "colab_type": "code",
        "colab": {}
      },
      "source": [
        "# 1 - Definir modelo\n",
        "model = DecisionTreeClassifier(max_depth=4, criterion='entropy')"
      ],
      "execution_count": null,
      "outputs": []
    },
    {
      "cell_type": "code",
      "metadata": {
        "id": "9PdFGdEvlIK4",
        "colab_type": "code",
        "colab": {}
      },
      "source": [
        "# 2 - Features\n",
        "X = df.drop('num', axis=1)\n",
        "y = df['num']"
      ],
      "execution_count": null,
      "outputs": []
    },
    {
      "cell_type": "code",
      "metadata": {
        "id": "J8oaKUwAlk8U",
        "colab_type": "code",
        "colab": {}
      },
      "source": [
        "print(X.shape)\n",
        "print(y.shape)"
      ],
      "execution_count": null,
      "outputs": []
    },
    {
      "cell_type": "code",
      "metadata": {
        "id": "B8PF8B2Ul9vc",
        "colab_type": "code",
        "colab": {}
      },
      "source": [
        "# 2.1 - Dividir as features\n",
        "X_train, X_test, y_train, y_test = train_test_split(X, y)"
      ],
      "execution_count": null,
      "outputs": []
    },
    {
      "cell_type": "code",
      "metadata": {
        "id": "M9EYh3U9mjEg",
        "colab_type": "code",
        "colab": {}
      },
      "source": [
        "# 2.2 - Treinar o modelo\n",
        "model.fit(X_train, y_train)"
      ],
      "execution_count": null,
      "outputs": []
    },
    {
      "cell_type": "code",
      "metadata": {
        "id": "TbCPlSIam0bM",
        "colab_type": "code",
        "colab": {}
      },
      "source": [
        "# 3 - predição\n",
        "y_pred = model.predict(X_test)"
      ],
      "execution_count": null,
      "outputs": []
    },
    {
      "cell_type": "code",
      "metadata": {
        "id": "l7xAh2UKnHN5",
        "colab_type": "code",
        "colab": {}
      },
      "source": [
        "# 4 - Métricas\n",
        "print(classification_report(y_test, y_pred))"
      ],
      "execution_count": null,
      "outputs": []
    },
    {
      "cell_type": "code",
      "metadata": {
        "id": "Iay-yr5mnaWy",
        "colab_type": "code",
        "colab": {}
      },
      "source": [
        "fig, ax = plt.subplots(figsize = (7,7))\n",
        "\n",
        "sns.heatmap(confusion_matrix(y_test, y_pred), annot=True, ax=ax)\n",
        "ax.set_title(\"Matrix de Confusão\")\n",
        "ax.set_ylabel('Verdadeiro')\n",
        "ax.set_xlabel('Previsão')\n",
        "plt.show()"
      ],
      "execution_count": null,
      "outputs": []
    },
    {
      "cell_type": "code",
      "metadata": {
        "id": "H1C-mmtGoH0X",
        "colab_type": "code",
        "colab": {}
      },
      "source": [
        ""
      ],
      "execution_count": null,
      "outputs": []
    }
  ]
}
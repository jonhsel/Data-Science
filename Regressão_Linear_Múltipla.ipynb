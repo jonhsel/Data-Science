{
  "nbformat": 4,
  "nbformat_minor": 0,
  "metadata": {
    "colab": {
      "name": "Regressão Linear Múltipla.ipynb",
      "provenance": [],
      "private_outputs": true,
      "authorship_tag": "ABX9TyMG1ZWizTu6Pp6w3QxtKGVF",
      "include_colab_link": true
    },
    "kernelspec": {
      "name": "python3",
      "display_name": "Python 3"
    }
  },
  "cells": [
    {
      "cell_type": "markdown",
      "metadata": {
        "id": "view-in-github",
        "colab_type": "text"
      },
      "source": [
        "<a href=\"https://colab.research.google.com/github/jonhsel/Data-Science/blob/master/Regress%C3%A3o_Linear_M%C3%BAltipla.ipynb\" target=\"_parent\"><img src=\"https://colab.research.google.com/assets/colab-badge.svg\" alt=\"Open In Colab\"/></a>"
      ]
    },
    {
      "cell_type": "markdown",
      "metadata": {
        "id": "489KJg2WfEJg",
        "colab_type": "text"
      },
      "source": [
        "#Regressão Linear Múltipla"
      ]
    },
    {
      "cell_type": "code",
      "metadata": {
        "id": "aqqdOBEqLh2w",
        "colab_type": "code",
        "colab": {}
      },
      "source": [
        "import pandas as pd\n",
        "import matplotlib.pyplot as plt\n",
        "import seaborn as sns\n",
        "from sklearn.model_selection import train_test_split\n",
        "from sklearn.metrics import r2_score\n",
        "from sklearn.metrics import mean_absolute_error\n",
        "from sklearn.metrics import mean_squared_error\n",
        "\n",
        "PATH = \"http://dl.dropboxusercontent.com/s/gc1rm540g4i670n/precificacao_housing_plus.csv?dl=1\""
      ],
      "execution_count": null,
      "outputs": []
    },
    {
      "cell_type": "code",
      "metadata": {
        "id": "UkjxeSxegQq6",
        "colab_type": "code",
        "colab": {}
      },
      "source": [
        "#dataframe\n",
        "df = pd.read_csv(PATH)\n",
        "df.head()"
      ],
      "execution_count": null,
      "outputs": []
    },
    {
      "cell_type": "code",
      "metadata": {
        "id": "tyv1W__ugc-h",
        "colab_type": "code",
        "colab": {}
      },
      "source": [
        "df.info()"
      ],
      "execution_count": null,
      "outputs": []
    },
    {
      "cell_type": "markdown",
      "metadata": {
        "id": "Ku7t18bog-0t",
        "colab_type": "text"
      },
      "source": [
        "Vamos separar a variavel target do df"
      ]
    },
    {
      "cell_type": "code",
      "metadata": {
        "id": "jcO-3i0Sg-TW",
        "colab_type": "code",
        "colab": {}
      },
      "source": [
        "X = df.drop('SalePrice', axis=1)\n",
        "y = df['SalePrice']"
      ],
      "execution_count": null,
      "outputs": []
    },
    {
      "cell_type": "code",
      "metadata": {
        "id": "MU1AQQq8iEK8",
        "colab_type": "code",
        "colab": {}
      },
      "source": [
        "print(X.shape)\n",
        "print(y.shape)"
      ],
      "execution_count": null,
      "outputs": []
    },
    {
      "cell_type": "code",
      "metadata": {
        "id": "R4E6UmUai15w",
        "colab_type": "code",
        "colab": {}
      },
      "source": [
        "#dividir em treino e test\n",
        "X_train, X_test, y_train, y_test = train_test_split(X, y)"
      ],
      "execution_count": null,
      "outputs": []
    },
    {
      "cell_type": "code",
      "metadata": {
        "id": "WGE_n6d6jMWZ",
        "colab_type": "code",
        "colab": {}
      },
      "source": [
        "print('X_train:{}'.format(X_train.shape))\n",
        "print('X_test:{}'.format(X_test.shape))\n",
        "print('y_train:{}'.format(y_train.shape))\n",
        "print('y_test:{}'.format(y_test.shape))"
      ],
      "execution_count": null,
      "outputs": []
    },
    {
      "cell_type": "code",
      "metadata": {
        "id": "4Mte-vVhjXmG",
        "colab_type": "code",
        "colab": {}
      },
      "source": [
        "#importar a biblioteca\n",
        "from sklearn.linear_model import LinearRegression"
      ],
      "execution_count": null,
      "outputs": []
    },
    {
      "cell_type": "code",
      "metadata": {
        "id": "6_dmQ5sXkP94",
        "colab_type": "code",
        "colab": {}
      },
      "source": [
        "#criar o modelo\n",
        "model = LinearRegression()"
      ],
      "execution_count": null,
      "outputs": []
    },
    {
      "cell_type": "code",
      "metadata": {
        "id": "UBUjp3fkkY1q",
        "colab_type": "code",
        "colab": {}
      },
      "source": [
        "#treinar o modelo\n",
        "model.fit(X_train, y_train)"
      ],
      "execution_count": null,
      "outputs": []
    },
    {
      "cell_type": "code",
      "metadata": {
        "id": "uB6qfPxZk-7E",
        "colab_type": "code",
        "colab": {}
      },
      "source": [
        "#criar a previsão\n",
        "y_pred = model.predict(X_test)"
      ],
      "execution_count": null,
      "outputs": []
    },
    {
      "cell_type": "code",
      "metadata": {
        "id": "wh-AWODSlk2f",
        "colab_type": "code",
        "colab": {}
      },
      "source": [
        "#imprimir os coeficientes\n",
        "print('coeficientes',model.coef_)\n",
        "print('intercept',model.intercept_)"
      ],
      "execution_count": null,
      "outputs": []
    },
    {
      "cell_type": "code",
      "metadata": {
        "id": "lJcW0EvSl-z-",
        "colab_type": "code",
        "colab": {}
      },
      "source": [
        "#verificar o desempenho em cima do conjunto de testes\n",
        "print( 'r2_score', r2_score(y_test, y_pred))\n",
        "print('mean_absolute_error', mean_absolute_error(y_test, y_pred))\n",
        "print('mean_squared_error', mean_squared_error(y_test, y_pred))\n"
      ],
      "execution_count": null,
      "outputs": []
    },
    {
      "cell_type": "code",
      "metadata": {
        "id": "Zm5L25D7mi02",
        "colab_type": "code",
        "colab": {}
      },
      "source": [
        ""
      ],
      "execution_count": null,
      "outputs": []
    }
  ]
}
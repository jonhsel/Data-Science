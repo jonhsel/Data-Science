{
  "nbformat": 4,
  "nbformat_minor": 0,
  "metadata": {
    "colab": {
      "name": "Valores Ausentes.ipynb",
      "provenance": [],
      "toc_visible": true,
      "authorship_tag": "ABX9TyNhEvXXmX2ymMBFX8RDeE5N",
      "include_colab_link": true
    },
    "kernelspec": {
      "name": "python3",
      "display_name": "Python 3"
    }
  },
  "cells": [
    {
      "cell_type": "markdown",
      "metadata": {
        "id": "view-in-github",
        "colab_type": "text"
      },
      "source": [
        "<a href=\"https://colab.research.google.com/github/jonhsel/Data-Science/blob/master/Valores_Ausentes.ipynb\" target=\"_parent\"><img src=\"https://colab.research.google.com/assets/colab-badge.svg\" alt=\"Open In Colab\"/></a>"
      ]
    },
    {
      "cell_type": "markdown",
      "metadata": {
        "id": "B5yzTmbrfhO2",
        "colab_type": "text"
      },
      "source": [
        "#VALORES AUSENTES"
      ]
    },
    {
      "cell_type": "markdown",
      "metadata": {
        "id": "R-RSakQAfsUp",
        "colab_type": "text"
      },
      "source": [
        "Ao se trabalhar com Datasets conseguidos de órgãos públicos, governos e empresas, tenha em mente que raramente esses conjuntos de dados virão perfeitos. \n",
        "\n",
        "Algumas vezes podem ocorrer valores faltantes, a representação de nulo (0) poderá vir das mais diversas formas, uma coluna que não existia no começo, quando os dados começaram a serem colecionados, apareceu depois da troca de gestores (estes resolveram colocá-la) e muitas outras situações. Pois bem, isso acontece e acontece muito,  gerando a necessidade de adequação desses dados.\n",
        "\n",
        "Para resolver o problema, utilizamos diversas técnicas, como será apresentado nas próximas seções."
      ]
    },
    {
      "cell_type": "markdown",
      "metadata": {
        "id": "F7coAFD3hr05",
        "colab_type": "text"
      },
      "source": [
        "#DADOS UTILIZADOS"
      ]
    },
    {
      "cell_type": "markdown",
      "metadata": {
        "id": "wP5o22xNh0T8",
        "colab_type": "text"
      },
      "source": [
        "Utilizaremos o dataset do projeto BIKE, disponível na URL abaixo."
      ]
    },
    {
      "cell_type": "code",
      "metadata": {
        "id": "eGT12MAhfeI9",
        "colab_type": "code",
        "colab": {
          "base_uri": "https://localhost:8080/",
          "height": 339
        },
        "outputId": "2232f85a-8fde-45c0-d266-ea6dbfcc8945"
      },
      "source": [
        "DATA_PATH = \"http://dl.dropboxusercontent.com/s/yyfeoxqw61o3iel/df_rides.csv\"\n",
        "\n",
        "#importando as bibliotecas\n",
        "import pandas as pd\n",
        "\n",
        "#Criando o DF (data frame) a partir do csv\n",
        "df = pd.read_csv(DATA_PATH)\n",
        "\n",
        "#verificando os dados\n",
        "df.head()"
      ],
      "execution_count": 2,
      "outputs": [
        {
          "output_type": "execute_result",
          "data": {
            "text/html": [
              "<div>\n",
              "<style scoped>\n",
              "    .dataframe tbody tr th:only-of-type {\n",
              "        vertical-align: middle;\n",
              "    }\n",
              "\n",
              "    .dataframe tbody tr th {\n",
              "        vertical-align: top;\n",
              "    }\n",
              "\n",
              "    .dataframe thead th {\n",
              "        text-align: right;\n",
              "    }\n",
              "</style>\n",
              "<table border=\"1\" class=\"dataframe\">\n",
              "  <thead>\n",
              "    <tr style=\"text-align: right;\">\n",
              "      <th></th>\n",
              "      <th>user_gender</th>\n",
              "      <th>user_birthdate</th>\n",
              "      <th>user_residence</th>\n",
              "      <th>ride_date</th>\n",
              "      <th>time_start</th>\n",
              "      <th>time_end</th>\n",
              "      <th>station_start</th>\n",
              "      <th>station_end</th>\n",
              "      <th>ride_duration</th>\n",
              "      <th>ride_late</th>\n",
              "    </tr>\n",
              "  </thead>\n",
              "  <tbody>\n",
              "    <tr>\n",
              "      <th>0</th>\n",
              "      <td>M</td>\n",
              "      <td>1971-06-08</td>\n",
              "      <td>NaN</td>\n",
              "      <td>2018-01-01</td>\n",
              "      <td>06:05:18</td>\n",
              "      <td>06:21:33</td>\n",
              "      <td>11 - Rodoviária 2</td>\n",
              "      <td>41 - Instituto de Artes</td>\n",
              "      <td>16.250000</td>\n",
              "      <td>0.0</td>\n",
              "    </tr>\n",
              "    <tr>\n",
              "      <th>1</th>\n",
              "      <td>M</td>\n",
              "      <td>1989-02-11</td>\n",
              "      <td>DF</td>\n",
              "      <td>2018-01-01</td>\n",
              "      <td>06:27:01</td>\n",
              "      <td>06:32:17</td>\n",
              "      <td>26 - Ministério da Saude</td>\n",
              "      <td>28 - CNMP - Conselho Nacional do Ministério Pú...</td>\n",
              "      <td>5.266667</td>\n",
              "      <td>0.0</td>\n",
              "    </tr>\n",
              "    <tr>\n",
              "      <th>2</th>\n",
              "      <td>M</td>\n",
              "      <td>1968-07-19</td>\n",
              "      <td>NaN</td>\n",
              "      <td>2018-01-01</td>\n",
              "      <td>06:29:33</td>\n",
              "      <td>06:44:57</td>\n",
              "      <td>11 - Rodoviária 2</td>\n",
              "      <td>43 - Biblioteca Central</td>\n",
              "      <td>15.400000</td>\n",
              "      <td>0.0</td>\n",
              "    </tr>\n",
              "    <tr>\n",
              "      <th>3</th>\n",
              "      <td>M</td>\n",
              "      <td>1991-12-19</td>\n",
              "      <td>NaN</td>\n",
              "      <td>2018-01-01</td>\n",
              "      <td>06:53:53</td>\n",
              "      <td>06:59:45</td>\n",
              "      <td>10 - Ministério dos Transportes</td>\n",
              "      <td>6 - Rodoviária</td>\n",
              "      <td>5.866667</td>\n",
              "      <td>0.0</td>\n",
              "    </tr>\n",
              "    <tr>\n",
              "      <th>4</th>\n",
              "      <td>M</td>\n",
              "      <td>1969-03-03</td>\n",
              "      <td>DF</td>\n",
              "      <td>2018-01-01</td>\n",
              "      <td>06:58:56</td>\n",
              "      <td>17:40:04</td>\n",
              "      <td>15 - Brasil 21</td>\n",
              "      <td>11 - Rodoviária 2</td>\n",
              "      <td>641.133333</td>\n",
              "      <td>1.0</td>\n",
              "    </tr>\n",
              "  </tbody>\n",
              "</table>\n",
              "</div>"
            ],
            "text/plain": [
              "  user_gender user_birthdate  ... ride_duration ride_late\n",
              "0           M     1971-06-08  ...     16.250000       0.0\n",
              "1           M     1989-02-11  ...      5.266667       0.0\n",
              "2           M     1968-07-19  ...     15.400000       0.0\n",
              "3           M     1991-12-19  ...      5.866667       0.0\n",
              "4           M     1969-03-03  ...    641.133333       1.0\n",
              "\n",
              "[5 rows x 10 columns]"
            ]
          },
          "metadata": {
            "tags": []
          },
          "execution_count": 2
        }
      ]
    },
    {
      "cell_type": "markdown",
      "metadata": {
        "id": "sbvKjMRjk6QX",
        "colab_type": "text"
      },
      "source": [
        "Notamos, de cara, a  existência de valore ausentes na coluna `user_residence`, os valores `NaN`.\n",
        "\n",
        "Vamos analisar a existência a existência ou inexistência de mais dados.\n",
        "\n",
        "No primeiro momento, vamos utilizar o método `isnull()` que nos retornará como:\n",
        "* `True` os valore ausentes;\n",
        "* `False` os valores não nulos.\n",
        "\n"
      ]
    },
    {
      "cell_type": "code",
      "metadata": {
        "id": "y4UlR2E0jSYG",
        "colab_type": "code",
        "colab": {
          "base_uri": "https://localhost:8080/",
          "height": 427
        },
        "outputId": "6d2962b5-2c19-4c51-9132-a346b882ea86"
      },
      "source": [
        "#verificando os valores ausentes\n",
        "df.isnull()"
      ],
      "execution_count": 3,
      "outputs": [
        {
          "output_type": "execute_result",
          "data": {
            "text/html": [
              "<div>\n",
              "<style scoped>\n",
              "    .dataframe tbody tr th:only-of-type {\n",
              "        vertical-align: middle;\n",
              "    }\n",
              "\n",
              "    .dataframe tbody tr th {\n",
              "        vertical-align: top;\n",
              "    }\n",
              "\n",
              "    .dataframe thead th {\n",
              "        text-align: right;\n",
              "    }\n",
              "</style>\n",
              "<table border=\"1\" class=\"dataframe\">\n",
              "  <thead>\n",
              "    <tr style=\"text-align: right;\">\n",
              "      <th></th>\n",
              "      <th>user_gender</th>\n",
              "      <th>user_birthdate</th>\n",
              "      <th>user_residence</th>\n",
              "      <th>ride_date</th>\n",
              "      <th>time_start</th>\n",
              "      <th>time_end</th>\n",
              "      <th>station_start</th>\n",
              "      <th>station_end</th>\n",
              "      <th>ride_duration</th>\n",
              "      <th>ride_late</th>\n",
              "    </tr>\n",
              "  </thead>\n",
              "  <tbody>\n",
              "    <tr>\n",
              "      <th>0</th>\n",
              "      <td>False</td>\n",
              "      <td>False</td>\n",
              "      <td>True</td>\n",
              "      <td>False</td>\n",
              "      <td>False</td>\n",
              "      <td>False</td>\n",
              "      <td>False</td>\n",
              "      <td>False</td>\n",
              "      <td>False</td>\n",
              "      <td>False</td>\n",
              "    </tr>\n",
              "    <tr>\n",
              "      <th>1</th>\n",
              "      <td>False</td>\n",
              "      <td>False</td>\n",
              "      <td>False</td>\n",
              "      <td>False</td>\n",
              "      <td>False</td>\n",
              "      <td>False</td>\n",
              "      <td>False</td>\n",
              "      <td>False</td>\n",
              "      <td>False</td>\n",
              "      <td>False</td>\n",
              "    </tr>\n",
              "    <tr>\n",
              "      <th>2</th>\n",
              "      <td>False</td>\n",
              "      <td>False</td>\n",
              "      <td>True</td>\n",
              "      <td>False</td>\n",
              "      <td>False</td>\n",
              "      <td>False</td>\n",
              "      <td>False</td>\n",
              "      <td>False</td>\n",
              "      <td>False</td>\n",
              "      <td>False</td>\n",
              "    </tr>\n",
              "    <tr>\n",
              "      <th>3</th>\n",
              "      <td>False</td>\n",
              "      <td>False</td>\n",
              "      <td>True</td>\n",
              "      <td>False</td>\n",
              "      <td>False</td>\n",
              "      <td>False</td>\n",
              "      <td>False</td>\n",
              "      <td>False</td>\n",
              "      <td>False</td>\n",
              "      <td>False</td>\n",
              "    </tr>\n",
              "    <tr>\n",
              "      <th>4</th>\n",
              "      <td>False</td>\n",
              "      <td>False</td>\n",
              "      <td>False</td>\n",
              "      <td>False</td>\n",
              "      <td>False</td>\n",
              "      <td>False</td>\n",
              "      <td>False</td>\n",
              "      <td>False</td>\n",
              "      <td>False</td>\n",
              "      <td>False</td>\n",
              "    </tr>\n",
              "    <tr>\n",
              "      <th>...</th>\n",
              "      <td>...</td>\n",
              "      <td>...</td>\n",
              "      <td>...</td>\n",
              "      <td>...</td>\n",
              "      <td>...</td>\n",
              "      <td>...</td>\n",
              "      <td>...</td>\n",
              "      <td>...</td>\n",
              "      <td>...</td>\n",
              "      <td>...</td>\n",
              "    </tr>\n",
              "    <tr>\n",
              "      <th>287317</th>\n",
              "      <td>False</td>\n",
              "      <td>False</td>\n",
              "      <td>False</td>\n",
              "      <td>False</td>\n",
              "      <td>False</td>\n",
              "      <td>False</td>\n",
              "      <td>False</td>\n",
              "      <td>False</td>\n",
              "      <td>False</td>\n",
              "      <td>False</td>\n",
              "    </tr>\n",
              "    <tr>\n",
              "      <th>287318</th>\n",
              "      <td>False</td>\n",
              "      <td>False</td>\n",
              "      <td>True</td>\n",
              "      <td>False</td>\n",
              "      <td>False</td>\n",
              "      <td>False</td>\n",
              "      <td>False</td>\n",
              "      <td>False</td>\n",
              "      <td>False</td>\n",
              "      <td>False</td>\n",
              "    </tr>\n",
              "    <tr>\n",
              "      <th>287319</th>\n",
              "      <td>False</td>\n",
              "      <td>False</td>\n",
              "      <td>False</td>\n",
              "      <td>False</td>\n",
              "      <td>False</td>\n",
              "      <td>False</td>\n",
              "      <td>False</td>\n",
              "      <td>False</td>\n",
              "      <td>False</td>\n",
              "      <td>False</td>\n",
              "    </tr>\n",
              "    <tr>\n",
              "      <th>287320</th>\n",
              "      <td>False</td>\n",
              "      <td>False</td>\n",
              "      <td>True</td>\n",
              "      <td>False</td>\n",
              "      <td>False</td>\n",
              "      <td>False</td>\n",
              "      <td>False</td>\n",
              "      <td>False</td>\n",
              "      <td>False</td>\n",
              "      <td>False</td>\n",
              "    </tr>\n",
              "    <tr>\n",
              "      <th>287321</th>\n",
              "      <td>False</td>\n",
              "      <td>False</td>\n",
              "      <td>True</td>\n",
              "      <td>False</td>\n",
              "      <td>False</td>\n",
              "      <td>False</td>\n",
              "      <td>False</td>\n",
              "      <td>False</td>\n",
              "      <td>False</td>\n",
              "      <td>False</td>\n",
              "    </tr>\n",
              "  </tbody>\n",
              "</table>\n",
              "<p>287322 rows × 10 columns</p>\n",
              "</div>"
            ],
            "text/plain": [
              "        user_gender  user_birthdate  ...  ride_duration  ride_late\n",
              "0             False           False  ...          False      False\n",
              "1             False           False  ...          False      False\n",
              "2             False           False  ...          False      False\n",
              "3             False           False  ...          False      False\n",
              "4             False           False  ...          False      False\n",
              "...             ...             ...  ...            ...        ...\n",
              "287317        False           False  ...          False      False\n",
              "287318        False           False  ...          False      False\n",
              "287319        False           False  ...          False      False\n",
              "287320        False           False  ...          False      False\n",
              "287321        False           False  ...          False      False\n",
              "\n",
              "[287322 rows x 10 columns]"
            ]
          },
          "metadata": {
            "tags": []
          },
          "execution_count": 3
        }
      ]
    },
    {
      "cell_type": "markdown",
      "metadata": {
        "id": "SP2TmEcNjRd1",
        "colab_type": "text"
      },
      "source": [
        "Constatamos a existência de mais valores ausentes, porém a visualização se mostra um pouco confusa.\n",
        "\n",
        "Como os dados faltantes são retornados como True, o interpretador o entende como 1, assim, uma solução é realizar uma agregação, um somatório. "
      ]
    },
    {
      "cell_type": "code",
      "metadata": {
        "id": "OKlEUWRin_Gx",
        "colab_type": "code",
        "colab": {
          "base_uri": "https://localhost:8080/",
          "height": 217
        },
        "outputId": "8b265979-afc6-4d3b-9350-a30ab756b63c"
      },
      "source": [
        "#somando os valores ausentes\n",
        "df.isnull().sum()"
      ],
      "execution_count": 4,
      "outputs": [
        {
          "output_type": "execute_result",
          "data": {
            "text/plain": [
              "user_gender          396\n",
              "user_birthdate         1\n",
              "user_residence    179905\n",
              "ride_date              0\n",
              "time_start             0\n",
              "time_end           43285\n",
              "station_start          0\n",
              "station_end            0\n",
              "ride_duration      73174\n",
              "ride_late          73174\n",
              "dtype: int64"
            ]
          },
          "metadata": {
            "tags": []
          },
          "execution_count": 4
        }
      ]
    },
    {
      "cell_type": "markdown",
      "metadata": {
        "id": "P-6wvThEo2hz",
        "colab_type": "text"
      },
      "source": [
        "Percebe-se que existem muitos valores ausentes. Veremos alguns:\n",
        "* `user_gender` - Faltam 396 campos;\n",
        "* `user_residence` - Faltam 179905 campos;"
      ]
    },
    {
      "cell_type": "markdown",
      "metadata": {
        "id": "R6iWONqppsMe",
        "colab_type": "text"
      },
      "source": [
        "Outra prática é realizar o cálculo percentual, dividindo os valores obtidos pelo total de dados."
      ]
    },
    {
      "cell_type": "code",
      "metadata": {
        "id": "CVOl0D-XoEVN",
        "colab_type": "code",
        "colab": {
          "base_uri": "https://localhost:8080/",
          "height": 217
        },
        "outputId": "2de57b2c-0e75-444d-f745-07824175a148"
      },
      "source": [
        "df.isnull().sum() / df.shape[0] * 100"
      ],
      "execution_count": 5,
      "outputs": [
        {
          "output_type": "execute_result",
          "data": {
            "text/plain": [
              "user_gender        0.137824\n",
              "user_birthdate     0.000348\n",
              "user_residence    62.614419\n",
              "ride_date          0.000000\n",
              "time_start         0.000000\n",
              "time_end          15.064979\n",
              "station_start      0.000000\n",
              "station_end        0.000000\n",
              "ride_duration     25.467594\n",
              "ride_late         25.467594\n",
              "dtype: float64"
            ]
          },
          "metadata": {
            "tags": []
          },
          "execution_count": 5
        }
      ]
    },
    {
      "cell_type": "markdown",
      "metadata": {
        "id": "m6wdtddxrDV5",
        "colab_type": "text"
      },
      "source": [
        "#EXCLUSÃO DE VALORES"
      ]
    },
    {
      "cell_type": "markdown",
      "metadata": {
        "id": "gTlSauCprG_P",
        "colab_type": "text"
      },
      "source": [
        "Umas das alternativas é a exclusão dos valores ausentes do DataFrame.\n",
        "\n",
        "O método `dropna()` remove valores faltantes. Ele aceita como parâmetros:\n",
        "* `axis=0 ` - para eliminar os valores nas linhas;\n",
        "* `axis=1`  - para eliminar colunas."
      ]
    },
    {
      "cell_type": "code",
      "metadata": {
        "id": "UJ0TBQNAp2Q2",
        "colab_type": "code",
        "colab": {
          "base_uri": "https://localhost:8080/",
          "height": 54
        },
        "outputId": "6867f86c-4005-43f1-9cc1-a353697c6a94"
      },
      "source": [
        "#eliminando os valores ausentes\n",
        "df_clean = df.dropna(subset=['user_gender'], axis=0)\n",
        "\n",
        "#comparar resultados\n",
        "print(\"Antes:\\t{}\".format(df.shape[0]))\n",
        "print(\"Depois:\\t{}\".format(df_clean.shape[0]))"
      ],
      "execution_count": 6,
      "outputs": [
        {
          "output_type": "stream",
          "text": [
            "Antes:\t287322\n",
            "Depois:\t286926\n"
          ],
          "name": "stdout"
        }
      ]
    },
    {
      "cell_type": "markdown",
      "metadata": {
        "id": "9dwl98yDtmtJ",
        "colab_type": "text"
      },
      "source": [
        "#PREENCHIMENTO DE VALORES"
      ]
    },
    {
      "cell_type": "markdown",
      "metadata": {
        "id": "UJCmyTAYto-v",
        "colab_type": "text"
      },
      "source": [
        "Outra solução é o preenchimento de valores com um valor unitário ou com uma média, mediana..."
      ]
    },
    {
      "cell_type": "code",
      "metadata": {
        "id": "9upQ-wNQuFV6",
        "colab_type": "code",
        "colab": {
          "base_uri": "https://localhost:8080/",
          "height": 217
        },
        "outputId": "9bee9050-5b6d-4601-b154-ef2f6e8c9a1d"
      },
      "source": [
        "#Visualização dos dados ausentes\n",
        "\n",
        "df_clean.isnull().sum()"
      ],
      "execution_count": 7,
      "outputs": [
        {
          "output_type": "execute_result",
          "data": {
            "text/plain": [
              "user_gender            0\n",
              "user_birthdate         1\n",
              "user_residence    179818\n",
              "ride_date              0\n",
              "time_start             0\n",
              "time_end           43212\n",
              "station_start          0\n",
              "station_end            0\n",
              "ride_duration      73064\n",
              "ride_late          73064\n",
              "dtype: int64"
            ]
          },
          "metadata": {
            "tags": []
          },
          "execution_count": 7
        }
      ]
    },
    {
      "cell_type": "code",
      "metadata": {
        "id": "-rPkS0les8-t",
        "colab_type": "code",
        "colab": {}
      },
      "source": [
        "#criar vaiavel re-median para receber a mediana\n",
        "rd_median = df_clean.ride_duration.median()\n",
        "\n",
        "#subitituir a variavel pelos valores da mediana\n",
        "df_clean = df_clean.fillna({'ride_duration': rd_median})"
      ],
      "execution_count": 0,
      "outputs": []
    },
    {
      "cell_type": "markdown",
      "metadata": {
        "id": "DzORI3zkwIpt",
        "colab_type": "text"
      },
      "source": [
        "Verificando novamente,notamos que os valores foram preenchidos."
      ]
    },
    {
      "cell_type": "code",
      "metadata": {
        "id": "jovPg4VcugJl",
        "colab_type": "code",
        "colab": {
          "base_uri": "https://localhost:8080/",
          "height": 217
        },
        "outputId": "125df8e3-ef12-457b-b3a0-66b1658af1ac"
      },
      "source": [
        "df_clean.isnull().sum()"
      ],
      "execution_count": 11,
      "outputs": [
        {
          "output_type": "execute_result",
          "data": {
            "text/plain": [
              "user_gender            0\n",
              "user_birthdate         1\n",
              "user_residence    179818\n",
              "ride_date              0\n",
              "time_start             0\n",
              "time_end           43212\n",
              "station_start          0\n",
              "station_end            0\n",
              "ride_duration          0\n",
              "ride_late          73064\n",
              "dtype: int64"
            ]
          },
          "metadata": {
            "tags": []
          },
          "execution_count": 11
        }
      ]
    }
  ]
}